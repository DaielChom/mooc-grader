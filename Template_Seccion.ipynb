{
 "cells": [
  {
   "cell_type": "markdown",
   "metadata": {},
   "source": [
    "# PROBLEMSET N°1"
   ]
  },
  {
   "cell_type": "code",
   "execution_count": 4,
   "metadata": {},
   "outputs": [
    {
     "name": "stdout",
     "output_type": "stream",
     "text": [
      "CLICK ON THIS LINK TO AUTHENTICATE WITH YOUR GMAIL ACCOUNT\n",
      "https://accounts.google.com/o/oauth2/auth?scope=profile+email&redirect_uri=http%3A%2F%2Flocalhost%3A8111&response_type=code&client_id=290656168901-nqtt75qvf2qpski4n6eb99oaj4sg2j2f.apps.googleusercontent.com&access_type=offline\n",
      "waiting for authentication ...\n",
      "authentication succeeded\n"
     ]
    },
    {
     "data": {
      "text/html": [
       "<table><tr><td><img src='https://lh6.googleusercontent.com/-7sw-5dKSmos/AAAAAAAAAAI/AAAAAAAALnM/1GJcpxsQ49s/photo.jpg' width=60 height=60/></td><td>geminisda@gmail.com<br/>Daniel Carvajal<br/>google id: 112724590988201209691<br/>authorization code: 4/AAA3-i1E39B-nKcKgER6tXT1VNIQ6aRXirPjMD1rZFVjxfcGle3p-m21cub8RqcI9_Ipz4HlrHzV5w1LeLIZ-1o</td></tr></table>"
      ],
      "text/plain": [
       "<IPython.core.display.HTML object>"
      ]
     },
     "execution_count": 4,
     "metadata": {},
     "output_type": "execute_result"
    }
   ],
   "source": [
    "from mooclib import *\n",
    "import inspect, urllib\n",
    "html, auth_code, userinfo = google_authenticate(PORT_NUMBER=8111)\n",
    "html"
   ]
  },
  {
   "cell_type": "markdown",
   "metadata": {},
   "source": [
    "### Ejercicio N - 1:\n",
    "\n",
    "Consiste en adivinar el nombre del maestro."
   ]
  },
  {
   "cell_type": "code",
   "execution_count": 75,
   "metadata": {},
   "outputs": [
    {
     "name": "stdout",
     "output_type": "stream",
     "text": [
      "Overwriting utils/student_function/student_PS1_1.py\n"
     ]
    }
   ],
   "source": [
    "%%writefile utils/student_function/student_PS1_1.py\n",
    "## Ejercicio del estudiante\n",
    "\n",
    "def adivina():\n",
    "    nombre_profesor = \"Daniel\" # Adivine el nombre del profesor\n",
    "    return nombre_profesor"
   ]
  },
  {
   "cell_type": "code",
   "execution_count": 1,
   "metadata": {},
   "outputs": [
    {
     "data": {
      "text/plain": [
       "'Daniel'"
      ]
     },
     "execution_count": 1,
     "metadata": {},
     "output_type": "execute_result"
    }
   ],
   "source": [
    "%run -i utils/student_function/student_PS1_1.py\n",
    "adivina()"
   ]
  },
  {
   "cell_type": "code",
   "execution_count": 2,
   "metadata": {},
   "outputs": [
    {
     "name": "stdout",
     "output_type": "stream",
     "text": [
      "Felicitaciones\n",
      "evaluation result 5.0 \n"
     ]
    }
   ],
   "source": [
    "!./run CHECK_SOLUTION PS1_1"
   ]
  },
  {
   "cell_type": "code",
   "execution_count": 18,
   "metadata": {},
   "outputs": [
    {
     "name": "stdout",
     "output_type": "stream",
     "text": [
      "connecting ... registering submission for geminisda@gmail.com ...\n",
      "Entro\n",
      "Felicitaciones\n",
      "your submissions sheet is https://docs.google.com/spreadsheets/d/1hoRDqf9goxk1RzUny0d_hTHNToS-3C6gSeHINZBVLsQ\n",
      "----\n",
      "evaluation result 5.0 , submission registered\n"
     ]
    }
   ],
   "source": [
    "!./run SUBMIT_SOLUTION PS3_2"
   ]
  },
  {
   "cell_type": "markdown",
   "metadata": {},
   "source": [
    "### Ejercicio N - 2:\n",
    "\n",
    "Consiste en adivinar la iniciarl del nombre del maestro."
   ]
  },
  {
   "cell_type": "code",
   "execution_count": 32,
   "metadata": {},
   "outputs": [
    {
     "name": "stdout",
     "output_type": "stream",
     "text": [
      "Overwriting utils/student_function/student_PS1_3.c\n"
     ]
    }
   ],
   "source": [
    "%%writefile utils/student_function/student_PS1_2.c\n",
    "\n",
    "char mean() {\n",
    "    return 'D';\n",
    "}"
   ]
  },
  {
   "cell_type": "code",
   "execution_count": 33,
   "metadata": {},
   "outputs": [
    {
     "name": "stdout",
     "output_type": "stream",
     "text": [
      "Excelente\n",
      "evaluation result 5.0 \n"
     ]
    }
   ],
   "source": [
    "!./run CHECK_SOLUTION PS1_2"
   ]
  },
  {
   "cell_type": "code",
   "execution_count": 68,
   "metadata": {},
   "outputs": [
    {
     "name": "stdout",
     "output_type": "stream",
     "text": [
      "connecting ... registering submission for geminisda@gmail.com ...\n",
      "pid PS1_1\n",
      "Entro\n",
      "6\n",
      "['SECTION NAME', 'PS1', 'PS2', 'PS3', 'QZ1', 'QZ2', '', '', '', '', '', '', '', '', '', '', '', '', '', '', '', '', '', '', '', '', '', '', '', '', '', '', '', '', '', '', '', '', '', '', '', '', '', '', '', '', '', '', '', '', '', '', '', '', '', '', '', '', '', '', '', '', '', '', '', '', '', '', '', '', '', '', '', '', '', '', '', '', '', '', '', '', '', '', '', '', '', '', '', '', '', '', '', '', '', '', '', '', '', '', '']\n",
      "1\n",
      "2019/09/20 00:00:00 [-0500]\n",
      "salio\n",
      "pid PS1_1\n",
      "Entro\n",
      "8\n",
      "['SECTION NAME', 'PS1', 'PS2', 'PS3', 'QZ1', 'QZ2', '', '', '', '', '', '', '', '', '', '', '', '', '', '', '', '', '', '', '', '', '', '', '', '', '', '', '', '', '', '', '', '', '', '', '', '', '', '', '', '', '', '', '', '', '', '', '', '', '', '', '', '', '', '', '', '', '', '', '', '', '', '', '', '', '', '', '', '', '', '', '', '', '', '', '', '', '', '', '', '', '', '', '', '', '', '', '', '', '', '', '', '', '', '', '']\n",
      "1\n",
      "2017/09/20 00:00:00 [-0500]\n",
      "salio\n",
      "Felicitaciones\n",
      "SOFTDEADLINE\n",
      "SUBMITTED AFTER SOFT DEADLINE\n",
      "your submissions sheet is https://docs.google.com/spreadsheets/d/1hoRDqf9goxk1RzUny0d_hTHNToS-3C6gSeHINZBVLsQ\n",
      "----\n",
      "evaluation result 5.0 , submission registered\n"
     ]
    }
   ],
   "source": [
    "!./run SUBMIT_SOLUTION PS1_1"
   ]
  },
  {
   "cell_type": "code",
   "execution_count": null,
   "metadata": {
    "collapsed": true
   },
   "outputs": [],
   "source": []
  }
 ],
 "metadata": {
  "kernelspec": {
   "display_name": "Python 2",
   "language": "python",
   "name": "python2"
  },
  "language_info": {
   "codemirror_mode": {
    "name": "ipython",
    "version": 2
   },
   "file_extension": ".py",
   "mimetype": "text/x-python",
   "name": "python",
   "nbconvert_exporter": "python",
   "pygments_lexer": "ipython2",
   "version": "2.7.14"
  }
 },
 "nbformat": 4,
 "nbformat_minor": 2
}
