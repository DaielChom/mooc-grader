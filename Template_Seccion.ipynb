{
 "cells": [
  {
   "cell_type": "markdown",
   "metadata": {},
   "source": [
    "# QUIZ N°1"
   ]
  },
  {
   "cell_type": "code",
   "execution_count": 2,
   "metadata": {},
   "outputs": [
    {
     "name": "stdout",
     "output_type": "stream",
     "text": [
      "CLICK ON THIS LINK TO AUTHENTICATE WITH YOUR GMAIL ACCOUNT\n",
      "https://accounts.google.com/o/oauth2/auth?scope=profile+email&redirect_uri=http%3A%2F%2Flocalhost%3A8111&response_type=code&client_id=290656168901-nqtt75qvf2qpski4n6eb99oaj4sg2j2f.apps.googleusercontent.com&access_type=offline\n",
      "waiting for authentication ...\n",
      "authentication succeeded\n"
     ]
    },
    {
     "data": {
      "text/html": [
       "<table><tr><td><img src='https://lh6.googleusercontent.com/-7sw-5dKSmos/AAAAAAAAAAI/AAAAAAAALnM/1GJcpxsQ49s/photo.jpg' width=60 height=60/></td><td>geminisda@gmail.com<br/>Daniel Carvajal<br/>google id: 112724590988201209691<br/>authorization code: 4/R2j2rHtQR3gMjxwWZNBry00OlWpra2h1qQIMxsTDKBc</td></tr></table>"
      ],
      "text/plain": [
       "<IPython.core.display.HTML object>"
      ]
     },
     "execution_count": 2,
     "metadata": {},
     "output_type": "execute_result"
    }
   ],
   "source": [
    "from mooclib import *\n",
    "import inspect, urllib\n",
    "html, auth_code, userinfo = google_authenticate(PORT_NUMBER=8111)\n",
    "html"
   ]
  },
  {
   "cell_type": "markdown",
   "metadata": {},
   "source": [
    "### Ejercicio N - 1:\n",
    "\n",
    "Consiste en adivinar el nombre del maestro."
   ]
  },
  {
   "cell_type": "code",
   "execution_count": 3,
   "metadata": {
    "collapsed": true
   },
   "outputs": [],
   "source": [
    "def adivina():\n",
    "    nombre_profesor = \"Daniel\" # Adivine el nombre del profesor\n",
    "    return nombre_profesor\n",
    "\n",
    "import urllib, inspect\n",
    "src1 = urllib.quote_plus(inspect.getsource(adivina))"
   ]
  },
  {
   "cell_type": "code",
   "execution_count": 5,
   "metadata": {},
   "outputs": [
    {
     "name": "stdout",
     "output_type": "stream",
     "text": [
      "evaluation result 5 \r\n"
     ]
    }
   ],
   "source": [
    "!./run CHECK_SOLUTION QZ1_1 $src1"
   ]
  },
  {
   "cell_type": "code",
   "execution_count": 6,
   "metadata": {},
   "outputs": [
    {
     "name": "stdout",
     "output_type": "stream",
     "text": [
      "connecting ... registering submission for geminisda@gmail.com ...\n",
      "your submissions sheet is https://docs.google.com/spreadsheets/d/1hoRDqf9goxk1RzUny0d_hTHNToS-3C6gSeHINZBVLsQ\n",
      "----\n",
      "evaluation result 5 , submission registered\n"
     ]
    }
   ],
   "source": [
    "!./run SUBMIT_SOLUTION QZ1_1 $src1"
   ]
  }
 ],
 "metadata": {
  "kernelspec": {
   "display_name": "Python 2",
   "language": "python",
   "name": "python2"
  },
  "language_info": {
   "codemirror_mode": {
    "name": "ipython",
    "version": 2
   },
   "file_extension": ".py",
   "mimetype": "text/x-python",
   "name": "python",
   "nbconvert_exporter": "python",
   "pygments_lexer": "ipython2",
   "version": "2.7.13"
  }
 },
 "nbformat": 4,
 "nbformat_minor": 2
}
