{
 "cells": [
  {
   "cell_type": "markdown",
   "metadata": {},
   "source": [
    "<center>\n",
    "<h1 style=\"color:#3F51B5\"> INSTRUCCIONES</h1>\n",
    "</center>\n",
    "\n",
    "`Mooc-grader` es un `framework` diseñado para la implementación de `notebooks` en la elaboración y calificación de talleres (`PROBLEMSET`) y evaluaciones (`QUIZZES`) de un curso. La calificación se hace de manera automática mediante el uso de calificadores o `graders` registrando las notas en una hoja de cálculo de `Drive` compartida entre el tutor y el estudiante.\n",
    "\n",
    "Para iniciar la elaboración del curso, es decir la implementación del `framework`, por favor siga las siguientes instrucciones.\n",
    "\n",
    "**Nota:** Durante la guía se deberán agregan varios parámetros, configurar una `API` de `Google`, entre otras cosas, todo esto necesario para el funcionamiento del `framework`, una mala elaboración de las instrucciones conllevará al mal funcionamiento del mismo."
   ]
  },
  {
   "cell_type": "markdown",
   "metadata": {},
   "source": [
    "<h2 style=\"color:#3F51B5\"> 1. ESTRUCTURA DEL CURSO</h2>\n",
    "\n",
    "Un curso es un conjunto de `problemsets`, `quizzes` o apuntes, con nota y fecha de entrega, que servirán al estudiante como material de estudio o de trabajo. Para el funcionamiento del `framework` es necesario una estructura de curso bien definida. La estructura que se maneja es un diccionario con los siguientes parámetros:\n",
    "\n",
    "* **nombre-curso:** Nombre del curso. *Ej. Biologia2017*\n",
    "* **bloque:** Hace referencia al grupo de trabajos que tienen un valor directo sobre la nota final. Se recomienda que se trate de un conjunto de varios notebooks. *Ej. PROBLEMSET, QUIZ*\n",
    "* **Tamaño-bloque:** Porcentaje del bloque en la nota final. *Ej. 0.3 (30%), 0.7(70%).*\n",
    "* **Sección:** Cada una de las secciones de un bloque, es decir aquellas actividades que tienen un valor directo sobre cada bloque. Se recomienda que cada sección sea un notebook en concreto. *Ej. PROBLEMSET_1 (PS1), QUIZ_1 (QZ1).*\n",
    "* **Ejercicios:** Cada uno de los ejercicios propuestos para cada Sección. *Ej. Ejercicio #3, PS1_3, QZ2_1*\n",
    "* **Fecha-limite:** Fecha límite para la entrega de cada sección *Ej. 2017/04/23 12:30:00 [-0500]*\n",
    "* **Penalización:** Penalización a la nota de la sección por sobre pasar la fecha límite. *Ej. 0,2.*\n",
    "* **Nota-máxima:** nota máxima que puede tomar cada sección. *Ej. 5.*\n",
    "\n",
    "El `framework` permite la elaboración de dos tipos de `secciones`, los `no dinámicos` o `problemset` y los `dinámicos` o `quiz`.\n",
    "\n",
    "Un `PROBLEMSET` es una `sección` en la que los ejercicios están asignados con anterioridad, es decir un notebook en el cual están los ejercicios propuestos para estudiante y son los mismos ejercicios para todos los estudiantes, lo que comúnmente se conocería como `Taller`.\n",
    "\n",
    "Un `QUIZ` es una `sección` en la que los ejercicios no están asignados, si no que se toman de un conjunto externo de ejercicios y una cantidad N menor se le asigna a cada estudiante. Cada notebook que sea un `quiz` es diferente para cada estudiante, es decir cada notebook tiene ejercicios diferente por estudiante, sin embargo, el cada estudiante siempre tendrá los mismos ejercicios. Un `quiz` es lo que comúnmente se conoce como Quiz, Parcial o Evaluación, donde los tutores crean ejercicios diferentes para medir el conocimiento de sus estudiantes y para evitar la copia o el fraude."
   ]
  },
  {
   "cell_type": "markdown",
   "metadata": {
    "collapsed": true
   },
   "source": [
    "<h3 style=\"color:#3F51B5\">1.1 EJEMPLO DE UN CURSO  </h3>\n",
    "\n",
    "El `framework` exige dichas definiciones como un diccionario, el cual ya tiene cierta estructura definida. A continuación, un ejemplo."
   ]
  },
  {
   "cell_type": "markdown",
   "metadata": {
    "scrolled": true
   },
   "source": [
    "    course = {'name' : 2016AI,\n",
    "            'PROBLEM_SETS:{\n",
    "                      'weight:0.4,\n",
    "                      'defs:{\n",
    "                           'PS1':{'problems':['PS1_1', 'PS1_2', 'PS1_3', 'PS1_4'],\n",
    "                                  'deadlines':{'2017/09/18 00:00:00 [-0500]':{'penalty':0.5,'name':'finaldeadline'}},\n",
    "                                  'maxgrade': 5.0\n",
    "                                  },\n",
    "                           'PS2':{'problems':['PS2_1', 'PS2_2', 'PS2_3', 'PS2_4', 'PS2_5'],\n",
    "                                  'deadlines':{'2017/09/18 00:00:00 [-0500]':{'penalty':0.5,'name':'finaldeadline'}},\n",
    "                                  'maxgrade': 5.0\n",
    "                                  },\n",
    "                           'PS3':{'problems': ['PS3_1', 'PS3_2', 'PS3_3', 'PS3_4', 'PS3_5'],\n",
    "                                  'deadlines':{'2017/10/30 00:00:00 [-0500]':{'penalty':0.5,'name':'finaldeadline'}},\n",
    "                                  'maxgrade': 5.0\n",
    "                                  },\n",
    "                           'PS4':{'problems':['PS4_1', 'PS4_2', 'PS4_3'],\n",
    "                                  'deadlines':{'2017/10/30 00:00:00 [-0500]':{'penalty':0.5,'name':'finaldeadline'}},\n",
    "                                  'maxgrade': 5.0\n",
    "                                  },\n",
    "                           'PS5':{'problems':['PS5_1', 'PS5_2', 'PS5_3'],\n",
    "                                  'deadlines':{'2017/10/30 00:00:00 [-0500]':{'penalty':0.5,'name':'final deadline'}},\n",
    "                                  'maxgrade': 5.0\n",
    "                                  },\n",
    "                           'PS6':{'problems':  ['PS6_1', 'PS6_2', 'PS6_3'],\n",
    "                                  'deadlines':{'2017/12/04 00:00:00 [-0500]':{'penalty':0.5,'name':'finaldeadline'}},\n",
    "                                  'maxgrade': 5.0\n",
    "                                  },\n",
    "                           'PS7':{'problems':['PS7_1', 'PS7_2', 'PS7_3'],\n",
    "                                  'deadlines':{'2017/12/04 00:00:00 [-0500]':{'penalty': 0.5,'name':'finaldeadline'}},\n",
    "                                  'maxgrade': 5.0\n",
    "                                  },\n",
    "                           'PS8':{'problems':['PS8_1', 'PS8_2'],\n",
    "                                  'deadlines':{'2017/12/04 00:00:00 [-0500]':{'penalty':0.5,'name':'final deadline'}},\n",
    "                                  'maxgrade': 5.0\n",
    "                                  }\n",
    "                            }\n",
    "                          },\n",
    "            'QUIZES':{\n",
    "                      'weight': 0.3,\n",
    "                      'defs':{\n",
    "                           'QZ1':'dynamic',\n",
    "                           'QZ2':'dynamic',            \n",
    "                           'QZ3':'dynamic'\n",
    "                             }\n",
    "                          },\n",
    "            'MOOC':{\n",
    "                      'weight': 0.3,\n",
    "                      'defs': {\n",
    "                           'MOOC' :  {'problems':  ['MOOC_DIFFICULTY', 'MOOC_COMPLETION', 'MOOC_CLARITY'],\n",
    "                           'deadlines':{'2017/09/21 18:00:00 [-0500]': {'penalty':1.0, 'name':'finaldeadline'}},\n",
    "                           'maxgrade': 5.0\n",
    "                               }\n",
    "                    }\n",
    "             }\n",
    "       };"
   ]
  },
  {
   "cell_type": "markdown",
   "metadata": {},
   "source": [
    "El curso del ejemplo está definido de la siguiente manera:\n",
    "* Tiene por nombre: *2016AI*\n",
    "* Cuenta con 3 bloques: *PROBLEMSETS, QUIZES, MOOC*\n",
    "* El bloque `PROBLEMSETS` tiene un porcentaje sobre la nota final del 40%\n",
    "* Los bloques `QUIZES y MOOC` tienen un porcentaje sobre la nota final del 30%\n",
    "* El bloque PROBLEM_SETS cuenta con un total de 8 secciones no dinámicas. Cabe aclarar la relación del identificador del bloque (PROBLEM_SETS) con el identificador de cada sección (`PS4`). Para evitar inconvenientes se recomienda seguir esta relación en los cursos que se definan.\n",
    "* El bloque `QUIZES` cuenta con un total de 3 `secciones` dinámicas.\n",
    "* El bloque `MOOC` cuenta con un total de 1 `sección`\n",
    "\n",
    "Cada `sección no dinámica` tiene definido sus ejercicios, fechas límite, penalización y nota máxima. Cabe resaltar la relación del identificador de la sección (`PS2`) con el identificador de cada ejercicio (`PS2_1`), el formato de la fecha límite y que solo debe haber dos fechas límite. Los nombres de las fechas límite deben ser `softdeadline` y `harddeadline`. Para evitar inconvenientes se recomienda seguir estas relaciones en los cursos que se definan.\n",
    "\n",
    "Cada `sección dinámica` únicamente requiere de la palabra dynamic en su definición. Los demás parámetros se agregarán después. Las secciones dinamicas tienen una fecha limite denominada `finaldeadline`\n",
    "\n",
    "Como se mencionó la estructura del diccionario ya está definida, así que solamente se deben modificar los valores, a excepción de los nombres de las fechas límite. Si se modifican los keys se producirán errores en el funcionamiento del `framework`.\n",
    "\n",
    "Se pueden encontrar ejemplos de la implementación de este framework en un curso en el siguiente [repositorio](https://github.com/rramosp/20181.ai)"
   ]
  },
  {
   "cell_type": "markdown",
   "metadata": {
    "collapsed": true
   },
   "source": [
    "<h3 style=\"color:#3F51B5\">1.2 DEFINIR EL CURSO  </h3>"
   ]
  },
  {
   "cell_type": "markdown",
   "metadata": {},
   "source": [
    "En la siguiente celda se debe definir el curso."
   ]
  },
  {
   "cell_type": "code",
   "execution_count": null,
   "metadata": {},
   "outputs": [],
   "source": [
    "name_mooc = \"\" # Ejemplo: \"20161-AI\"\n",
    "COUSERNAME = name_mooc\n",
    "print \"Nombre del mooc: \" + COUSERNAME"
   ]
  },
  {
   "cell_type": "code",
   "execution_count": 3,
   "metadata": {
    "collapsed": true
   },
   "outputs": [],
   "source": [
    "course = {'name': COUSERNAME,\n",
    "          'course-block': {\n",
    "                    'weight': 1,\n",
    "                    'defs': {\n",
    "                            'section' :  {'problems':  [],\n",
    "                                          'deadlines': {'date': {'penalty': 1, 'name': 'harddeadline'}},\n",
    "                                          'maxgrade': 5.0}\n",
    "                                     }\n",
    "                          }\n",
    "         };"
   ]
  },
  {
   "cell_type": "code",
   "execution_count": null,
   "metadata": {
    "collapsed": true
   },
   "outputs": [],
   "source": [
    "course"
   ]
  },
  {
   "cell_type": "markdown",
   "metadata": {
    "collapsed": true
   },
   "source": [
    "<h2 style=\"color:#3F51B5\"> 2. CONFIGURAR FRAMEWORK  </h2>\n",
    "\n",
    "La calificación de cada ejercicio se genera en una hoja de cálculo compartida entre el estudiante y el profesor, también se crea una hoja de cálculo con la nota final de cada estudiante. Para esto y otras de las funciones del `Framework` se debe crear un proyecto en la consola de desarrolladores de Google, habilitar la API de Google drive, entre otras configuraciones.\n",
    "\n",
    "\n",
    "<h3 style=\"color:#3F51B5\"> 2.1. PARAMETROS </h3>\n",
    "\n",
    "* **Key:** Llave para encriptar algunos archivos. Importante dado que el estudiante no debe tener acceso a archivos como los graders. En estos se encuentran las soluciones o verificaciones a los ejercicios propuestos.\n",
    "* **Correo:** Correo para crear y utilizar en la API de Google "
   ]
  },
  {
   "cell_type": "code",
   "execution_count": 6,
   "metadata": {
    "collapsed": true
   },
   "outputs": [],
   "source": [
    "key = \"\" # Ejemplo: \"{'A', 'M', 'B', 'N','O','F','E','A','S','T'}\" DEBEN SER 10 LETRAS\n",
    "correo = \"\" #Ejemplo: \"rlmooc@gmail.com\""
   ]
  },
  {
   "cell_type": "code",
   "execution_count": null,
   "metadata": {},
   "outputs": [],
   "source": [
    "KEYC = key\n",
    "KEYPY = key.replace(\"{\", \"[\").replace(\"}\",\"]\")\n",
    "EMAIL = correo\n",
    "\n",
    "print \"Los parametros son:\"\n",
    "print COUSERNAME\n",
    "print KEYC\n",
    "print KEYPY\n",
    "print EMAIL"
   ]
  },
  {
   "cell_type": "markdown",
   "metadata": {},
   "source": [
    "<h3 style=\"color:#3F51B5\"> 2.2. PROYECTO DE GOOGLE - CREDENCIALES </h3>\n",
    "\n",
    "Se debe crear un proyecto en la consola de desarrollo de Google y obtener credenciales para el funcionamiento del `Framework`.\n",
    "\n",
    "* Crear un nuevo proyecto en la `API de Google`.\n",
    "* Abrir la pestaña `Credenciales` del proyecto creado\n",
    "* Abrir la pestaña `Pantalla de consentimiento de OAuth`.\n",
    "* Asignar un `Nombre de producto` que se muestra a los usuarios y guardar los cambios\n",
    "* Crear una credencial de `ID de cliente de OAuth`, seleccionar `Otro` en el tipo de aplicación y asignar un nombre al cliente de la API.\n",
    "* Descargar el archivo `JSON de la credencial de OAuth` y copiar su contenido en la siguiente celda. \n",
    "\n",
    "**NOTA:** No borrar la primera línea de la celda.\n"
   ]
  },
  {
   "cell_type": "code",
   "execution_count": null,
   "metadata": {
    "collapsed": true
   },
   "outputs": [],
   "source": [
    "%%writefile utils/client_secrets.json\n",
    "\n",
    "## CONTENT JSON ##"
   ]
  },
  {
   "cell_type": "markdown",
   "metadata": {},
   "source": [
    "* Crear una nueva credencial, pero esta vez una `Claves de cuenta de servicio`, asignar un nombre y seleccionar la función Project/propietario.\n",
    "* Se descargará un archivo `.json`, copiar el contenido en la siguiente celda.\n",
    "\n",
    "**Nota:**  la variable js de la celda debe ser un diccionario."
   ]
  },
  {
   "cell_type": "code",
   "execution_count": null,
   "metadata": {
    "collapsed": true
   },
   "outputs": [],
   "source": [
    "js = ##CONTENT##"
   ]
  },
  {
   "cell_type": "code",
   "execution_count": 10,
   "metadata": {
    "collapsed": true
   },
   "outputs": [],
   "source": [
    "JSONKEY = str(js)"
   ]
  },
  {
   "cell_type": "markdown",
   "metadata": {
    "collapsed": true
   },
   "source": [
    "<h3 style=\"color:#3F51B5\"> 2.3. CONFIGURAR FRAMEWORK CON LOS PARÁMETROS </h3>\n",
    "\n",
    "Ejecuta las siguientes celdas para que se configure el Framework con los parámetros dados anteriormente."
   ]
  },
  {
   "cell_type": "code",
   "execution_count": 11,
   "metadata": {
    "collapsed": true
   },
   "outputs": [],
   "source": [
    "archivoUno = open(\"./utils/init_mooc_grader.py\",\"r\")\n",
    "archivo = open(\"./utils/rlxmooc.py\",\"w\")\n",
    "data = \"\".join(archivoUno.readlines())\n",
    "data = data.replace(\"##JSONKEY##\",JSONKEY)\n",
    "data = data.replace(\"##COURSE##\",str(course))\n",
    "archivo.write( data )\n",
    "archivo.close()\n",
    "archivoUno.close()"
   ]
  },
  {
   "cell_type": "code",
   "execution_count": 12,
   "metadata": {
    "collapsed": true
   },
   "outputs": [],
   "source": [
    "!cp ./utils/init_crypt.c ./utils/crypt.c && sed -i \"s/##KEYC##/{KEYC}/g\" ./utils/crypt.c\n",
    "!cp ./utils/init_runepy.c  ./utils/runepy.c && sed -i \"s/##KEYC##/{KEYC}/g\"  ./utils/runepy.c\n",
    "!cp ./utils/init_copy-to-student.sh  ./utils/copy-to-student.sh && sed -i \"s/##COUSERNAME##/{COUSERNAME}/g\"  ./utils/copy-to-student.sh\n",
    "!sed -i \"s/##EMAIL##/{EMAIL}/g\" ./utils/rlxmooc.py\n",
    "!sed -i \"s/##KEYPY##/{KEYPY}/g\" ./utils/rlxmooc.py"
   ]
  },
  {
   "cell_type": "markdown",
   "metadata": {
    "collapsed": true
   },
   "source": [
    "**Nota:** Si sucede un error al añadir los parámetros, se debe revisar que estos se estén agregando de la manera correcta, si hubo un error de sintaxis con volver a definir los parámetros y ejecutar nuevamente la celda anterior basta."
   ]
  },
  {
   "cell_type": "markdown",
   "metadata": {},
   "source": [
    "<h3 style=\"color:#3F51B5\"> 2.4. COMPILAR Y ENCRIPTAR </h3>\n",
    "\n",
    "Varios de los archivos que se configuraron anteriormente deben ser compilados y encriptados."
   ]
  },
  {
   "cell_type": "code",
   "execution_count": 13,
   "metadata": {
    "collapsed": true,
    "scrolled": true
   },
   "outputs": [],
   "source": [
    "!./utils/compileall.sh"
   ]
  },
  {
   "cell_type": "code",
   "execution_count": null,
   "metadata": {},
   "outputs": [],
   "source": [
    "!./utils/encrypt-all-python.sh"
   ]
  },
  {
   "cell_type": "markdown",
   "metadata": {},
   "source": [
    "<h3 style=\"color:#3F51B5\"> 2.5. ARCHIVOS DE GOOGLE </h3>\n",
    "\n",
    "* Habilitar la API de Google [Drive](https://console.developers.google.com/apis/library/drive.googleapis.com/)\n",
    "* Ejecutar la siguiente celda para crear una hoja de cálculo que contendrá las fechas límite y otras configuraciones."
   ]
  },
  {
   "cell_type": "code",
   "execution_count": null,
   "metadata": {},
   "outputs": [],
   "source": [
    "!./run CREATE_MOOCGRADER"
   ]
  },
  {
   "cell_type": "markdown",
   "metadata": {},
   "source": [
    "<h2 style=\"color:#3F51B5\"> 3. ELABORACION DE UNA SECCION.  </h2>\n",
    "\n",
    "Cada `sección` consiste en una serie de ejercicios propuestos para el estudiante. Al `framework` le es pertinente únicamente conocer la nota que obtuvo el estudiante en cada ejercicio, independientemente del ejercicio como tal, he incluso del lenguaje en el que este el ejercicio.\n",
    "\n",
    "Se recomienda que se realice un `notebook` por cada `sección`, en el cual deben estar todos los ejercicios propuestos. Si la sección requiere de imágenes o datos, guardarlos en las carpetas `imgs` y `data`, respectivamente. Cada sección está compuesta por un encabezado y los distintos ejercicios.\n",
    "\n",
    "\n",
    "<h3 style=\"color:#3F51B5\">3.1. ENCABEZADO  </h3>\n",
    "\n",
    "Cada `sección` debe empezar con el siguiente encabezado. Este encabezado permite la autentificación del estudiante con el `Framework`, pide los permisos necesarios para que se pueda crear la hoja de cálculo y llevar el registro de las notas.\n"
   ]
  },
  {
   "cell_type": "markdown",
   "metadata": {
    "collapsed": true
   },
   "source": [
    "    from mooclib import *\n",
    "    import inspect, urllib\n",
    "    html, auth_code, userinfo = google_authenticate(PORT_NUMBER=8111)\n",
    "    html"
   ]
  },
  {
   "cell_type": "markdown",
   "metadata": {},
   "source": [
    "<h3 style=\"color:#3F51B5\"> 3.2. EJERCICIOS  </h3>"
   ]
  },
  {
   "cell_type": "markdown",
   "metadata": {},
   "source": [
    "Son las funciones que se le entregan al estudiante para que las complete o programe. Por cada ejercicio debe existir un calificador denominado `grader`. Cada `grader` es una función o programa que verifica el ejercicio del estudiante y guarda en un archivo la nota asignada.\n",
    "\n",
    "El `framework` se encargará de ejecutar un archivo `.sh` (*Shell*) encriptado con el binario `crypt`, que entrega mediante estándar output la nota del estudiante con un formato especifico.\n",
    "\n",
    "Cada ejercicio debe ser una función, la cual el `framework` la guarda en el directorio `/utils/student_function`, para la celda del ejercicio debe ser de la siguiente manera."
   ]
  },
  {
   "cell_type": "code",
   "execution_count": null,
   "metadata": {
    "collapsed": true
   },
   "outputs": [],
   "source": [
    "%%writefile ./utils/student_funciton student_PROBLEMSETID_PROBLEM\n",
    "\n",
    "## Funcion del estudiante"
   ]
  },
  {
   "cell_type": "markdown",
   "metadata": {},
   "source": [
    "Como Ejemplo, un ejercicio usando Python"
   ]
  },
  {
   "cell_type": "code",
   "execution_count": null,
   "metadata": {},
   "outputs": [],
   "source": [
    "%%writefile utils/student_function/student_QZ1_1.py\n",
    "## Ejercicio del estudiante\n",
    "\n",
    "def adivina():\n",
    "    nombre_profesor = \"Danil\" # Adivine el nombre del profesor\n",
    "    return nombre_profesor"
   ]
  },
  {
   "cell_type": "markdown",
   "metadata": {},
   "source": [
    "De esta manera queda más sencillo realizar el grader, dado que solamente es necesario llamar la función del estudiante y verificarla."
   ]
  },
  {
   "cell_type": "markdown",
   "metadata": {},
   "source": [
    "<h3 style=\"color:#3F51B5\">3.3 GRADER  </h3>"
   ]
  },
  {
   "cell_type": "markdown",
   "metadata": {},
   "source": [
    "En este archivo se encarga de calificar la función realizada por el estudiante, dando consejos y entregando una nota asociada, numero de 0 a 5. El archivo imprimirá la información para el estudiante con el formato `**Mensaje##Nota**`. El archivo debe guardarse en el directorio `utils/graders` con un nombre con el formato `grader_PROBLEMSETID_PROBLEM.sh`.\n",
    "\n",
    "Cabe aclarar que todo el `grader` deber estar encerrado en una sentencia `try` para el manejo de errores de la función del estudiante, si la sentencia `try` no es puesta cualquier error que contenga la función del estudiante provocará que se imprima el archivo grader al estudiante, en especial al usar `Python`."
   ]
  },
  {
   "cell_type": "markdown",
   "metadata": {},
   "source": [
    "### Ejemplo con python."
   ]
  },
  {
   "cell_type": "code",
   "execution_count": null,
   "metadata": {},
   "outputs": [],
   "source": [
    "%%writefile ./utils/graders/grader_PS1_1.sh\n",
    "#!/usr/bin/python\n",
    "\n",
    "import sys\n",
    "sys.path.append(\"./utils/student_function/\")\n",
    "\n",
    "try:\n",
    "    import student_PS1_1 as st\n",
    "    ## Calificacion de la funcion del estudiante\n",
    "    if st.adivina() == \"Daniel\":\n",
    "        print \"Felicitaciones##5\"\n",
    "    else:\n",
    "        print \"Vuelve a intentarlo##2\"\n",
    "except:\n",
    "    error = sys.exc_info()\n",
    "    for i in error:\n",
    "        print i"
   ]
  },
  {
   "cell_type": "code",
   "execution_count": null,
   "metadata": {},
   "outputs": [],
   "source": [
    "!./utils/graders/grader_PS1_1.sh"
   ]
  },
  {
   "cell_type": "markdown",
   "metadata": {},
   "source": [
    "### Ejemplo en C"
   ]
  },
  {
   "cell_type": "code",
   "execution_count": null,
   "metadata": {},
   "outputs": [],
   "source": [
    "%%writefile ./utils/graders/grader_PS1_2.sh\n",
    "#!/bin/bash\n",
    "CODE=\"\"\"\n",
    "\n",
    "#include<stdio.h>\\n\n",
    "#include \\\"../student_function/student_PS1_2.c\\\"\\n\n",
    "int main(){   \n",
    "    char s = mean();    \n",
    "    if (s =='D') printf(\\\"Excelente##5.0\\\");\n",
    "    else printf(\\\"Fallaste##1.3\\\");    \n",
    "return 0;\n",
    "}\"\"\"\n",
    "echo -e $CODE >> ./utils/graders/grad.c\n",
    "gcc ./utils/graders/grad.c -o ./utils/graders/exe\n",
    "./utils/graders/exe\n",
    "rm -rf ./utils/graders/grad.c\n",
    "rm -rf ./utils/graders/exe"
   ]
  },
  {
   "cell_type": "code",
   "execution_count": null,
   "metadata": {},
   "outputs": [],
   "source": [
    "!./utils/graders/grader_PS1_2.sh"
   ]
  },
  {
   "cell_type": "markdown",
   "metadata": {},
   "source": [
    "<h3 style=\"color:#3F51B5\">3.4 CRYPT  </h3>\n",
    "\n",
    "Como se mencionó los archivos Shell debe estar encriptado. Con la siguiente línea se encriptan todos los archivos Shell"
   ]
  },
  {
   "cell_type": "code",
   "execution_count": null,
   "metadata": {},
   "outputs": [],
   "source": [
    "path = !ls ./utils/graders/ | grep .sh\n",
    "PATH = \"\"\n",
    "for PATH in path:\n",
    "    \n",
    "    archivo_encri = open(\"./utils/graders/\"+PATH[:-2]+\"grader\",\"w\")\n",
    "    data = !utils/crypt ./utils/graders/\"{PATH}\"\n",
    "    print \"Tamaño: \", len(data)\n",
    "    archivo_encri.write(data[0])\n",
    "    archivo_encri.close()\n",
    "\n",
    "    print \"Archivo Encriptado\""
   ]
  },
  {
   "cell_type": "markdown",
   "metadata": {},
   "source": [
    "Cabe resaltar que, para el buen funcionamiento del proceso de encriptación, el tamaño del vector \"data\" debe ser de \"1\", de lo contrario existirán problemas a la hora de desencriptar, estos problemas pueden ser exceso o falta de saltos de líneas o problemas con letras mayúsculas, entre otros."
   ]
  },
  {
   "cell_type": "markdown",
   "metadata": {},
   "source": [
    "<h4 style=\"color:#3F51B5\">3.4.1 Comprobar Encriptacion  </h4>\n",
    "\n",
    "Existen unos casos en las que los archivos no quedan bien encriptados, se puede comprobar que el archivo se desencripta de manera correcta con el sigueinte codigo."
   ]
  },
  {
   "cell_type": "code",
   "execution_count": null,
   "metadata": {},
   "outputs": [],
   "source": [
    "!utils/crypt ./utils/graders/grader_PS1_2.grader"
   ]
  },
  {
   "cell_type": "markdown",
   "metadata": {},
   "source": [
    "Si el archivo no se desencripta de manera correcta, podrían existir problemas con los saltos de línea. Es recomendable realizar la menor cantidad de saltos de línea posibles.\n",
    "\n",
    "El estudiante puede probar su código. Para esto se agregan las dos siguientes casillas después de cada ejercicio."
   ]
  },
  {
   "cell_type": "markdown",
   "metadata": {
    "collapsed": true
   },
   "source": [
    "<h3 style=\"color:#3F51B5\">3.5 CHECK  </h3>\n",
    "\n",
    "Permite al estudiante comprobar su función antes de enviar la calificación a la hoja de cálculo."
   ]
  },
  {
   "cell_type": "markdown",
   "metadata": {
    "collapsed": true
   },
   "source": [
    "    !./run CHECK_SOLUTION {PROBLEMSETID}_#"
   ]
  },
  {
   "cell_type": "markdown",
   "metadata": {},
   "source": [
    "Al ejecuta esta celda, internamente se ejecutará el archivo Shell y se imprimirá la información y la nota al estudiante"
   ]
  },
  {
   "cell_type": "markdown",
   "metadata": {},
   "source": [
    "<h3 style=\"color:#3F51B5\"> 3.6 SUBMIT  </h3>\n",
    "\n",
    "Envía la calificación del estudiante a la hoja de cálculo."
   ]
  },
  {
   "cell_type": "markdown",
   "metadata": {
    "collapsed": true
   },
   "source": [
    "    !./run SUBMIT_SOLUTION {PROBLEMSETID}_# $src1"
   ]
  },
  {
   "cell_type": "markdown",
   "metadata": {},
   "source": [
    "<h3 style=\"color:#3F51B5\"> 3.7 SECCION PROBLEMSET</h3>"
   ]
  },
  {
   "cell_type": "markdown",
   "metadata": {
    "collapsed": true
   },
   "source": [
    "Los `problemset` son secciones con ejercicios fijos para los estudiantes, se puede encontrar un ejemplo de una sección de tipo `problemset` en el siguiente [archivo](./Template_Section.ipynb)"
   ]
  },
  {
   "cell_type": "markdown",
   "metadata": {},
   "source": [
    "<h3 style=\"color:#3F51B5\"> 3.8 SECCION QUIZ  </h3>\n",
    "\n",
    "Como se mencionó en la descripción del `framework` existe la opción de crear `Quices Dinamicos` los cuales consiste en generar un notebook con ejercicios seleccionados de forma aleatoria de un archivo denominado `banco`, este tipo de secciones tienen la misma estructura que una `sección` normal, sin embargo, requieren de un tratamiento diferente."
   ]
  },
  {
   "cell_type": "markdown",
   "metadata": {},
   "source": [
    "<h4 style=\"color:#3F51B5\"> 3.8.1 CREAR PAQUETE PARA EL ESTUDIANTE</h4>\n",
    "\n",
    "Es recomendado que para cada `Quiz` se genere un nuevo paquete del `framework` únicamente con los archivos necesarios para el funcionamiento de los mismos, `graders`, archivos epy, etc. También se recomienda que sea sobre este nuevo paquete que se cree el `banco`, los `graders` y el archivo principal del quiz."
   ]
  },
  {
   "cell_type": "code",
   "execution_count": null,
   "metadata": {},
   "outputs": [],
   "source": [
    "!./utils/copy-to-quiz.sh"
   ]
  },
  {
   "cell_type": "markdown",
   "metadata": {},
   "source": [
    "En el nuevo paquete hay dos archivos `.ipynb` las instrucciones y la plantilla quiz."
   ]
  },
  {
   "cell_type": "markdown",
   "metadata": {},
   "source": [
    "<h4 style=\"color:#3F51B5\"> 3.8.2 CREAR BANCO</h4>"
   ]
  },
  {
   "cell_type": "markdown",
   "metadata": {},
   "source": [
    "El `banco` es un archivo `.py` donde se encontrará una cantidad indeterminada de ejercicios para elaborar este archivo por favor seguir las instrucciones del paquete Quiz_#."
   ]
  },
  {
   "cell_type": "markdown",
   "metadata": {
    "collapsed": true
   },
   "source": [
    "<h2 style=\"color:#3F51B5\"> 4. EXPORTAR CURSO PARA EL ESTUDIANTE  </h2>\n",
    "\n",
    "Con la siguiente celda se genera automáticamente un paquete para el estudiante con las notas de clases, los `problemsets` y otros archivos necesarios para el curso, los deben estar dentro del presente paquete. En este nuevo paquete no habrá archivos innecesarios para el estudiante, como la presente guía."
   ]
  },
  {
   "cell_type": "code",
   "execution_count": null,
   "metadata": {},
   "outputs": [],
   "source": [
    "!./utils/copy-to-student.sh"
   ]
  },
  {
   "cell_type": "markdown",
   "metadata": {
    "collapsed": true
   },
   "source": [
    "<h2 style=\"color:#3F51B5\"> 5. FIX SHARING  </h2>\n",
    "\n",
    "Por alguna razón que aún no se comprende muy bien, a veces al estudiante no se le comparte la hoja de cálculo, así que si se presenta esa situación se deben ejecutar las siguientes líneas."
   ]
  },
  {
   "cell_type": "code",
   "execution_count": null,
   "metadata": {},
   "outputs": [],
   "source": [
    "%run -i ./utils/rlxmooc.py\n",
    "get_course_sheets()"
   ]
  },
  {
   "cell_type": "code",
   "execution_count": null,
   "metadata": {},
   "outputs": [],
   "source": [
    "fix_sharing()"
   ]
  },
  {
   "cell_type": "markdown",
   "metadata": {},
   "source": [
    "<h2 style=\"color:#3F51B5\"> 6. GENERAR NOTAS FINALES  </h2>\n",
    "\n",
    "Una vez terminado el periodo académico se requiere tener las notas finales de cada estudiante, para ello se deben ejecutar las siguientes celdas y esto creará una hoja de cálculo con esta información."
   ]
  },
  {
   "cell_type": "code",
   "execution_count": 6,
   "metadata": {
    "collapsed": true
   },
   "outputs": [],
   "source": [
    "%run -i ./utils/rlxmooc.py"
   ]
  },
  {
   "cell_type": "markdown",
   "metadata": {
    "collapsed": true
   },
   "source": [
    "<h3 style=\"color:#3F51B5\"> 6.1. ESTUDIANTES</h3>\n",
    "\n",
    "Se puede conocer las hojas de cálculo de cada estudiante\n"
   ]
  },
  {
   "cell_type": "code",
   "execution_count": null,
   "metadata": {
    "scrolled": true
   },
   "outputs": [],
   "source": [
    "sheets = get_course_sheets()\n",
    "print sheets"
   ]
  },
  {
   "cell_type": "code",
   "execution_count": null,
   "metadata": {
    "scrolled": true
   },
   "outputs": [],
   "source": [
    "\"Cantidad de Estudiantes: \"+str(len(sheets))"
   ]
  },
  {
   "cell_type": "markdown",
   "metadata": {},
   "source": [
    "<h3 style=\"color:#3F51B5\"> 6.2 CALIFICAR ESTUDIANTE </h3>\n",
    "\n",
    "En la hoja de cálculo de cada estudiante están registradas las calificaciones de cada ejercicio, accediendo a estos archivos se puede calcular la nota final del estudiante, también se tienen en cuenta las fechas límites establecidas."
   ]
  },
  {
   "cell_type": "code",
   "execution_count": null,
   "metadata": {
    "collapsed": true
   },
   "outputs": [],
   "source": [
    "STUDENT = \"2017BG-geminisda@gmail.com\" # Ejemplo COURSERNAME-gemsda@gmail.com"
   ]
  },
  {
   "cell_type": "code",
   "execution_count": null,
   "metadata": {},
   "outputs": [],
   "source": [
    "%run -i ./utils/rlxmooc.py\n",
    "g = compute_grades(STUDENT)"
   ]
  },
  {
   "cell_type": "code",
   "execution_count": null,
   "metadata": {},
   "outputs": [],
   "source": [
    "g"
   ]
  },
  {
   "cell_type": "markdown",
   "metadata": {},
   "source": [
    "<h3 style=\"color:#3F51B5\"> 6.3. CALIFICAR A TODOS LOS ESTUDIANTE </h3>\n",
    "\n",
    "Al final del proceso se crea una hoja de cálculo llamada COURSERNAME-grades en la cual están las notas finales de cada estudiante."
   ]
  },
  {
   "cell_type": "code",
   "execution_count": null,
   "metadata": {},
   "outputs": [],
   "source": [
    "%run -i ./utils/rlxmooc.py\n",
    "class_grades = compute_all_grades()\n",
    "save_class_grades(class_grades)"
   ]
  },
  {
   "cell_type": "code",
   "execution_count": null,
   "metadata": {},
   "outputs": [],
   "source": [
    "class_grades"
   ]
  }
 ],
 "metadata": {
  "kernelspec": {
   "display_name": "Python 2",
   "language": "python",
   "name": "python2"
  },
  "language_info": {
   "codemirror_mode": {
    "name": "ipython",
    "version": 2
   },
   "file_extension": ".py",
   "mimetype": "text/x-python",
   "name": "python",
   "nbconvert_exporter": "python",
   "pygments_lexer": "ipython2",
   "version": "2.7.14"
  }
 },
 "nbformat": 4,
 "nbformat_minor": 2
}
