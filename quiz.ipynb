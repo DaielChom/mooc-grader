{
 "cells": [
  {
   "cell_type": "code",
   "execution_count": 1,
   "metadata": {},
   "outputs": [
    {
     "name": "stdout",
     "output_type": "stream",
     "text": [
      "CLICK ON THIS LINK TO AUTHENTICATE WITH YOUR GMAIL ACCOUNT\n",
      "https://accounts.google.com/o/oauth2/auth?scope=profile+email&redirect_uri=http%3A%2F%2Flocalhost%3A8111&response_type=code&client_id=290656168901-nqtt75qvf2qpski4n6eb99oaj4sg2j2f.apps.googleusercontent.com&access_type=offline\n",
      "waiting for authentication ...\n",
      "authentication succeeded\n"
     ]
    },
    {
     "data": {
      "text/html": [
       "<table><tr><td><img src='https://lh6.googleusercontent.com/-7sw-5dKSmos/AAAAAAAAAAI/AAAAAAAALnM/1GJcpxsQ49s/photo.jpg' width=60 height=60/></td><td>geminisda@gmail.com<br/>Daniel Carvajal<br/>google id: 112724590988201209691<br/>authorization code: 4/AADv9yQ8fhlRm1MMwabpHiN4v_krbkYWwOu8v9O6V8v9t1nLXWqfQyrWFFiSHLbNnctBxqGRXntATG7x6hGo1wE</td></tr></table>"
      ],
      "text/plain": [
       "<IPython.core.display.HTML object>"
      ]
     },
     "execution_count": 1,
     "metadata": {},
     "output_type": "execute_result"
    }
   ],
   "source": [
    "from mooclib import *\n",
    "import render_cell\n",
    "import inspect, urllib\n",
    "html, auth_code, userinfo = google_authenticate(PORT_NUMBER=8111)\n",
    "html"
   ]
  },
  {
   "cell_type": "code",
   "execution_count": 2,
   "metadata": {},
   "outputs": [
    {
     "data": {
      "application/javascript": [
       "\n",
       "      var mark = IPython.notebook.insert_cell_above('markdown')\n",
       "      mark.set_text(\"### Ejercicio 5. Animal por E.\")\n",
       "    "
      ],
      "text/plain": [
       "<IPython.core.display.Javascript object>"
      ]
     },
     "metadata": {},
     "output_type": "display_data"
    },
    {
     "data": {
      "application/javascript": [
       "\n",
       "      var mark = IPython.notebook.insert_cell_above('markdown')\n",
       "      mark.set_text(\"El ejercicio consite en encontrar el nombre de un animal que empiece por E.\")\n",
       "    "
      ],
      "text/plain": [
       "<IPython.core.display.Javascript object>"
      ]
     },
     "metadata": {},
     "output_type": "display_data"
    },
    {
     "data": {
      "application/javascript": [
       "\n",
       "    var code = IPython.notebook.insert_cell_above('code')\n",
       "    code.set_text(atob(\"JSV3cml0ZWZpbGUgdXRpbHMvc3R1ZGVudF9mdW5jdGlvbi9zdHVkZW50X1FaMV81LnB5CmRlZiBhbmltYWxFKCk6CiAgICBhbmltYWwgPSAuLi4KICAgIHJldHVybiBhbmltYWw=\"))\n",
       "    "
      ],
      "text/plain": [
       "<IPython.core.display.Javascript object>"
      ]
     },
     "metadata": {},
     "output_type": "display_data"
    },
    {
     "data": {
      "application/javascript": [
       "\n",
       "    var code = IPython.notebook.insert_cell_above('code')\n",
       "    code.set_text(atob(\"IS4vcnVuIENIRUNLX1NPTFVUSU9OIFFaMV81\"))\n",
       "    "
      ],
      "text/plain": [
       "<IPython.core.display.Javascript object>"
      ]
     },
     "metadata": {},
     "output_type": "display_data"
    },
    {
     "data": {
      "application/javascript": [
       "\n",
       "    var code = IPython.notebook.insert_cell_above('code')\n",
       "    code.set_text(atob(\"IS4vcnVuIFNVQk1JVF9TT0xVVElPTiBRWjFfNQ==\"))\n",
       "    "
      ],
      "text/plain": [
       "<IPython.core.display.Javascript object>"
      ]
     },
     "metadata": {},
     "output_type": "display_data"
    },
    {
     "data": {
      "application/javascript": [
       "\n",
       "      var mark = IPython.notebook.insert_cell_above('markdown')\n",
       "      mark.set_text(\"### Ejercicio 2. Resta\")\n",
       "    "
      ],
      "text/plain": [
       "<IPython.core.display.Javascript object>"
      ]
     },
     "metadata": {},
     "output_type": "display_data"
    },
    {
     "data": {
      "application/javascript": [
       "\n",
       "      var mark = IPython.notebook.insert_cell_above('markdown')\n",
       "      mark.set_text(\"Completa la siguiente funcion para que retorne la resta de los dos parametros que le llegan.\")\n",
       "    "
      ],
      "text/plain": [
       "<IPython.core.display.Javascript object>"
      ]
     },
     "metadata": {},
     "output_type": "display_data"
    },
    {
     "data": {
      "application/javascript": [
       "\n",
       "    var code = IPython.notebook.insert_cell_above('code')\n",
       "    code.set_text(atob(\"JSV3cml0ZWZpbGUgdXRpbHMvc3R1ZGVudF9mdW5jdGlvbi9zdHVkZW50X1FaMV8yLnB5CmRlZiByZXN0YShhLGIpOgogICAgcmVzdGEgPSAuLi4KICAgIHJldHVybiByZXN0YQ==\"))\n",
       "    "
      ],
      "text/plain": [
       "<IPython.core.display.Javascript object>"
      ]
     },
     "metadata": {},
     "output_type": "display_data"
    },
    {
     "data": {
      "application/javascript": [
       "\n",
       "    var code = IPython.notebook.insert_cell_above('code')\n",
       "    code.set_text(atob(\"IS4vcnVuIENIRUNLX1NPTFVUSU9OIFFaMV8y\"))\n",
       "    "
      ],
      "text/plain": [
       "<IPython.core.display.Javascript object>"
      ]
     },
     "metadata": {},
     "output_type": "display_data"
    },
    {
     "data": {
      "application/javascript": [
       "\n",
       "    var code = IPython.notebook.insert_cell_above('code')\n",
       "    code.set_text(atob(\"IS4vcnVuIFNVQk1JVF9TT0xVVElPTiBRWjFfMg==\"))\n",
       "    "
      ],
      "text/plain": [
       "<IPython.core.display.Javascript object>"
      ]
     },
     "metadata": {},
     "output_type": "display_data"
    }
   ],
   "source": [
    "!./run RENDER_QUIZ\n",
    "render_cell.import_cells()"
   ]
  },
  {
   "cell_type": "markdown",
   "metadata": {},
   "source": [
    "### Ejercicio 5. Animal por E."
   ]
  },
  {
   "cell_type": "markdown",
   "metadata": {},
   "source": [
    "El ejercicio consite en encontrar el nombre de un animal que empiece por E."
   ]
  },
  {
   "cell_type": "code",
   "execution_count": 14,
   "metadata": {},
   "outputs": [
    {
     "name": "stdout",
     "output_type": "stream",
     "text": [
      "Overwriting utils/student_function/student_QZ1_5.py\n"
     ]
    }
   ],
   "source": [
    "%%writefile utils/student_function/student_QZ1_5.py\n",
    "def animale():\n",
    "    animal = \"Elefante\"\n",
    "    return animal"
   ]
  },
  {
   "cell_type": "code",
   "execution_count": 15,
   "metadata": {},
   "outputs": [
    {
     "name": "stdout",
     "output_type": "stream",
     "text": [
      "Felicitaciones\n",
      "evaluation result 5.0 \n"
     ]
    }
   ],
   "source": [
    "!./run CHECK_SOLUTION QZ1_5"
   ]
  },
  {
   "cell_type": "code",
   "execution_count": 16,
   "metadata": {},
   "outputs": [
    {
     "name": "stdout",
     "output_type": "stream",
     "text": [
      "connecting ... registering submission for geminisda@gmail.com ...\n",
      "Felicitaciones\n",
      "your submissions sheet is https://docs.google.com/spreadsheets/d/1hoRDqf9goxk1RzUny0d_hTHNToS-3C6gSeHINZBVLsQ\n",
      "----\n",
      "evaluation result 5.0 , submission registered\n"
     ]
    }
   ],
   "source": [
    "!./run SUBMIT_SOLUTION QZ1_5"
   ]
  },
  {
   "cell_type": "markdown",
   "metadata": {},
   "source": [
    "### Ejercicio 2. Resta"
   ]
  },
  {
   "cell_type": "markdown",
   "metadata": {},
   "source": [
    "Completa la siguiente funcion para que retorne la resta de los dos parametros que le llegan."
   ]
  },
  {
   "cell_type": "code",
   "execution_count": null,
   "metadata": {
    "collapsed": true
   },
   "outputs": [],
   "source": [
    "%%writefile utils/student_function/student_QZ1_2.py\n",
    "def resta(a,b):\n",
    "    resta = ...\n",
    "    return resta"
   ]
  },
  {
   "cell_type": "code",
   "execution_count": null,
   "metadata": {
    "collapsed": true
   },
   "outputs": [],
   "source": [
    "!./run CHECK_SOLUTION QZ1_2"
   ]
  },
  {
   "cell_type": "code",
   "execution_count": null,
   "metadata": {
    "collapsed": true
   },
   "outputs": [],
   "source": [
    "!./run SUBMIT_SOLUTION QZ1_2"
   ]
  },
  {
   "cell_type": "code",
   "execution_count": null,
   "metadata": {
    "collapsed": true
   },
   "outputs": [],
   "source": []
  }
 ],
 "metadata": {
  "kernelspec": {
   "display_name": "Python 2",
   "language": "python",
   "name": "python2"
  },
  "language_info": {
   "codemirror_mode": {
    "name": "ipython",
    "version": 2
   },
   "file_extension": ".py",
   "mimetype": "text/x-python",
   "name": "python",
   "nbconvert_exporter": "python",
   "pygments_lexer": "ipython2",
   "version": "2.7.14"
  }
 },
 "nbformat": 4,
 "nbformat_minor": 2
}
