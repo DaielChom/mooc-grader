{
 "cells": [
  {
   "cell_type": "markdown",
   "metadata": {},
   "source": [
    "# Renderizacion de Quices Automaticamente.\n",
    "\n",
    "Debo como tarea principal del semestre elaborar la renderizacion de quices automaticamente, pero no se si primero volver a limpiar pues hay un par de errores que se necesitan corregir, creo que eso lo hare al final y pondre la documentacion o no al final pero si depronto mas adelante, si me pongo a hacer eso ahorita y hasta me regañan. LA cuestion es la siguiente \n",
    "\n",
    "<div style=\"width:40%\">\n",
    "![](./img_dev/quiz.jpg)\n",
    "<div>\n"
   ]
  },
  {
   "cell_type": "markdown",
   "metadata": {},
   "source": [
    "##### Requerimientos:\n",
    "* Al estudiante debe darsele un notebook con, a ser posible, unicamente la celda de autentificacion\n",
    "* Al ejecutarse la celda de autentificacion del estudiante deben renderizarce una cantidad definida y aleatoria de preguntas referentes al quiz en especifico.\n",
    "* Para cada estudiante deben generarse siempre las mismas preguntas, pero estas deben ser aleatorias obtenidas del banco.\n",
    "* El profesor debera crear uno o varios notebooks con las distintas preguntas de cada quiz (Banco), y se requiere que cada pregunta este limitada por algun caracter o secuencia en especial, para que en ese mismo notebook el profesor pueda ejecutar codigo de prueba.\n",
    "* Por seguridad los notebook del profesor deben ir encrytados."
   ]
  },
  {
   "cell_type": "markdown",
   "metadata": {},
   "source": [
    "## Desarrollo"
   ]
  },
  {
   "cell_type": "markdown",
   "metadata": {},
   "source": [
    "### Prueba Ocultar Celdas"
   ]
  },
  {
   "cell_type": "code",
   "execution_count": 9,
   "metadata": {},
   "outputs": [
    {
     "data": {
      "text/html": [
       "<script>jQuery(function() {if (jQuery(\"body.notebook_app\").length == 0) { jQuery(\".input_area\").toggle(); jQuery(\".prompt\").toggle();}});</script>"
      ]
     },
     "metadata": {},
     "output_type": "display_data"
    },
    {
     "data": {
      "text/html": [
       "<button onclick=\"jQuery('.input_area').toggle(); jQuery('.prompt').toggle();\">Toggle code</button>"
      ]
     },
     "metadata": {},
     "output_type": "display_data"
    }
   ],
   "source": [
    "from IPython.display import display\n",
    "from IPython.display import HTML\n",
    "import IPython.core.display as di # Example: di.display_html('<h3>%s:</h3>' % str, raw=True)\n",
    "\n",
    "# This line will hide code by default when the notebook is exported as HTML\n",
    "di.display_html('<script>jQuery(function() {if (jQuery(\"body.notebook_app\").length == 0) { jQuery(\".input_area\").toggle(); jQuery(\".prompt\").toggle();}});</script>', raw=True)\n",
    "\n",
    "# This line will add a button to toggle visibility of code blocks, for use with the HTML export version\n",
    "di.display_html('''<button onclick=\"jQuery('.input_area').toggle(); jQuery('.prompt').toggle();\">Toggle code</button>''', raw=True)\n"
   ]
  },
  {
   "cell_type": "code",
   "execution_count": 4,
   "metadata": {},
   "outputs": [
    {
     "data": {
      "text/html": [
       "<script>\n",
       "code_show=true; \n",
       "function code_toggle() {\n",
       " if (code_show){\n",
       " $('div.input').hide();\n",
       " } else {\n",
       " $('div.input').show();\n",
       " }\n",
       " code_show = !code_show\n",
       "} \n",
       "$( document ).ready(code_toggle);\n",
       "</script>\n",
       "<form action=\"javascript:code_toggle()\"><input type=\"submit\" value=\"Click here to toggle on/off the raw code.\"></form>"
      ],
      "text/plain": [
       "<IPython.core.display.HTML object>"
      ]
     },
     "execution_count": 4,
     "metadata": {},
     "output_type": "execute_result"
    }
   ],
   "source": [
    "from IPython.display import HTML\n",
    "\n",
    "HTML('''<script>\n",
    "code_show=true; \n",
    "function code_toggle() {\n",
    " if (code_show){\n",
    " $('div.input').hide();\n",
    " } else {\n",
    " $('div.input').show();\n",
    " }\n",
    " code_show = !code_show\n",
    "} \n",
    "$( document ).ready(code_toggle);\n",
    "</script>\n",
    "<form action=\"javascript:code_toggle()\"><input type=\"submit\" value=\"Click here to toggle on/off the raw code.\"></form>''')\n"
   ]
  },
  {
   "cell_type": "code",
   "execution_count": 5,
   "metadata": {},
   "outputs": [
    {
     "data": {
      "text/html": [
       "<script>\n",
       "  function code_toggle() {\n",
       "    if (code_shown){\n",
       "      $('div.input').hide('500');\n",
       "      $('#toggleButton').val('Show Code')\n",
       "    } else {\n",
       "      $('div.input').show('500');\n",
       "      $('#toggleButton').val('Hide Code')\n",
       "    }\n",
       "    code_shown = !code_shown\n",
       "  }\n",
       "\n",
       "  $( document ).ready(function(){\n",
       "    code_shown=false;\n",
       "    $('div.input').hide()\n",
       "  });\n",
       "</script>\n",
       "<form action=\"javascript:code_toggle()\"><input type=\"submit\" id=\"toggleButton\" value=\"Show Code\"></form>"
      ],
      "text/plain": [
       "<IPython.core.display.HTML object>"
      ]
     },
     "metadata": {},
     "output_type": "display_data"
    }
   ],
   "source": [
    "%%html\n",
    "<script>\n",
    "  function code_toggle() {\n",
    "    if (code_shown){\n",
    "      $('div.input').hide('500');\n",
    "      $('#toggleButton').val('Show Code')\n",
    "    } else {\n",
    "      $('div.input').show('500');\n",
    "      $('#toggleButton').val('Hide Code')\n",
    "    }\n",
    "    code_shown = !code_shown\n",
    "  }\n",
    "\n",
    "  $( document ).ready(function(){\n",
    "    code_shown=false;\n",
    "    $('div.input').hide()\n",
    "  });\n",
    "</script>\n",
    "<form action=\"javascript:code_toggle()\"><input type=\"submit\" id=\"toggleButton\" value=\"Show Code\"></form>"
   ]
  },
  {
   "cell_type": "markdown",
   "metadata": {
    "collapsed": true
   },
   "source": [
    "### Prueba Insertar Codigo"
   ]
  },
  {
   "cell_type": "code",
   "execution_count": 8,
   "metadata": {},
   "outputs": [
    {
     "data": {
      "text/html": [
       "<iframe src=http://ipython.org/notebook.html width=900 height=350></iframe>"
      ],
      "text/plain": [
       "<IPython.core.display.HTML object>"
      ]
     },
     "execution_count": 8,
     "metadata": {},
     "output_type": "execute_result"
    }
   ],
   "source": [
    "from IPython.display import display, HTML\n",
    "HTML('<iframe src=http://ipython.org/notebook.html width=900 height=350></iframe>')"
   ]
  },
  {
   "cell_type": "code",
   "execution_count": 9,
   "metadata": {},
   "outputs": [
    {
     "data": {
      "text/html": [
       "<iframe src=\"http://numpy.org/\" height=300 width=600></iframe>"
      ],
      "text/plain": [
       "<IPython.core.display.HTML object>"
      ]
     },
     "execution_count": 9,
     "metadata": {},
     "output_type": "execute_result"
    }
   ],
   "source": [
    "HTML('<iframe src=\"http://numpy.org/\" height=300 width=600>'\n",
    "     '</iframe>')"
   ]
  },
  {
   "cell_type": "markdown",
   "metadata": {
    "collapsed": true
   },
   "source": [
    "#### Prueba Crear nuevas Celdas"
   ]
  },
  {
   "cell_type": "code",
   "execution_count": null,
   "metadata": {
    "collapsed": true
   },
   "outputs": [],
   "source": []
  },
  {
   "cell_type": "markdown",
   "metadata": {},
   "source": []
  },
  {
   "cell_type": "markdown",
   "metadata": {},
   "source": [
    "#### Explorando IPython"
   ]
  },
  {
   "cell_type": "code",
   "execution_count": 18,
   "metadata": {},
   "outputs": [
    {
     "name": "stdout",
     "output_type": "stream",
     "text": [
      "\u001b]0;IPython: vagrant/mooc-grader\u0007Python 2.7.13 |Continuum Analytics, Inc.| (default, Dec 20 2016, 23:08:16) \n",
      "Type \"copyright\", \"credits\" or \"license\" for more information.\n",
      "\n",
      "IPython 5.3.0 -- An enhanced Interactive Python.\n",
      "?         -> Introduction and overview of IPython's features.\n",
      "%quickref -> Quick reference.\n",
      "help      -> Python's own help system.\n",
      "object?   -> Details about 'object', use 'object??' for extra details.\n",
      "\n",
      "\u001b[?1l\u001b[6n\u001b[?2004h\u001b[?25l\u001b[?7l\u001b[0m\u001b[0m\u001b[J\u001b[0;38;5;28mIn [\u001b[0;38;5;10;1m1\u001b[0;38;5;28m]: \u001b[8D\u001b[8C\u001b[0m\u001b[?12l\u001b[?25h\u001b[?25l\u001b[8D\u001b[0m\u001b[J\u001b[0;38;5;28mIn [\u001b[0;38;5;10;1m1\u001b[0;38;5;28m]: \u001b[8D\u001b[0m\n",
      "\u001b[J\u001b[?7h\u001b[0m\u001b[?12l\u001b[?25h\u001b[?2004l\n",
      "\u001b[?1l\u001b[6n\u001b[?2004h\u001b[?25l\u001b[?7l\u001b[0m\u001b[0m\u001b[J\u001b[0;38;5;28mIn [\u001b[0;38;5;10;1m1\u001b[0;38;5;28m]: \u001b[8D\u001b[8C\u001b[0m\u001b[?12l\u001b[?25h\u001b[?25l\u001b[0m\u001b[?12l\u001b[?25h"
     ]
    }
   ],
   "source": [
    "!ipython"
   ]
  },
  {
   "cell_type": "code",
   "execution_count": 20,
   "metadata": {},
   "outputs": [
    {
     "name": "stdout",
     "output_type": "stream",
     "text": [
      "Help on package IPython:\n",
      "\n",
      "NAME\n",
      "    IPython - IPython: tools for interactive and parallel computing in Python.\n",
      "\n",
      "FILE\n",
      "    /opt/anaconda/lib/python2.7/site-packages/IPython/__init__.py\n",
      "\n",
      "DESCRIPTION\n",
      "    http://ipython.org\n",
      "\n",
      "PACKAGE CONTENTS\n",
      "    __main__\n",
      "    config\n",
      "    consoleapp\n",
      "    core (package)\n",
      "    display\n",
      "    extensions (package)\n",
      "    external (package)\n",
      "    frontend\n",
      "    html\n",
      "    kernel (package)\n",
      "    lib (package)\n",
      "    nbconvert\n",
      "    nbformat\n",
      "    parallel\n",
      "    paths\n",
      "    qt\n",
      "    sphinxext (package)\n",
      "    terminal (package)\n",
      "    testing (package)\n",
      "    utils (package)\n",
      "\n",
      "SUBMODULES\n",
      "    release\n",
      "\n",
      "FUNCTIONS\n",
      "    embed_kernel(module=None, local_ns=None, **kwargs)\n",
      "        Embed and start an IPython kernel in a given scope.\n",
      "        \n",
      "        If you don't want the kernel to initialize the namespace\n",
      "        from the scope of the surrounding function,\n",
      "        and/or you want to load full IPython configuration,\n",
      "        you probably want `IPython.start_kernel()` instead.\n",
      "        \n",
      "        Parameters\n",
      "        ----------\n",
      "        module : ModuleType, optional\n",
      "            The module to load into IPython globals (default: caller)\n",
      "        local_ns : dict, optional\n",
      "            The namespace to load into IPython user namespace (default: caller)\n",
      "        \n",
      "        kwargs : various, optional\n",
      "            Further keyword args are relayed to the IPKernelApp constructor,\n",
      "            allowing configuration of the Kernel.  Will only have an effect\n",
      "            on the first embed_kernel call for a given process.\n",
      "    \n",
      "    start_ipython(argv=None, **kwargs)\n",
      "        Launch a normal IPython instance (as opposed to embedded)\n",
      "        \n",
      "        `IPython.embed()` puts a shell in a particular calling scope,\n",
      "        such as a function or method for debugging purposes,\n",
      "        which is often not desirable.\n",
      "        \n",
      "        `start_ipython()` does full, regular IPython initialization,\n",
      "        including loading startup files, configuration, etc.\n",
      "        much of which is skipped by `embed()`.\n",
      "        \n",
      "        This is a public API method, and will survive implementation changes.\n",
      "        \n",
      "        Parameters\n",
      "        ----------\n",
      "        \n",
      "        argv : list or None, optional\n",
      "            If unspecified or None, IPython will parse command-line options from sys.argv.\n",
      "            To prevent any command-line parsing, pass an empty list: `argv=[]`.\n",
      "        user_ns : dict, optional\n",
      "            specify this dictionary to initialize the IPython user namespace with particular values.\n",
      "        kwargs : various, optional\n",
      "            Any other kwargs will be passed to the Application constructor,\n",
      "            such as `config`.\n",
      "    \n",
      "    start_kernel(argv=None, **kwargs)\n",
      "        Launch a normal IPython kernel instance (as opposed to embedded)\n",
      "        \n",
      "        `IPython.embed_kernel()` puts a shell in a particular calling scope,\n",
      "        such as a function or method for debugging purposes,\n",
      "        which is often not desirable.\n",
      "        \n",
      "        `start_kernel()` does full, regular IPython initialization,\n",
      "        including loading startup files, configuration, etc.\n",
      "        much of which is skipped by `embed()`.\n",
      "        \n",
      "        Parameters\n",
      "        ----------\n",
      "        \n",
      "        argv : list or None, optional\n",
      "            If unspecified or None, IPython will parse command-line options from sys.argv.\n",
      "            To prevent any command-line parsing, pass an empty list: `argv=[]`.\n",
      "        user_ns : dict, optional\n",
      "            specify this dictionary to initialize the IPython user namespace with particular values.\n",
      "        kwargs : various, optional\n",
      "            Any other kwargs will be passed to the Application constructor,\n",
      "            such as `config`.\n",
      "\n",
      "DATA\n",
      "    __author__ = 'The IPython Development Team <ipython-dev@scipy.org>'\n",
      "    __license__ = 'BSD'\n",
      "    __version__ = '5.3.0'\n",
      "    absolute_import = _Feature((2, 5, 0, 'alpha', 1), (3, 0, 0, 'alpha', 0...\n",
      "    version_info = (5, 3, 0, '')\n",
      "\n",
      "VERSION\n",
      "    5.3.0\n",
      "\n",
      "AUTHOR\n",
      "    The IPython Development Team <ipython-dev@scipy.org>\n",
      "\n",
      "\n"
     ]
    }
   ],
   "source": [
    "help(IPython)"
   ]
  },
  {
   "cell_type": "code",
   "execution_count": 26,
   "metadata": {},
   "outputs": [
    {
     "data": {
      "text/plain": [
       "<ipykernel.zmqshell.ZMQInteractiveShell at 0xb5ff71cc>"
      ]
     },
     "execution_count": 26,
     "metadata": {},
     "output_type": "execute_result"
    }
   ],
   "source": [
    "IPython.core.getipython.get_ipython()"
   ]
  },
  {
   "cell_type": "code",
   "execution_count": 27,
   "metadata": {},
   "outputs": [
    {
     "data": {
      "text/plain": [
       "CoroutineInputTransformer(coro=<generator object _strip_prompts at 0xb3ba302c>)"
      ]
     },
     "execution_count": 27,
     "metadata": {},
     "output_type": "execute_result"
    }
   ],
   "source": [
    "IPython.core.inputtransformer.ipy_prompt()"
   ]
  },
  {
   "cell_type": "code",
   "execution_count": 28,
   "metadata": {},
   "outputs": [
    {
     "data": {
      "text/plain": [
       "'cat'"
      ]
     },
     "execution_count": 28,
     "metadata": {},
     "output_type": "execute_result"
    }
   ],
   "source": [
    "IPython.core.page.get_pager_cmd()"
   ]
  },
  {
   "cell_type": "code",
   "execution_count": 31,
   "metadata": {},
   "outputs": [
    {
     "data": {
      "text/plain": [
       "sdasdas"
      ]
     },
     "metadata": {},
     "output_type": "display_data"
    }
   ],
   "source": [
    "IPython.core.page.display_page(\"sdasdas\")"
   ]
  },
  {
   "cell_type": "code",
   "execution_count": 37,
   "metadata": {},
   "outputs": [
    {
     "name": "stdout",
     "output_type": "stream",
     "text": [
      "\n"
     ]
    }
   ],
   "source": [
    "IPython.core.page.pager_page(\"ff\", start=10, screen_lines=10, pager_cmd=None)"
   ]
  },
  {
   "cell_type": "code",
   "execution_count": 38,
   "metadata": {
    "collapsed": true
   },
   "outputs": [],
   "source": [
    "IPython.core.payloadpage.page(\"S\")"
   ]
  },
  {
   "cell_type": "code",
   "execution_count": 43,
   "metadata": {},
   "outputs": [
    {
     "name": "stdout",
     "output_type": "stream",
     "text": [
      "{\r\n",
      " \"cells\": [\r\n",
      "  {\r\n",
      "   \"cell_type\": \"markdown\",\r\n",
      "   \"metadata\": {},\r\n",
      "   \"source\": [\r\n",
      "    \"###END###\"\r\n",
      "   ]\r\n",
      "  },\r\n",
      "  {\r\n",
      "   \"cell_type\": \"markdown\",\r\n",
      "   \"metadata\": {},\r\n",
      "   \"source\": [\r\n",
      "    \"# QUIZ #1\"\r\n",
      "   ]\r\n",
      "  },\r\n",
      "  {\r\n",
      "   \"cell_type\": \"markdown\",\r\n",
      "   \"metadata\": {},\r\n",
      "   \"source\": [\r\n",
      "    \"Esto es un ejercicio\"\r\n",
      "   ]\r\n",
      "  },\r\n",
      "  {\r\n",
      "   \"cell_type\": \"code\",\r\n",
      "   \"execution_count\": 14,\r\n",
      "   \"metadata\": {},\r\n",
      "   \"outputs\": [],\r\n",
      "   \"source\": [\r\n",
      "    \"def prueba(a,b):\\n\",\r\n",
      "    \"    c=a+b\\n\",\r\n",
      "    \"    return c\"\r\n",
      "   ]\r\n",
      "  },\r\n",
      "  {\r\n",
      "   \"cell_type\": \"code\",\r\n",
      "   \"execution_count\": 16,\r\n",
      "   \"metadata\": {},\r\n",
      "   \"outputs\": [\r\n",
      "    {\r\n",
      "     \"data\": {\r\n",
      "      \"text/plain\": [\r\n",
      "       \"3\"\r\n",
      "      ]\r\n",
      "     },\r\n",
      "     \"execution_count\": 16,\r\n",
      "     \"metadata\": {},\r\n",
      "     \"output_type\": \"execute_result\"\r\n",
      "    }\r\n",
      "   ],\r\n",
      "   \"source\": [\r\n",
      "    \"prueba(1,2)\"\r\n",
      "   ]\r\n",
      "  },\r\n",
      "  {\r\n",
      "   \"cell_type\": \"markdown\",\r\n",
      "   \"metadata\": {},\r\n",
      "   \"source\": [\r\n",
      "    \"###END###\"\r\n",
      "   ]\r\n",
      "  },\r\n",
      "  {\r\n",
      "   \"cell_type\": \"code\",\r\n",
      "   \"execution_count\": null,\r\n",
      "   \"metadata\": {\r\n",
      "    \"collapsed\": true\r\n",
      "   },\r\n",
      "   \"outputs\": [],\r\n",
      "   \"source\": []\r\n",
      "  }\r\n",
      " ],\r\n",
      " \"metadata\": {\r\n",
      "  \"kernelspec\": {\r\n",
      "   \"display_name\": \"Python 2\",\r\n",
      "   \"language\": \"python\",\r\n",
      "   \"name\": \"python2\"\r\n",
      "  },\r\n",
      "  \"language_info\": {\r\n",
      "   \"codemirror_mode\": {\r\n",
      "    \"name\": \"ipython\",\r\n",
      "    \"version\": 2\r\n",
      "   },\r\n",
      "   \"file_extension\": \".py\",\r\n",
      "   \"mimetype\": \"text/x-python\",\r\n",
      "   \"name\": \"python\",\r\n",
      "   \"nbconvert_exporter\": \"python\",\r\n",
      "   \"pygments_lexer\": \"ipython2\",\r\n",
      "   \"version\": \"2.7.13\"\r\n",
      "  }\r\n",
      " },\r\n",
      " \"nbformat\": 4,\r\n",
      " \"nbformat_minor\": 2\r\n",
      "}\r\n"
     ]
    }
   ],
   "source": [
    "IPython.core.page.page_file(\"./banco.ipynb\")"
   ]
  },
  {
   "cell_type": "code",
   "execution_count": 6,
   "metadata": {},
   "outputs": [],
   "source": [
    "import json\n",
    "\n",
    "json_notebook = json.load(open('./banco.ipynb'))\n",
    "\n"
   ]
  },
  {
   "cell_type": "code",
   "execution_count": 7,
   "metadata": {},
   "outputs": [
    {
     "data": {
      "text/plain": [
       "[{u'cell_type': u'markdown', u'metadata': {}, u'source': [u'###INIT###']},\n",
       " {u'cell_type': u'markdown', u'metadata': {}, u'source': [u'# Titulo']},\n",
       " {u'cell_type': u'markdown',\n",
       "  u'metadata': {},\n",
       "  u'source': [u'Esto es un ejercicio']},\n",
       " {u'cell_type': u'code',\n",
       "  u'execution_count': 6,\n",
       "  u'metadata': {u'collapsed': True},\n",
       "  u'outputs': [],\n",
       "  u'source': [u'def prueba(a,b):\\n', u'    c=a+b\\n', u'    return c']},\n",
       " {u'cell_type': u'code',\n",
       "  u'execution_count': 7,\n",
       "  u'metadata': {},\n",
       "  u'outputs': [{u'data': {u'text/plain': [u'3']},\n",
       "    u'execution_count': 7,\n",
       "    u'metadata': {},\n",
       "    u'output_type': u'execute_result'}],\n",
       "  u'source': [u'prueba(1,2)']},\n",
       " {u'cell_type': u'markdown', u'metadata': {}, u'source': [u'###END###']},\n",
       " {u'cell_type': u'code',\n",
       "  u'execution_count': None,\n",
       "  u'metadata': {u'collapsed': True},\n",
       "  u'outputs': [],\n",
       "  u'source': [u'print \"Prueba\"']},\n",
       " {u'cell_type': u'markdown',\n",
       "  u'metadata': {u'collapsed': True},\n",
       "  u'source': [u'###INIT###']},\n",
       " {u'cell_type': u'markdown', u'metadata': {}, u'source': [u'# Titulo']},\n",
       " {u'cell_type': u'code',\n",
       "  u'execution_count': 8,\n",
       "  u'metadata': {},\n",
       "  u'outputs': [{u'name': u'stdout',\n",
       "    u'output_type': u'stream',\n",
       "    u'text': [u'2\\n']}],\n",
       "  u'source': [u'print \"2\"']},\n",
       " {u'cell_type': u'markdown', u'metadata': {}, u'source': [u'###END###']},\n",
       " {u'cell_type': u'markdown', u'metadata': {}, u'source': [u'###INIT###']},\n",
       " {u'cell_type': u'markdown', u'metadata': {}, u'source': [u'# Titulo']},\n",
       " {u'cell_type': u'code',\n",
       "  u'execution_count': 9,\n",
       "  u'metadata': {},\n",
       "  u'outputs': [{u'name': u'stdout',\n",
       "    u'output_type': u'stream',\n",
       "    u'text': [u'3\\n']}],\n",
       "  u'source': [u'print \"3\"']},\n",
       " {u'cell_type': u'markdown', u'metadata': {}, u'source': [u'###END###']},\n",
       " {u'cell_type': u'code',\n",
       "  u'execution_count': None,\n",
       "  u'metadata': {u'collapsed': True},\n",
       "  u'outputs': [],\n",
       "  u'source': [u'print \"Prueba 2\"']},\n",
       " {u'cell_type': u'markdown', u'metadata': {}, u'source': [u'###INIT###']},\n",
       " {u'cell_type': u'markdown', u'metadata': {}, u'source': [u'# QUIZ #4']},\n",
       " {u'cell_type': u'code',\n",
       "  u'execution_count': 10,\n",
       "  u'metadata': {},\n",
       "  u'outputs': [{u'name': u'stdout',\n",
       "    u'output_type': u'stream',\n",
       "    u'text': [u'4\\n']}],\n",
       "  u'source': [u'print \"4\"']},\n",
       " {u'cell_type': u'markdown', u'metadata': {}, u'source': [u'###END###']},\n",
       " {u'cell_type': u'code',\n",
       "  u'execution_count': None,\n",
       "  u'metadata': {u'collapsed': True},\n",
       "  u'outputs': [],\n",
       "  u'source': []}]"
      ]
     },
     "execution_count": 7,
     "metadata": {},
     "output_type": "execute_result"
    }
   ],
   "source": [
    "json_notebook['cells']"
   ]
  },
  {
   "cell_type": "code",
   "execution_count": 15,
   "metadata": {},
   "outputs": [
    {
     "data": {
      "application/json": [
       {
        "cell_type": "markdown",
        "metadata": {},
        "source": [
         "###INIT###"
        ]
       },
       {
        "cell_type": "markdown",
        "metadata": {},
        "source": [
         "# Titulo"
        ]
       },
       {
        "cell_type": "markdown",
        "metadata": {},
        "source": [
         "Esto es un ejercicio"
        ]
       },
       {
        "cell_type": "code",
        "execution_count": 6,
        "metadata": {
         "collapsed": true
        },
        "outputs": [],
        "source": [
         "def prueba(a,b):\n",
         "    c=a+b\n",
         "    return c"
        ]
       },
       {
        "cell_type": "code",
        "execution_count": 7,
        "metadata": {},
        "outputs": [
         {
          "data": {
           "text/plain": [
            "3"
           ]
          },
          "execution_count": 7,
          "metadata": {},
          "output_type": "execute_result"
         }
        ],
        "source": [
         "prueba(1,2)"
        ]
       },
       {
        "cell_type": "markdown",
        "metadata": {},
        "source": [
         "###END###"
        ]
       },
       {
        "cell_type": "code",
        "execution_count": null,
        "metadata": {
         "collapsed": true
        },
        "outputs": [],
        "source": [
         "print \"Prueba\""
        ]
       },
       {
        "cell_type": "markdown",
        "metadata": {
         "collapsed": true
        },
        "source": [
         "###INIT###"
        ]
       },
       {
        "cell_type": "markdown",
        "metadata": {},
        "source": [
         "# Titulo"
        ]
       },
       {
        "cell_type": "code",
        "execution_count": 8,
        "metadata": {},
        "outputs": [
         {
          "name": "stdout",
          "output_type": "stream",
          "text": [
           "2\n"
          ]
         }
        ],
        "source": [
         "print \"2\""
        ]
       },
       {
        "cell_type": "markdown",
        "metadata": {},
        "source": [
         "###END###"
        ]
       },
       {
        "cell_type": "markdown",
        "metadata": {},
        "source": [
         "###INIT###"
        ]
       },
       {
        "cell_type": "markdown",
        "metadata": {},
        "source": [
         "# Titulo"
        ]
       },
       {
        "cell_type": "code",
        "execution_count": 9,
        "metadata": {},
        "outputs": [
         {
          "name": "stdout",
          "output_type": "stream",
          "text": [
           "3\n"
          ]
         }
        ],
        "source": [
         "print \"3\""
        ]
       },
       {
        "cell_type": "markdown",
        "metadata": {},
        "source": [
         "###END###"
        ]
       },
       {
        "cell_type": "code",
        "execution_count": null,
        "metadata": {
         "collapsed": true
        },
        "outputs": [],
        "source": [
         "print \"Prueba 2\""
        ]
       },
       {
        "cell_type": "markdown",
        "metadata": {},
        "source": [
         "###INIT###"
        ]
       },
       {
        "cell_type": "markdown",
        "metadata": {},
        "source": [
         "# QUIZ #4"
        ]
       },
       {
        "cell_type": "code",
        "execution_count": 10,
        "metadata": {},
        "outputs": [
         {
          "name": "stdout",
          "output_type": "stream",
          "text": [
           "4\n"
          ]
         }
        ],
        "source": [
         "print \"4\""
        ]
       },
       {
        "cell_type": "markdown",
        "metadata": {},
        "source": [
         "###END###"
        ]
       },
       {
        "cell_type": "code",
        "execution_count": null,
        "metadata": {
         "collapsed": true
        },
        "outputs": [],
        "source": []
       }
      ]
     },
     "metadata": {},
     "output_type": "display_data"
    }
   ],
   "source": [
    "IPython.display.display_json(json_notebook['cells'],raw=True)"
   ]
  },
  {
   "cell_type": "code",
   "execution_count": 13,
   "metadata": {},
   "outputs": [
    {
     "data": {
      "cells": [
       {
        "cell_type": "markdown",
        "metadata": {},
        "source": [
         "###INIT###"
        ]
       },
       {
        "cell_type": "markdown",
        "metadata": {},
        "source": [
         "# Titulo"
        ]
       },
       {
        "cell_type": "markdown",
        "metadata": {},
        "source": [
         "Esto es un ejercicio"
        ]
       },
       {
        "cell_type": "code",
        "execution_count": 6,
        "metadata": {
         "collapsed": true
        },
        "outputs": [],
        "source": [
         "def prueba(a,b):\n",
         "    c=a+b\n",
         "    return c"
        ]
       },
       {
        "cell_type": "code",
        "execution_count": 7,
        "metadata": {},
        "outputs": [
         {
          "data": {
           "text/plain": [
            "3"
           ]
          },
          "execution_count": 7,
          "metadata": {},
          "output_type": "execute_result"
         }
        ],
        "source": [
         "prueba(1,2)"
        ]
       },
       {
        "cell_type": "markdown",
        "metadata": {},
        "source": [
         "###END###"
        ]
       },
       {
        "cell_type": "code",
        "execution_count": null,
        "metadata": {
         "collapsed": true
        },
        "outputs": [],
        "source": [
         "print \"Prueba\""
        ]
       },
       {
        "cell_type": "markdown",
        "metadata": {
         "collapsed": true
        },
        "source": [
         "###INIT###"
        ]
       },
       {
        "cell_type": "markdown",
        "metadata": {},
        "source": [
         "# Titulo"
        ]
       },
       {
        "cell_type": "code",
        "execution_count": 8,
        "metadata": {},
        "outputs": [
         {
          "name": "stdout",
          "output_type": "stream",
          "text": [
           "2\n"
          ]
         }
        ],
        "source": [
         "print \"2\""
        ]
       },
       {
        "cell_type": "markdown",
        "metadata": {},
        "source": [
         "###END###"
        ]
       },
       {
        "cell_type": "markdown",
        "metadata": {},
        "source": [
         "###INIT###"
        ]
       },
       {
        "cell_type": "markdown",
        "metadata": {},
        "source": [
         "# Titulo"
        ]
       },
       {
        "cell_type": "code",
        "execution_count": 9,
        "metadata": {},
        "outputs": [
         {
          "name": "stdout",
          "output_type": "stream",
          "text": [
           "3\n"
          ]
         }
        ],
        "source": [
         "print \"3\""
        ]
       },
       {
        "cell_type": "markdown",
        "metadata": {},
        "source": [
         "###END###"
        ]
       },
       {
        "cell_type": "code",
        "execution_count": null,
        "metadata": {
         "collapsed": true
        },
        "outputs": [],
        "source": [
         "print \"Prueba 2\""
        ]
       },
       {
        "cell_type": "markdown",
        "metadata": {},
        "source": [
         "###INIT###"
        ]
       },
       {
        "cell_type": "markdown",
        "metadata": {},
        "source": [
         "# QUIZ #4"
        ]
       },
       {
        "cell_type": "code",
        "execution_count": 10,
        "metadata": {},
        "outputs": [
         {
          "name": "stdout",
          "output_type": "stream",
          "text": [
           "4\n"
          ]
         }
        ],
        "source": [
         "print \"4\""
        ]
       },
       {
        "cell_type": "markdown",
        "metadata": {},
        "source": [
         "###END###"
        ]
       },
       {
        "cell_type": "code",
        "execution_count": null,
        "metadata": {
         "collapsed": true
        },
        "outputs": [],
        "source": []
       }
      ],
      "metadata": {
       "kernelspec": {
        "display_name": "Python 2",
        "language": "python",
        "name": "python2"
       },
       "language_info": {
        "codemirror_mode": {
         "name": "ipython",
         "version": 2
        },
        "file_extension": ".py",
        "mimetype": "text/x-python",
        "name": "python",
        "nbconvert_exporter": "python",
        "pygments_lexer": "ipython2",
        "version": "2.7.13"
       }
      },
      "nbformat": 4,
      "nbformat_minor": 2
     },
     "metadata": {},
     "output_type": "display_data"
    }
   ],
   "source": [
    "import IPython\n",
    "IPython.display.publish_display_data(json_notebook)"
   ]
  },
  {
   "cell_type": "code",
   "execution_count": 72,
   "metadata": {},
   "outputs": [
    {
     "data": {
      "text/html": [
       "<button>Toggle code</button>"
      ]
     },
     "metadata": {},
     "output_type": "display_data"
    }
   ],
   "source": [
    "IPython.display.display_html(\"<button>Toggle code</button>\",raw=True)"
   ]
  },
  {
   "cell_type": "code",
   "execution_count": 79,
   "metadata": {
    "collapsed": true
   },
   "outputs": [],
   "source": [
    "s = IPython.utils.openpy.open(\"./banco.ipynb\")"
   ]
  },
  {
   "cell_type": "code",
   "execution_count": 81,
   "metadata": {},
   "outputs": [
    {
     "data": {
      "text/plain": [
       "[u'{\\n',\n",
       " u' \"cells\": [\\n',\n",
       " u'  {\\n',\n",
       " u'   \"cell_type\": \"markdown\",\\n',\n",
       " u'   \"metadata\": {},\\n',\n",
       " u'   \"source\": [\\n',\n",
       " u'    \"###END###\"\\n',\n",
       " u'   ]\\n',\n",
       " u'  },\\n',\n",
       " u'  {\\n',\n",
       " u'   \"cell_type\": \"markdown\",\\n',\n",
       " u'   \"metadata\": {},\\n',\n",
       " u'   \"source\": [\\n',\n",
       " u'    \"# QUIZ #1\"\\n',\n",
       " u'   ]\\n',\n",
       " u'  },\\n',\n",
       " u'  {\\n',\n",
       " u'   \"cell_type\": \"markdown\",\\n',\n",
       " u'   \"metadata\": {},\\n',\n",
       " u'   \"source\": [\\n',\n",
       " u'    \"Esto es un ejercicio\"\\n',\n",
       " u'   ]\\n',\n",
       " u'  },\\n',\n",
       " u'  {\\n',\n",
       " u'   \"cell_type\": \"code\",\\n',\n",
       " u'   \"execution_count\": 14,\\n',\n",
       " u'   \"metadata\": {},\\n',\n",
       " u'   \"outputs\": [],\\n',\n",
       " u'   \"source\": [\\n',\n",
       " u'    \"def prueba(a,b):\\\\n\",\\n',\n",
       " u'    \"    c=a+b\\\\n\",\\n',\n",
       " u'    \"    return c\"\\n',\n",
       " u'   ]\\n',\n",
       " u'  },\\n',\n",
       " u'  {\\n',\n",
       " u'   \"cell_type\": \"code\",\\n',\n",
       " u'   \"execution_count\": 16,\\n',\n",
       " u'   \"metadata\": {},\\n',\n",
       " u'   \"outputs\": [\\n',\n",
       " u'    {\\n',\n",
       " u'     \"data\": {\\n',\n",
       " u'      \"text/plain\": [\\n',\n",
       " u'       \"3\"\\n',\n",
       " u'      ]\\n',\n",
       " u'     },\\n',\n",
       " u'     \"execution_count\": 16,\\n',\n",
       " u'     \"metadata\": {},\\n',\n",
       " u'     \"output_type\": \"execute_result\"\\n',\n",
       " u'    }\\n',\n",
       " u'   ],\\n',\n",
       " u'   \"source\": [\\n',\n",
       " u'    \"prueba(1,2)\"\\n',\n",
       " u'   ]\\n',\n",
       " u'  },\\n',\n",
       " u'  {\\n',\n",
       " u'   \"cell_type\": \"markdown\",\\n',\n",
       " u'   \"metadata\": {},\\n',\n",
       " u'   \"source\": [\\n',\n",
       " u'    \"###END###\"\\n',\n",
       " u'   ]\\n',\n",
       " u'  },\\n',\n",
       " u'  {\\n',\n",
       " u'   \"cell_type\": \"code\",\\n',\n",
       " u'   \"execution_count\": null,\\n',\n",
       " u'   \"metadata\": {\\n',\n",
       " u'    \"collapsed\": true\\n',\n",
       " u'   },\\n',\n",
       " u'   \"outputs\": [],\\n',\n",
       " u'   \"source\": []\\n',\n",
       " u'  }\\n',\n",
       " u' ],\\n',\n",
       " u' \"metadata\": {\\n',\n",
       " u'  \"kernelspec\": {\\n',\n",
       " u'   \"display_name\": \"Python 2\",\\n',\n",
       " u'   \"language\": \"python\",\\n',\n",
       " u'   \"name\": \"python2\"\\n',\n",
       " u'  },\\n',\n",
       " u'  \"language_info\": {\\n',\n",
       " u'   \"codemirror_mode\": {\\n',\n",
       " u'    \"name\": \"ipython\",\\n',\n",
       " u'    \"version\": 2\\n',\n",
       " u'   },\\n',\n",
       " u'   \"file_extension\": \".py\",\\n',\n",
       " u'   \"mimetype\": \"text/x-python\",\\n',\n",
       " u'   \"name\": \"python\",\\n',\n",
       " u'   \"nbconvert_exporter\": \"python\",\\n',\n",
       " u'   \"pygments_lexer\": \"ipython2\",\\n',\n",
       " u'   \"version\": \"2.7.13\"\\n',\n",
       " u'  }\\n',\n",
       " u' },\\n',\n",
       " u' \"nbformat\": 4,\\n',\n",
       " u' \"nbformat_minor\": 2\\n',\n",
       " u'}\\n']"
      ]
     },
     "execution_count": 81,
     "metadata": {},
     "output_type": "execute_result"
    }
   ],
   "source": [
    "s.readlines()"
   ]
  },
  {
   "cell_type": "code",
   "execution_count": 86,
   "metadata": {},
   "outputs": [
    {
     "data": {
      "text/plain": [
       "u'###END###'"
      ]
     },
     "execution_count": 86,
     "metadata": {},
     "output_type": "execute_result"
    }
   ],
   "source": [
    "json_notebook['cells'][0]['source'][0]"
   ]
  },
  {
   "cell_type": "code",
   "execution_count": 16,
   "metadata": {},
   "outputs": [
    {
     "data": {
      "text/markdown": [
       "###INIT###"
      ],
      "text/plain": [
       "<IPython.core.display.Markdown object>"
      ]
     },
     "metadata": {},
     "output_type": "display_data"
    }
   ],
   "source": [
    "from IPython.display import display, Markdown, Latex\n",
    "display(Markdown(json_notebook['cells'][0]['source'][0]))"
   ]
  },
  {
   "cell_type": "code",
   "execution_count": 88,
   "metadata": {
    "collapsed": true
   },
   "outputs": [],
   "source": [
    "import notebook"
   ]
  },
  {
   "cell_type": "code",
   "execution_count": 89,
   "metadata": {},
   "outputs": [
    {
     "name": "stdout",
     "output_type": "stream",
     "text": [
      "Help on package notebook:\n",
      "\n",
      "NAME\n",
      "    notebook - The Jupyter HTML Notebook\n",
      "\n",
      "FILE\n",
      "    /opt/anaconda/lib/python2.7/site-packages/notebook/__init__.py\n",
      "\n",
      "PACKAGE CONTENTS\n",
      "    __main__\n",
      "    _sysinfo\n",
      "    _tz\n",
      "    _version\n",
      "    allow76\n",
      "    auth (package)\n",
      "    base (package)\n",
      "    bundler (package)\n",
      "    edit (package)\n",
      "    extensions\n",
      "    files (package)\n",
      "    jstest\n",
      "    kernelspecs (package)\n",
      "    log\n",
      "    nbconvert (package)\n",
      "    nbextensions\n",
      "    notebook (package)\n",
      "    notebookapp\n",
      "    serverextensions\n",
      "    services (package)\n",
      "    terminal (package)\n",
      "    tests (package)\n",
      "    tree (package)\n",
      "    utils\n",
      "    view (package)\n",
      "\n",
      "DATA\n",
      "    DEFAULT_STATIC_FILES_PATH = '/opt/anaconda/lib/python2.7/site-packages...\n",
      "    DEFAULT_TEMPLATE_PATH_LIST = ['/opt/anaconda/lib/python2.7/site-packag...\n",
      "    __version__ = '5.0.0'\n",
      "    version_info = (5, 0, 0)\n",
      "\n",
      "VERSION\n",
      "    5.0.0\n",
      "\n",
      "\n"
     ]
    }
   ],
   "source": [
    "help(notebook)"
   ]
  },
  {
   "cell_type": "code",
   "execution_count": 91,
   "metadata": {},
   "outputs": [
    {
     "ename": "NameError",
     "evalue": "name 'Jupyter' is not defined",
     "output_type": "error",
     "traceback": [
      "\u001b[0;31m\u001b[0m",
      "\u001b[0;31mNameError\u001b[0mTraceback (most recent call last)",
      "\u001b[0;32m<ipython-input-91-60218cdb64f2>\u001b[0m in \u001b[0;36m<module>\u001b[0;34m()\u001b[0m\n\u001b[0;32m----> 1\u001b[0;31m \u001b[0mcell\u001b[0m \u001b[0;34m=\u001b[0m \u001b[0mJupyter\u001b[0m\u001b[0;34m.\u001b[0m\u001b[0mnotebook\u001b[0m\u001b[0;34m.\u001b[0m\u001b[0mget_selected_cell\u001b[0m\u001b[0;34m(\u001b[0m\u001b[0;34m)\u001b[0m\u001b[0;34m;\u001b[0m\u001b[0;34m\u001b[0m\u001b[0m\n\u001b[0m",
      "\u001b[0;31mNameError\u001b[0m: name 'Jupyter' is not defined"
     ]
    }
   ],
   "source": []
  },
  {
   "cell_type": "code",
   "execution_count": 28,
   "metadata": {},
   "outputs": [
    {
     "ename": "NameError",
     "evalue": "name 'Javascript' is not defined",
     "output_type": "error",
     "traceback": [
      "\u001b[0;31m\u001b[0m",
      "\u001b[0;31mNameError\u001b[0mTraceback (most recent call last)",
      "\u001b[0;32m<ipython-input-28-b74d0827dbe2>\u001b[0m in \u001b[0;36m<module>\u001b[0;34m()\u001b[0m\n\u001b[0;32m----> 1\u001b[0;31m display(Javascript(\"\"\"var cell = Jupyter.notebook.get_selected_cell();\n\u001b[0m\u001b[1;32m      2\u001b[0m \u001b[0mvar\u001b[0m \u001b[0mconfig\u001b[0m \u001b[0;34m=\u001b[0m \u001b[0mcell\u001b[0m\u001b[0;34m.\u001b[0m\u001b[0mconfig\u001b[0m\u001b[0;34m;\u001b[0m\u001b[0;34m\u001b[0m\u001b[0m\n\u001b[1;32m      3\u001b[0m var patch = {\n\u001b[1;32m      4\u001b[0m       CodeCell:{\n\u001b[1;32m      5\u001b[0m         \u001b[0mcm_config\u001b[0m\u001b[0;34m:\u001b[0m\u001b[0;34m{\u001b[0m\u001b[0mindentUnit\u001b[0m\u001b[0;34m:\u001b[0m\u001b[0;36m2\u001b[0m\u001b[0;34m}\u001b[0m\u001b[0;34m\u001b[0m\u001b[0m\n",
      "\u001b[0;31mNameError\u001b[0m: name 'Javascript' is not defined"
     ]
    }
   ],
   "source": [
    "display(Javascript(\"\"\"var cell = Jupyter.notebook.get_selected_cell();\n",
    "var config = cell.config;\n",
    "var patch = {\n",
    "      CodeCell:{\n",
    "        cm_config:{indentUnit:2}\n",
    "      }\n",
    "    }\n",
    "config.update(patch)\"\"\"));"
   ]
  },
  {
   "cell_type": "markdown",
   "metadata": {
    "collapsed": true
   },
   "source": [
    "## Prueba Para leer JSON y renderizarlo"
   ]
  },
  {
   "cell_type": "code",
   "execution_count": 140,
   "metadata": {},
   "outputs": [
    {
     "data": {
      "application/javascript": [
       "\n",
       "      var mark = IPython.notebook.insert_cell_above('markdown')\n",
       "      mark.set_text(\"d\")\n",
       "    "
      ],
      "text/plain": [
       "<IPython.core.display.Javascript object>"
      ]
     },
     "metadata": {},
     "output_type": "display_data"
    },
    {
     "data": {
      "application/javascript": [
       "\n",
       "    var code = IPython.notebook.insert_cell_above('code')\n",
       "    code.set_text(\"d\")\n",
       "    "
      ],
      "text/plain": [
       "<IPython.core.display.Javascript object>"
      ]
     },
     "metadata": {},
     "output_type": "display_data"
    }
   ],
   "source": [
    "texto = \"d\"\n",
    "display(Javascript(\"\"\"\n",
    "      var mark = IPython.notebook.insert_cell_above('markdown')\n",
    "      mark.set_text(\"{0}\")\n",
    "    \"\"\".format(texto)))\n",
    "display(Javascript(\"\"\"\n",
    "    var code = IPython.notebook.insert_cell_above('code')\n",
    "    code.set_text(\"{0}\")\n",
    "    \"\"\".format(texto)))"
   ]
  },
  {
   "cell_type": "markdown",
   "metadata": {},
   "source": [
    "d"
   ]
  },
  {
   "cell_type": "code",
   "execution_count": null,
   "metadata": {
    "collapsed": true
   },
   "outputs": [],
   "source": [
    "d"
   ]
  },
  {
   "cell_type": "code",
   "execution_count": 100,
   "metadata": {},
   "outputs": [
    {
     "data": {
      "application/javascript": [
       "\n",
       "    IPython.notebook.insert_cell_below('markdown')\n",
       "    "
      ],
      "text/plain": [
       "<IPython.core.display.Javascript object>"
      ]
     },
     "metadata": {},
     "output_type": "display_data"
    }
   ],
   "source": [
    "from IPython.display import display, Javascript\n",
    "\n",
    "def markdown_below():\n",
    "    display(Javascript(\"\"\"\n",
    "    IPython.notebook.insert_cell_below('markdown')\n",
    "    \"\"\"));\n",
    "\n",
    "markdown_below()"
   ]
  },
  {
   "cell_type": "code",
   "execution_count": 227,
   "metadata": {},
   "outputs": [
    {
     "name": "stdout",
     "output_type": "stream",
     "text": [
      "Overwriting ./test_1.py\n"
     ]
    }
   ],
   "source": [
    "%%writefile ./test_1.py\n",
    "import base64\n",
    "from IPython.display import display, Javascript\n",
    "from IPython.utils.py3compat import str_to_bytes, bytes_to_str\n",
    "def new_cell(texto,tipo_celda):\n",
    "  \n",
    "  if tipo_celda == \"markdown\":\n",
    "    \n",
    "    display(Javascript(\"\"\"\n",
    "      var mark = IPython.notebook.insert_cell_above('markdown')\n",
    "      mark.set_text(\"{0}\")\n",
    "    \"\"\".format(texto)))\n",
    " \n",
    "  if tipo_celda == \"code\":\n",
    "    texto = bytes_to_str(base64.b64encode(str_to_bytes(texto)))\n",
    "    display(Javascript(\"\"\"\n",
    "    var code = IPython.notebook.insert_cell_above('code')\n",
    "    code.set_text(atob(\"{0}\"))\n",
    "    \"\"\".format(texto)))"
   ]
  },
  {
   "cell_type": "code",
   "execution_count": null,
   "metadata": {
    "collapsed": true
   },
   "outputs": [],
   "source": [
    "display(Javascript(\"\"\"\n",
    "      var mark = IPython.notebook.insert_cell_above('markdown')\n",
    "      mark.set_text(\"{0}\")\n",
    "    \"\"\".format(texto)))"
   ]
  },
  {
   "cell_type": "code",
   "execution_count": 1,
   "metadata": {
    "collapsed": true
   },
   "outputs": [],
   "source": [
    "%run ./test_1.py"
   ]
  },
  {
   "cell_type": "code",
   "execution_count": 229,
   "metadata": {},
   "outputs": [
    {
     "data": {
      "application/javascript": [
       "\n",
       "      var mark = IPython.notebook.insert_cell_above('markdown')\n",
       "      mark.set_text(\"swaw\")\n",
       "    "
      ],
      "text/plain": [
       "<IPython.core.display.Javascript object>"
      ]
     },
     "metadata": {},
     "output_type": "display_data"
    },
    {
     "data": {
      "application/javascript": [
       "\n",
       "    var code = IPython.notebook.insert_cell_above('code')\n",
       "    code.set_text(atob(\"cHJpbnQgJ0hvbGEn\"))\n",
       "    "
      ],
      "text/plain": [
       "<IPython.core.display.Javascript object>"
      ]
     },
     "metadata": {},
     "output_type": "display_data"
    },
    {
     "data": {
      "application/javascript": [
       "\n",
       "      var mark = IPython.notebook.insert_cell_above('markdown')\n",
       "      mark.set_text(\"sdddwaw\")\n",
       "    "
      ],
      "text/plain": [
       "<IPython.core.display.Javascript object>"
      ]
     },
     "metadata": {},
     "output_type": "display_data"
    }
   ],
   "source": [
    "new_cell(\"swaw\",\"markdown\")\n",
    "new_cell(\"print 'Hola'\",\"code\")\n",
    "new_cell(\"sdddwaw\",\"markdown\")"
   ]
  },
  {
   "cell_type": "markdown",
   "metadata": {},
   "source": [
    "swaw"
   ]
  },
  {
   "cell_type": "code",
   "execution_count": null,
   "metadata": {
    "collapsed": true
   },
   "outputs": [],
   "source": [
    "print 'Hola'"
   ]
  },
  {
   "cell_type": "markdown",
   "metadata": {},
   "source": [
    "sdddwaw"
   ]
  },
  {
   "cell_type": "code",
   "execution_count": 226,
   "metadata": {},
   "outputs": [
    {
     "data": {
      "application/javascript": [
       "\n",
       "      var mark = IPython.notebook.insert_cell_above('markdown')\n",
       "      mark.set_text(\"###END###\")\n",
       "    "
      ],
      "text/plain": [
       "<IPython.core.display.Javascript object>"
      ]
     },
     "metadata": {},
     "output_type": "display_data"
    },
    {
     "data": {
      "application/javascript": [
       "\n",
       "      var mark = IPython.notebook.insert_cell_above('markdown')\n",
       "      mark.set_text(\"# QUIZ #1\")\n",
       "    "
      ],
      "text/plain": [
       "<IPython.core.display.Javascript object>"
      ]
     },
     "metadata": {},
     "output_type": "display_data"
    },
    {
     "data": {
      "application/javascript": [
       "\n",
       "      var mark = IPython.notebook.insert_cell_above('markdown')\n",
       "      mark.set_text(\"Esto es un ejercicio\")\n",
       "    "
      ],
      "text/plain": [
       "<IPython.core.display.Javascript object>"
      ]
     },
     "metadata": {},
     "output_type": "display_data"
    },
    {
     "data": {
      "application/javascript": [
       "\n",
       "    var code = IPython.notebook.insert_cell_above('code')\n",
       "    code.set_text(atob(\"ZGVmIHBydWViYShhLGIpOgogICAgYz1hK2IKICAgIHJldHVybiBj\"))\n",
       "    "
      ],
      "text/plain": [
       "<IPython.core.display.Javascript object>"
      ]
     },
     "metadata": {},
     "output_type": "display_data"
    },
    {
     "data": {
      "application/javascript": [
       "\n",
       "    var code = IPython.notebook.insert_cell_above('code')\n",
       "    code.set_text(atob(\"cHJ1ZWJhKDEsMik=\"))\n",
       "    "
      ],
      "text/plain": [
       "<IPython.core.display.Javascript object>"
      ]
     },
     "metadata": {},
     "output_type": "display_data"
    },
    {
     "data": {
      "application/javascript": [
       "\n",
       "      var mark = IPython.notebook.insert_cell_above('markdown')\n",
       "      mark.set_text(\"###END###\")\n",
       "    "
      ],
      "text/plain": [
       "<IPython.core.display.Javascript object>"
      ]
     },
     "metadata": {},
     "output_type": "display_data"
    }
   ],
   "source": [
    "for i in json_notebook['cells']:\n",
    "  if i['cell_type']==\"markdown\":\n",
    "    new_cell(i['source'][0],\"markdown\")\n",
    "  if i['cell_type']==\"code\":    \n",
    "    if len(i['source']) != 0:\n",
    "      \n",
    "      code_lines = i['source']\n",
    "      z = \"\"\n",
    "      for j in code_lines:\n",
    "        z = z + j            \n",
    "      new_cell(z,\"code\")\n",
    "   "
   ]
  },
  {
   "cell_type": "markdown",
   "metadata": {},
   "source": [
    "###END###"
   ]
  },
  {
   "cell_type": "markdown",
   "metadata": {},
   "source": [
    "# QUIZ #1"
   ]
  },
  {
   "cell_type": "markdown",
   "metadata": {},
   "source": [
    "Esto es un ejercicio"
   ]
  },
  {
   "cell_type": "code",
   "execution_count": null,
   "metadata": {
    "collapsed": true
   },
   "outputs": [],
   "source": [
    "def prueba(a,b):\n",
    "    c=a+b\n",
    "    return c"
   ]
  },
  {
   "cell_type": "code",
   "execution_count": null,
   "metadata": {
    "collapsed": true
   },
   "outputs": [],
   "source": [
    "prueba(1,2)"
   ]
  },
  {
   "cell_type": "markdown",
   "metadata": {},
   "source": [
    "###END###"
   ]
  },
  {
   "cell_type": "markdown",
   "metadata": {},
   "source": [
    "## Otra prueba"
   ]
  },
  {
   "cell_type": "code",
   "execution_count": 78,
   "metadata": {
    "collapsed": true
   },
   "outputs": [],
   "source": [
    "get_ipython().set_next_input(\"s\")"
   ]
  },
  {
   "cell_type": "code",
   "execution_count": null,
   "metadata": {
    "collapsed": true
   },
   "outputs": [],
   "source": [
    "s"
   ]
  },
  {
   "cell_type": "code",
   "execution_count": 69,
   "metadata": {},
   "outputs": [
    {
     "name": "stdout",
     "output_type": "stream",
     "text": [
      "Help on ZMQInteractiveShell in module ipykernel.zmqshell object:\n",
      "\n",
      "class ZMQInteractiveShell(IPython.core.interactiveshell.InteractiveShell)\n",
      " |  A subclass of InteractiveShell for ZMQ.\n",
      " |  \n",
      " |  Method resolution order:\n",
      " |      ZMQInteractiveShell\n",
      " |      IPython.core.interactiveshell.InteractiveShell\n",
      " |      traitlets.config.configurable.SingletonConfigurable\n",
      " |      traitlets.config.configurable.LoggingConfigurable\n",
      " |      traitlets.config.configurable.Configurable\n",
      " |      traitlets.traitlets.HasTraits\n",
      " |      traitlets.traitlets.HasDescriptors\n",
      " |      __builtin__.object\n",
      " |  \n",
      " |  Methods defined here:\n",
      " |  \n",
      " |  ask_exit(self)\n",
      " |      Engage the exit actions.\n",
      " |  \n",
      " |  enable_gui(self, gui)\n",
      " |      # Over ZeroMQ, GUI control isn't done with PyOS_InputHook as there is no\n",
      " |      # interactive input being read; we provide event loop support in ipkernel\n",
      " |  \n",
      " |  get_parent(self)\n",
      " |  \n",
      " |  init_data_pub(self)\n",
      " |      Delay datapub init until request, for deprecation warnings\n",
      " |  \n",
      " |  init_environment(self)\n",
      " |      Configure the user's environment.\n",
      " |  \n",
      " |  init_hooks(self)\n",
      " |  \n",
      " |  init_magics(self)\n",
      " |  \n",
      " |  init_virtualenv(self)\n",
      " |  \n",
      " |  run_cell(self, *args, **kwargs)\n",
      " |  \n",
      " |  set_next_input(self, text, replace=False)\n",
      " |      Send the specified text to the frontend to be presented at the next\n",
      " |      input cell.\n",
      " |  \n",
      " |  set_parent(self, parent)\n",
      " |      Set the parent header for associating output with its triggering input\n",
      " |  \n",
      " |  ----------------------------------------------------------------------\n",
      " |  Data descriptors defined here:\n",
      " |  \n",
      " |  autoindent\n",
      " |      A casting version of the boolean trait.\n",
      " |  \n",
      " |  colors_force\n",
      " |      A casting version of the boolean trait.\n",
      " |  \n",
      " |  data_pub\n",
      " |  \n",
      " |  data_pub_class\n",
      " |      A trait whose value must be a subclass of a specified class.\n",
      " |  \n",
      " |  display_pub_class\n",
      " |      A trait whose value must be a subclass of a specified class.\n",
      " |  \n",
      " |  displayhook_class\n",
      " |      A trait whose value must be a subclass of a specified class.\n",
      " |  \n",
      " |  exiter\n",
      " |      A trait whose value must be an instance of a specified class.\n",
      " |      \n",
      " |      The value can also be an instance of a subclass of the specified class.\n",
      " |      \n",
      " |      Subclasses can declare default classes by overriding the klass attribute\n",
      " |  \n",
      " |  kernel\n",
      " |      A trait which allows any value.\n",
      " |  \n",
      " |  parent_header\n",
      " |      A trait which allows any value.\n",
      " |  \n",
      " |  readline_use\n",
      " |      A casting version of the boolean trait.\n",
      " |  \n",
      " |  ----------------------------------------------------------------------\n",
      " |  Data and other attributes defined here:\n",
      " |  \n",
      " |  keepkernel_on_exit = None\n",
      " |  \n",
      " |  ----------------------------------------------------------------------\n",
      " |  Methods inherited from IPython.core.interactiveshell.InteractiveShell:\n",
      " |  \n",
      " |  __init__(self, ipython_dir=None, profile_dir=None, user_module=None, user_ns=None, custom_exceptions=((), None), **kwargs)\n",
      " |  \n",
      " |  ask_yes_no(self, prompt, default=None, interrupt=None)\n",
      " |  \n",
      " |  atexit_operations(self)\n",
      " |      This will be executed at the time of exit.\n",
      " |      \n",
      " |      Cleanup operations and saving of persistent data that is done\n",
      " |      unconditionally by IPython should be performed here.\n",
      " |      \n",
      " |      For things that may depend on startup flags or platform specifics (such\n",
      " |      as having readline or not), register a separate atexit function in the\n",
      " |      code that has the appropriate information, rather than trying to\n",
      " |      clutter\n",
      " |  \n",
      " |  auto_rewrite_input(self, cmd)\n",
      " |      Print to the screen the rewritten form of the user's command.\n",
      " |      \n",
      " |      This shows visual feedback by rewriting input lines that cause\n",
      " |      automatic calling to kick in, like::\n",
      " |      \n",
      " |        /f x\n",
      " |      \n",
      " |      into::\n",
      " |      \n",
      " |        ------> f(x)\n",
      " |      \n",
      " |      after the user's input prompt.  This helps the user understand that the\n",
      " |      input line was transformed automatically by IPython.\n",
      " |  \n",
      " |  cleanup(self)\n",
      " |  \n",
      " |  clear_main_mod_cache(self)\n",
      " |      Clear the cache of main modules.\n",
      " |      \n",
      " |      Mainly for use by utilities like %reset.\n",
      " |      \n",
      " |      Examples\n",
      " |      --------\n",
      " |      \n",
      " |      In [15]: import IPython\n",
      " |      \n",
      " |      In [16]: m = _ip.new_main_mod(IPython.__file__, 'IPython')\n",
      " |      \n",
      " |      In [17]: len(_ip._main_mod_cache) > 0\n",
      " |      Out[17]: True\n",
      " |      \n",
      " |      In [18]: _ip.clear_main_mod_cache()\n",
      " |      \n",
      " |      In [19]: len(_ip._main_mod_cache) == 0\n",
      " |      Out[19]: True\n",
      " |  \n",
      " |  complete(self, text, line=None, cursor_pos=None)\n",
      " |      Return the completed text and a list of completions.\n",
      " |      \n",
      " |      Parameters\n",
      " |      ----------\n",
      " |      \n",
      " |         text : string\n",
      " |           A string of text to be completed on.  It can be given as empty and\n",
      " |           instead a line/position pair are given.  In this case, the\n",
      " |           completer itself will split the line like readline does.\n",
      " |      \n",
      " |         line : string, optional\n",
      " |           The complete line that text is part of.\n",
      " |      \n",
      " |         cursor_pos : int, optional\n",
      " |           The position of the cursor on the input line.\n",
      " |      \n",
      " |      Returns\n",
      " |      -------\n",
      " |        text : string\n",
      " |          The actual text that was completed.\n",
      " |      \n",
      " |        matches : list\n",
      " |          A sorted list with all possible completions.\n",
      " |      \n",
      " |      The optional arguments allow the completion to take more context into\n",
      " |      account, and are part of the low-level completion API.\n",
      " |      \n",
      " |      This is a wrapper around the completion mechanism, similar to what\n",
      " |      readline does at the command line when the TAB key is hit.  By\n",
      " |      exposing it as a method, it can be used by other non-readline\n",
      " |      environments (such as GUIs) for text completion.\n",
      " |      \n",
      " |      Simple usage example:\n",
      " |      \n",
      " |      In [1]: x = 'hello'\n",
      " |      \n",
      " |      In [2]: _ip.complete('x.l')\n",
      " |      Out[2]: ('x.l', ['x.ljust', 'x.lower', 'x.lstrip'])\n",
      " |  \n",
      " |  debugger(self, force=False)\n",
      " |      Call the pdb debugger.\n",
      " |      \n",
      " |      Keywords:\n",
      " |      \n",
      " |        - force(False): by default, this routine checks the instance call_pdb\n",
      " |          flag and does not actually invoke the debugger if the flag is false.\n",
      " |          The 'force' option forces the debugger to activate even if the flag\n",
      " |          is false.\n",
      " |  \n",
      " |  define_macro(self, name, themacro)\n",
      " |      Define a new macro\n",
      " |      \n",
      " |      Parameters\n",
      " |      ----------\n",
      " |      name : str\n",
      " |          The name of the macro.\n",
      " |      themacro : str or Macro\n",
      " |          The action to do upon invoking the macro.  If a string, a new\n",
      " |          Macro object is created by passing the string to it.\n",
      " |  \n",
      " |  del_var(self, varname, by_name=False)\n",
      " |      Delete a variable from the various namespaces, so that, as\n",
      " |      far as possible, we're not keeping any hidden references to it.\n",
      " |      \n",
      " |      Parameters\n",
      " |      ----------\n",
      " |      varname : str\n",
      " |          The name of the variable to delete.\n",
      " |      by_name : bool\n",
      " |          If True, delete variables with the given name in each\n",
      " |          namespace. If False (default), find the variable in the user\n",
      " |          namespace, and delete references to it.\n",
      " |  \n",
      " |  drop_by_id(self, variables)\n",
      " |      Remove a dict of variables from the user namespace, if they are the\n",
      " |      same as the values in the dictionary.\n",
      " |      \n",
      " |      This is intended for use by extensions: variables that they've added can\n",
      " |      be taken back out if they are unloaded, without removing any that the\n",
      " |      user has overwritten.\n",
      " |      \n",
      " |      Parameters\n",
      " |      ----------\n",
      " |      variables : dict\n",
      " |        A dictionary mapping object names (as strings) to the objects.\n",
      " |  \n",
      " |  enable_matplotlib(self, gui=None)\n",
      " |      Enable interactive matplotlib and inline figure support.\n",
      " |      \n",
      " |      This takes the following steps:\n",
      " |      \n",
      " |      1. select the appropriate eventloop and matplotlib backend\n",
      " |      2. set up matplotlib for interactive use with that backend\n",
      " |      3. configure formatters for inline figure display\n",
      " |      4. enable the selected gui eventloop\n",
      " |      \n",
      " |      Parameters\n",
      " |      ----------\n",
      " |      gui : optional, string\n",
      " |        If given, dictates the choice of matplotlib GUI backend to use\n",
      " |        (should be one of IPython's supported backends, 'qt', 'osx', 'tk',\n",
      " |        'gtk', 'wx' or 'inline'), otherwise we use the default chosen by\n",
      " |        matplotlib (as dictated by the matplotlib build-time options plus the\n",
      " |        user's matplotlibrc configuration file).  Note that not all backends\n",
      " |        make sense in all contexts, for example a terminal ipython can't\n",
      " |        display figures inline.\n",
      " |  \n",
      " |  enable_pylab(self, gui=None, import_all=True, welcome_message=False)\n",
      " |      Activate pylab support at runtime.\n",
      " |      \n",
      " |      This turns on support for matplotlib, preloads into the interactive\n",
      " |      namespace all of numpy and pylab, and configures IPython to correctly\n",
      " |      interact with the GUI event loop.  The GUI backend to be used can be\n",
      " |      optionally selected with the optional ``gui`` argument.\n",
      " |      \n",
      " |      This method only adds preloading the namespace to InteractiveShell.enable_matplotlib.\n",
      " |      \n",
      " |      Parameters\n",
      " |      ----------\n",
      " |      gui : optional, string\n",
      " |        If given, dictates the choice of matplotlib GUI backend to use\n",
      " |        (should be one of IPython's supported backends, 'qt', 'osx', 'tk',\n",
      " |        'gtk', 'wx' or 'inline'), otherwise we use the default chosen by\n",
      " |        matplotlib (as dictated by the matplotlib build-time options plus the\n",
      " |        user's matplotlibrc configuration file).  Note that not all backends\n",
      " |        make sense in all contexts, for example a terminal ipython can't\n",
      " |        display figures inline.\n",
      " |      import_all : optional, bool, default: True\n",
      " |        Whether to do `from numpy import *` and `from pylab import *`\n",
      " |        in addition to module imports.\n",
      " |      welcome_message : deprecated\n",
      " |        This argument is ignored, no welcome message will be displayed.\n",
      " |  \n",
      " |  ev(self, expr)\n",
      " |      Evaluate python expression expr in user namespace.\n",
      " |      \n",
      " |      Returns the result of evaluation\n",
      " |  \n",
      " |  ex(self, cmd)\n",
      " |      Execute a normal python statement in user namespace.\n",
      " |  \n",
      " |  excepthook(self, etype, value, tb)\n",
      " |      One more defense for GUI apps that call sys.excepthook.\n",
      " |      \n",
      " |      GUI frameworks like wxPython trap exceptions and call\n",
      " |      sys.excepthook themselves.  I guess this is a feature that\n",
      " |      enables them to keep running after exceptions that would\n",
      " |      otherwise kill their mainloop. This is a bother for IPython\n",
      " |      which excepts to catch all of the program exceptions with a try:\n",
      " |      except: statement.\n",
      " |      \n",
      " |      Normally, IPython sets sys.excepthook to a CrashHandler instance, so if\n",
      " |      any app directly invokes sys.excepthook, it will look to the user like\n",
      " |      IPython crashed.  In order to work around this, we can disable the\n",
      " |      CrashHandler and replace it with this excepthook instead, which prints a\n",
      " |      regular traceback using our InteractiveTB.  In this fashion, apps which\n",
      " |      call sys.excepthook will generate a regular-looking exception from\n",
      " |      IPython, and the CrashHandler will only be triggered by real IPython\n",
      " |      crashes.\n",
      " |      \n",
      " |      This hook should be used sparingly, only in places which are not likely\n",
      " |      to be true IPython errors.\n",
      " |  \n",
      " |  extract_input_lines(self, range_str, raw=False)\n",
      " |      Return as a string a set of input history slices.\n",
      " |      \n",
      " |      Parameters\n",
      " |      ----------\n",
      " |      range_str : string\n",
      " |          The set of slices is given as a string, like \"~5/6-~4/2 4:8 9\",\n",
      " |          since this function is for use by magic functions which get their\n",
      " |          arguments as strings. The number before the / is the session\n",
      " |          number: ~n goes n back from the current session.\n",
      " |      \n",
      " |      raw : bool, optional\n",
      " |          By default, the processed input is used.  If this is true, the raw\n",
      " |          input history is used instead.\n",
      " |      \n",
      " |      Notes\n",
      " |      -----\n",
      " |      \n",
      " |      Slices can be described with two notations:\n",
      " |      \n",
      " |      * ``N:M`` -> standard python form, means including items N...(M-1).\n",
      " |      * ``N-M`` -> include items N..M (closed endpoint).\n",
      " |  \n",
      " |  find_cell_magic(self, magic_name)\n",
      " |      Find and return a cell magic by name.\n",
      " |      \n",
      " |      Returns None if the magic isn't found.\n",
      " |  \n",
      " |  find_line_magic(self, magic_name)\n",
      " |      Find and return a line magic by name.\n",
      " |      \n",
      " |      Returns None if the magic isn't found.\n",
      " |  \n",
      " |  find_magic(self, magic_name, magic_kind='line')\n",
      " |      Find and return a magic of the given type by name.\n",
      " |      \n",
      " |      Returns None if the magic isn't found.\n",
      " |  \n",
      " |  find_user_code(self, target, raw=True, py_only=False, skip_encoding_cookie=True, search_ns=False)\n",
      " |      Get a code string from history, file, url, or a string or macro.\n",
      " |      \n",
      " |      This is mainly used by magic functions.\n",
      " |      \n",
      " |      Parameters\n",
      " |      ----------\n",
      " |      \n",
      " |      target : str\n",
      " |      \n",
      " |        A string specifying code to retrieve. This will be tried respectively\n",
      " |        as: ranges of input history (see %history for syntax), url,\n",
      " |        corresponding .py file, filename, or an expression evaluating to a\n",
      " |        string or Macro in the user namespace.\n",
      " |      \n",
      " |      raw : bool\n",
      " |        If true (default), retrieve raw history. Has no effect on the other\n",
      " |        retrieval mechanisms.\n",
      " |      \n",
      " |      py_only : bool (default False)\n",
      " |        Only try to fetch python code, do not try alternative methods to decode file\n",
      " |        if unicode fails.\n",
      " |      \n",
      " |      Returns\n",
      " |      -------\n",
      " |      A string of code.\n",
      " |      \n",
      " |      ValueError is raised if nothing is found, and TypeError if it evaluates\n",
      " |      to an object of another type. In each case, .args[0] is a printable\n",
      " |      message.\n",
      " |  \n",
      " |  get_exception_only(self, exc_tuple=None)\n",
      " |      Return as a string (ending with a newline) the exception that\n",
      " |      just occurred, without any traceback.\n",
      " |  \n",
      " |  get_ipython(self)\n",
      " |      Return the currently running IPython instance.\n",
      " |  \n",
      " |  getoutput(self, cmd, split=True, depth=0)\n",
      " |      Get output (possibly including stderr) from a subprocess.\n",
      " |      \n",
      " |      Parameters\n",
      " |      ----------\n",
      " |      cmd : str\n",
      " |        Command to execute (can not end in '&', as background processes are\n",
      " |        not supported.\n",
      " |      split : bool, optional\n",
      " |        If True, split the output into an IPython SList.  Otherwise, an\n",
      " |        IPython LSString is returned.  These are objects similar to normal\n",
      " |        lists and strings, with a few convenience attributes for easier\n",
      " |        manipulation of line-based output.  You can use '?' on them for\n",
      " |        details.\n",
      " |      depth : int, optional\n",
      " |        How many frames above the caller are the local variables which should\n",
      " |        be expanded in the command string? The default (0) assumes that the\n",
      " |        expansion variables are in the stack frame calling this function.\n",
      " |  \n",
      " |  init_alias(self)\n",
      " |  \n",
      " |  init_builtins(self)\n",
      " |  \n",
      " |  init_completer(self)\n",
      " |      Initialize the completion machinery.\n",
      " |      \n",
      " |      This creates completion machinery that can be used by client code,\n",
      " |      either interactively in-process (typically triggered by the readline\n",
      " |      library), programmatically (such as in test suites) or out-of-process\n",
      " |      (typically over the network by remote frontends).\n",
      " |  \n",
      " |  init_create_namespaces(self, user_module=None, user_ns=None)\n",
      " |  \n",
      " |  init_deprecation_warnings(self)\n",
      " |      register default filter for deprecation warning.\n",
      " |      \n",
      " |      This will allow deprecation warning of function used interactively to show\n",
      " |      warning to users, and still hide deprecation warning from libraries import.\n",
      " |  \n",
      " |  init_display_formatter(self)\n",
      " |  \n",
      " |  init_display_pub(self)\n",
      " |  \n",
      " |  init_displayhook(self)\n",
      " |  \n",
      " |  init_encoding(self)\n",
      " |  \n",
      " |  init_events(self)\n",
      " |  \n",
      " |  init_extension_manager(self)\n",
      " |  \n",
      " |  init_history(self)\n",
      " |      Sets up the command history, and starts regular autosaves.\n",
      " |  \n",
      " |  init_inspector(self)\n",
      " |  \n",
      " |  init_instance_attrs(self)\n",
      " |  \n",
      " |  init_io(self)\n",
      " |  \n",
      " |  init_ipython_dir(self, ipython_dir)\n",
      " |  \n",
      " |  init_logger(self)\n",
      " |  \n",
      " |  init_logstart(self)\n",
      " |      Initialize logging in case it was requested at the command line.\n",
      " |  \n",
      " |  init_payload(self)\n",
      " |  \n",
      " |  init_pdb(self)\n",
      " |  \n",
      " |  init_prefilter(self)\n",
      " |  \n",
      " |  init_profile_dir(self, profile_dir)\n",
      " |  \n",
      " |  init_prompts(self)\n",
      " |  \n",
      " |  init_pushd_popd_magic(self)\n",
      " |  \n",
      " |  init_readline(self)\n",
      " |      DEPRECATED\n",
      " |      \n",
      " |      Moved to terminal subclass, here only to simplify the init logic.\n",
      " |  \n",
      " |  init_syntax_highlighting(self)\n",
      " |  \n",
      " |  init_sys_modules(self)\n",
      " |  \n",
      " |  init_traceback_handlers(self, custom_exceptions)\n",
      " |  \n",
      " |  init_user_ns(self)\n",
      " |      Initialize all user-visible namespaces to their minimum defaults.\n",
      " |      \n",
      " |      Certain history lists are also initialized here, as they effectively\n",
      " |      act as user namespaces.\n",
      " |      \n",
      " |      Notes\n",
      " |      -----\n",
      " |      All data structures here are only filled in, they are NOT reset by this\n",
      " |      method.  If they were not empty before, data will simply be added to\n",
      " |      therm.\n",
      " |  \n",
      " |  magic(self, arg_s)\n",
      " |      DEPRECATED. Use run_line_magic() instead.\n",
      " |      \n",
      " |      Call a magic function by name.\n",
      " |      \n",
      " |      Input: a string containing the name of the magic function to call and\n",
      " |      any additional arguments to be passed to the magic.\n",
      " |      \n",
      " |      magic('name -opt foo bar') is equivalent to typing at the ipython\n",
      " |      prompt:\n",
      " |      \n",
      " |      In[1]: %name -opt foo bar\n",
      " |      \n",
      " |      To call a magic without arguments, simply use magic('name').\n",
      " |      \n",
      " |      This provides a proper Python function to call IPython's magics in any\n",
      " |      valid Python code you can type at the interpreter, including loops and\n",
      " |      compound statements.\n",
      " |  \n",
      " |  mktempfile(self, data=None, prefix='ipython_edit_')\n",
      " |      Make a new tempfile and return its filename.\n",
      " |      \n",
      " |      This makes a call to tempfile.mkstemp (created in a tempfile.mkdtemp),\n",
      " |      but it registers the created filename internally so ipython cleans it up\n",
      " |      at exit time.\n",
      " |      \n",
      " |      Optional inputs:\n",
      " |      \n",
      " |        - data(None): if data is given, it gets written out to the temp file\n",
      " |          immediately, and the file is closed again.\n",
      " |  \n",
      " |  new_main_mod(self, filename, modname)\n",
      " |      Return a new 'main' module object for user code execution.\n",
      " |      \n",
      " |      ``filename`` should be the path of the script which will be run in the\n",
      " |      module. Requests with the same filename will get the same module, with\n",
      " |      its namespace cleared.\n",
      " |      \n",
      " |      ``modname`` should be the module name - normally either '__main__' or\n",
      " |      the basename of the file without the extension.\n",
      " |      \n",
      " |      When scripts are executed via %run, we must keep a reference to their\n",
      " |      __main__ module around so that Python doesn't\n",
      " |      clear it, rendering references to module globals useless.\n",
      " |      \n",
      " |      This method keeps said reference in a private dict, keyed by the\n",
      " |      absolute path of the script. This way, for multiple executions of the\n",
      " |      same script we only keep one copy of the namespace (the last one),\n",
      " |      thus preventing memory leaks from old references while allowing the\n",
      " |      objects from the last execution to be accessible.\n",
      " |  \n",
      " |  object_inspect(self, oname, detail_level=0)\n",
      " |      Get object info about oname\n",
      " |  \n",
      " |  object_inspect_mime(self, oname, detail_level=0)\n",
      " |      Get object info as a mimebundle of formatted representations.\n",
      " |      \n",
      " |      A mimebundle is a dictionary, keyed by mime-type.\n",
      " |      It must always have the key `'text/plain'`.\n",
      " |  \n",
      " |  object_inspect_text(self, oname, detail_level=0)\n",
      " |      Get object info as formatted text\n",
      " |  \n",
      " |  prepare_user_module(self, user_module=None, user_ns=None)\n",
      " |      Prepare the module and namespace in which user code will be run.\n",
      " |      \n",
      " |      When IPython is started normally, both parameters are None: a new module\n",
      " |      is created automatically, and its __dict__ used as the namespace.\n",
      " |      \n",
      " |      If only user_module is provided, its __dict__ is used as the namespace.\n",
      " |      If only user_ns is provided, a dummy module is created, and user_ns\n",
      " |      becomes the global namespace. If both are provided (as they may be\n",
      " |      when embedding), user_ns is the local namespace, and user_module\n",
      " |      provides the global namespace.\n",
      " |      \n",
      " |      Parameters\n",
      " |      ----------\n",
      " |      user_module : module, optional\n",
      " |          The current user module in which IPython is being run. If None,\n",
      " |          a clean module will be created.\n",
      " |      user_ns : dict, optional\n",
      " |          A namespace in which to run interactive commands.\n",
      " |      \n",
      " |      Returns\n",
      " |      -------\n",
      " |      A tuple of user_module and user_ns, each properly initialised.\n",
      " |  \n",
      " |  push(self, variables, interactive=True)\n",
      " |      Inject a group of variables into the IPython user namespace.\n",
      " |      \n",
      " |      Parameters\n",
      " |      ----------\n",
      " |      variables : dict, str or list/tuple of str\n",
      " |          The variables to inject into the user's namespace.  If a dict, a\n",
      " |          simple update is done.  If a str, the string is assumed to have\n",
      " |          variable names separated by spaces.  A list/tuple of str can also\n",
      " |          be used to give the variable names.  If just the variable names are\n",
      " |          give (list/tuple/str) then the variable values looked up in the\n",
      " |          callers frame.\n",
      " |      interactive : bool\n",
      " |          If True (default), the variables will be listed with the ``who``\n",
      " |          magic.\n",
      " |  \n",
      " |  refresh_style(self)\n",
      " |  \n",
      " |  register_magic_function = register_function(self, func, magic_kind='line', magic_name=None)\n",
      " |      Expose a standalone function as magic function for IPython.\n",
      " |      \n",
      " |      This will create an IPython magic (line, cell or both) from a\n",
      " |      standalone function.  The functions should have the following\n",
      " |      signatures: \n",
      " |      \n",
      " |      * For line magics: `def f(line)`\n",
      " |      * For cell magics: `def f(line, cell)`\n",
      " |      * For a function that does both: `def f(line, cell=None)`\n",
      " |      \n",
      " |      In the latter case, the function will be called with `cell==None` when\n",
      " |      invoked as `%f`, and with cell as a string when invoked as `%%f`.\n",
      " |      \n",
      " |      Parameters\n",
      " |      ----------\n",
      " |      func : callable\n",
      " |        Function to be registered as a magic.\n",
      " |      \n",
      " |      magic_kind : str\n",
      " |        Kind of magic, one of 'line', 'cell' or 'line_cell'\n",
      " |      \n",
      " |      magic_name : optional str\n",
      " |        If given, the name the magic will have in the IPython namespace.  By\n",
      " |        default, the name of the function itself is used.\n",
      " |  \n",
      " |  register_post_execute(self, func)\n",
      " |      DEPRECATED: Use ip.events.register('post_run_cell', func)\n",
      " |      \n",
      " |      Register a function for calling after code execution.\n",
      " |  \n",
      " |  reset(self, new_session=True)\n",
      " |      Clear all internal namespaces, and attempt to release references to\n",
      " |      user objects.\n",
      " |      \n",
      " |      If new_session is True, a new history session will be opened.\n",
      " |  \n",
      " |  reset_selective(self, regex=None)\n",
      " |      Clear selective variables from internal namespaces based on a\n",
      " |      specified regular expression.\n",
      " |      \n",
      " |      Parameters\n",
      " |      ----------\n",
      " |      regex : string or compiled pattern, optional\n",
      " |          A regular expression pattern that will be used in searching\n",
      " |          variable names in the users namespaces.\n",
      " |  \n",
      " |  restore_sys_module_state(self)\n",
      " |      Restore the state of the sys module.\n",
      " |  \n",
      " |  run_ast_nodes(self, nodelist, cell_name, interactivity='last_expr', compiler=<built-in function compile>, result=None)\n",
      " |      Run a sequence of AST nodes. The execution mode depends on the\n",
      " |      interactivity parameter.\n",
      " |      \n",
      " |      Parameters\n",
      " |      ----------\n",
      " |      nodelist : list\n",
      " |        A sequence of AST nodes to run.\n",
      " |      cell_name : str\n",
      " |        Will be passed to the compiler as the filename of the cell. Typically\n",
      " |        the value returned by ip.compile.cache(cell).\n",
      " |      interactivity : str\n",
      " |        'all', 'last', 'last_expr' or 'none', specifying which nodes should be\n",
      " |        run interactively (displaying output from expressions). 'last_expr'\n",
      " |        will run the last node interactively only if it is an expression (i.e.\n",
      " |        expressions in loops or other blocks are not displayed. Other values\n",
      " |        for this parameter will raise a ValueError.\n",
      " |      compiler : callable\n",
      " |        A function with the same interface as the built-in compile(), to turn\n",
      " |        the AST nodes into code objects. Default is the built-in compile().\n",
      " |      result : ExecutionResult, optional\n",
      " |        An object to store exceptions that occur during execution.\n",
      " |      \n",
      " |      Returns\n",
      " |      -------\n",
      " |      True if an exception occurred while running code, False if it finished\n",
      " |      running.\n",
      " |  \n",
      " |  run_cell_magic(self, magic_name, line, cell)\n",
      " |      Execute the given cell magic.\n",
      " |      \n",
      " |      Parameters\n",
      " |      ----------\n",
      " |      magic_name : str\n",
      " |        Name of the desired magic function, without '%' prefix.\n",
      " |      \n",
      " |      line : str\n",
      " |        The rest of the first input line as a single string.\n",
      " |      \n",
      " |      cell : str\n",
      " |        The body of the cell as a (possibly multiline) string.\n",
      " |  \n",
      " |  run_code(self, code_obj, result=None)\n",
      " |      Execute a code object.\n",
      " |      \n",
      " |      When an exception occurs, self.showtraceback() is called to display a\n",
      " |      traceback.\n",
      " |      \n",
      " |      Parameters\n",
      " |      ----------\n",
      " |      code_obj : code object\n",
      " |        A compiled code object, to be executed\n",
      " |      result : ExecutionResult, optional\n",
      " |        An object to store exceptions that occur during execution.\n",
      " |      \n",
      " |      Returns\n",
      " |      -------\n",
      " |      False : successful execution.\n",
      " |      True : an error occurred.\n",
      " |  \n",
      " |  run_line_magic(self, magic_name, line)\n",
      " |      Execute the given line magic.\n",
      " |      \n",
      " |      Parameters\n",
      " |      ----------\n",
      " |      magic_name : str\n",
      " |        Name of the desired magic function, without '%' prefix.\n",
      " |      \n",
      " |      line : str\n",
      " |        The rest of the input line as a single string.\n",
      " |  \n",
      " |  runcode = run_code(self, code_obj, result=None)\n",
      " |      Execute a code object.\n",
      " |      \n",
      " |      When an exception occurs, self.showtraceback() is called to display a\n",
      " |      traceback.\n",
      " |      \n",
      " |      Parameters\n",
      " |      ----------\n",
      " |      code_obj : code object\n",
      " |        A compiled code object, to be executed\n",
      " |      result : ExecutionResult, optional\n",
      " |        An object to store exceptions that occur during execution.\n",
      " |      \n",
      " |      Returns\n",
      " |      -------\n",
      " |      False : successful execution.\n",
      " |      True : an error occurred.\n",
      " |  \n",
      " |  safe_execfile(self, fname, *where, **kw)\n",
      " |      A safe version of the builtin execfile().\n",
      " |      \n",
      " |      This version will never throw an exception, but instead print\n",
      " |      helpful error messages to the screen.  This only works on pure\n",
      " |      Python files with the .py extension.\n",
      " |      \n",
      " |      Parameters\n",
      " |      ----------\n",
      " |      fname : string\n",
      " |          The name of the file to be executed.\n",
      " |      where : tuple\n",
      " |          One or two namespaces, passed to execfile() as (globals,locals).\n",
      " |          If only one is given, it is passed as both.\n",
      " |      exit_ignore : bool (False)\n",
      " |          If True, then silence SystemExit for non-zero status (it is always\n",
      " |          silenced for zero status, as it is so common).\n",
      " |      raise_exceptions : bool (False)\n",
      " |          If True raise exceptions everywhere. Meant for testing.\n",
      " |      shell_futures : bool (False)\n",
      " |          If True, the code will share future statements with the interactive\n",
      " |          shell. It will both be affected by previous __future__ imports, and\n",
      " |          any __future__ imports in the code will affect the shell. If False,\n",
      " |          __future__ imports are not shared in either direction.\n",
      " |  \n",
      " |  safe_execfile_ipy(self, fname, shell_futures=False, raise_exceptions=False)\n",
      " |      Like safe_execfile, but for .ipy or .ipynb files with IPython syntax.\n",
      " |      \n",
      " |      Parameters\n",
      " |      ----------\n",
      " |      fname : str\n",
      " |          The name of the file to execute.  The filename must have a\n",
      " |          .ipy or .ipynb extension.\n",
      " |      shell_futures : bool (False)\n",
      " |          If True, the code will share future statements with the interactive\n",
      " |          shell. It will both be affected by previous __future__ imports, and\n",
      " |          any __future__ imports in the code will affect the shell. If False,\n",
      " |          __future__ imports are not shared in either direction.\n",
      " |      raise_exceptions : bool (False)\n",
      " |          If True raise exceptions everywhere.  Meant for testing.\n",
      " |  \n",
      " |  safe_run_module(self, mod_name, where)\n",
      " |      A safe version of runpy.run_module().\n",
      " |      \n",
      " |      This version will never throw an exception, but instead print\n",
      " |      helpful error messages to the screen.\n",
      " |      \n",
      " |      `SystemExit` exceptions with status code 0 or None are ignored.\n",
      " |      \n",
      " |      Parameters\n",
      " |      ----------\n",
      " |      mod_name : string\n",
      " |          The name of the module to be executed.\n",
      " |      where : dict\n",
      " |          The globals namespace.\n",
      " |  \n",
      " |  save_sys_module_state(self)\n",
      " |      Save the state of hooks in the sys module.\n",
      " |      \n",
      " |      This has to be called after self.user_module is created.\n",
      " |  \n",
      " |  set_autoindent(self, value=None)\n",
      " |      Set the autoindent flag.\n",
      " |      \n",
      " |      If called with no arguments, it acts as a toggle.\n",
      " |  \n",
      " |  set_completer_frame(self, frame=None)\n",
      " |      Set the frame of the completer.\n",
      " |  \n",
      " |  set_custom_completer(self, completer, pos=0)\n",
      " |      Adds a new custom completer function.\n",
      " |      \n",
      " |      The position argument (defaults to 0) is the index in the completers\n",
      " |      list where you want the completer to be inserted.\n",
      " |  \n",
      " |  set_custom_exc(self, exc_tuple, handler)\n",
      " |      set_custom_exc(exc_tuple, handler)\n",
      " |      \n",
      " |      Set a custom exception handler, which will be called if any of the\n",
      " |      exceptions in exc_tuple occur in the mainloop (specifically, in the\n",
      " |      run_code() method).\n",
      " |      \n",
      " |      Parameters\n",
      " |      ----------\n",
      " |      \n",
      " |      exc_tuple : tuple of exception classes\n",
      " |          A *tuple* of exception classes, for which to call the defined\n",
      " |          handler.  It is very important that you use a tuple, and NOT A\n",
      " |          LIST here, because of the way Python's except statement works.  If\n",
      " |          you only want to trap a single exception, use a singleton tuple::\n",
      " |      \n",
      " |              exc_tuple == (MyCustomException,)\n",
      " |      \n",
      " |      handler : callable\n",
      " |          handler must have the following signature::\n",
      " |      \n",
      " |              def my_handler(self, etype, value, tb, tb_offset=None):\n",
      " |                  ...\n",
      " |                  return structured_traceback\n",
      " |      \n",
      " |          Your handler must return a structured traceback (a list of strings),\n",
      " |          or None.\n",
      " |      \n",
      " |          This will be made into an instance method (via types.MethodType)\n",
      " |          of IPython itself, and it will be called if any of the exceptions\n",
      " |          listed in the exc_tuple are caught. If the handler is None, an\n",
      " |          internal basic one is used, which just prints basic info.\n",
      " |      \n",
      " |          To protect IPython from crashes, if your handler ever raises an\n",
      " |          exception or returns an invalid result, it will be immediately\n",
      " |          disabled.\n",
      " |      \n",
      " |      WARNING: by putting in your own exception handler into IPython's main\n",
      " |      execution loop, you run a very good chance of nasty crashes.  This\n",
      " |      facility should only be used if you really know what you are doing.\n",
      " |  \n",
      " |  set_hook(self, name, hook, priority=50, str_key=None, re_key=None, _warn_deprecated=True)\n",
      " |      set_hook(name,hook) -> sets an internal IPython hook.\n",
      " |      \n",
      " |      IPython exposes some of its internal API as user-modifiable hooks.  By\n",
      " |      adding your function to one of these hooks, you can modify IPython's\n",
      " |      behavior to call at runtime your own routines.\n",
      " |  \n",
      " |  show_banner(self, banner=None)\n",
      " |  \n",
      " |  show_usage(self)\n",
      " |      Show a usage message\n",
      " |  \n",
      " |  show_usage_error(self, exc)\n",
      " |      Show a short message for UsageErrors\n",
      " |      \n",
      " |      These are special exceptions that shouldn't show a traceback.\n",
      " |  \n",
      " |  showindentationerror(self)\n",
      " |      Called by run_cell when there's an IndentationError in code entered\n",
      " |      at the prompt.\n",
      " |      \n",
      " |      This is overridden in TerminalInteractiveShell to show a message about\n",
      " |      the %paste magic.\n",
      " |  \n",
      " |  showsyntaxerror(self, filename=None)\n",
      " |      Display the syntax error that just occurred.\n",
      " |      \n",
      " |      This doesn't display a stack trace because there isn't one.\n",
      " |      \n",
      " |      If a filename is given, it is stuffed in the exception instead\n",
      " |      of what was there before (because Python's parser always uses\n",
      " |      \"<string>\" when reading from a string).\n",
      " |  \n",
      " |  showtraceback(self, exc_tuple=None, filename=None, tb_offset=None, exception_only=False)\n",
      " |      Display the exception that just occurred.\n",
      " |      \n",
      " |      If nothing is known about the exception, this is the method which\n",
      " |      should be used throughout the code for presenting user tracebacks,\n",
      " |      rather than directly invoking the InteractiveTB object.\n",
      " |      \n",
      " |      A specific showsyntaxerror() also exists, but this method can take\n",
      " |      care of calling it if needed, so unless you are explicitly catching a\n",
      " |      SyntaxError exception, don't try to analyze the stack manually and\n",
      " |      simply call this method.\n",
      " |  \n",
      " |  switch_doctest_mode(self, mode)\n",
      " |      # Overridden in terminal subclass to change prompts\n",
      " |  \n",
      " |  system = system_piped(self, cmd)\n",
      " |      Call the given cmd in a subprocess, piping stdout/err\n",
      " |      \n",
      " |      Parameters\n",
      " |      ----------\n",
      " |      cmd : str\n",
      " |        Command to execute (can not end in '&', as background processes are\n",
      " |        not supported.  Should not be a command that expects input\n",
      " |        other than simple text.\n",
      " |  \n",
      " |  system_piped(self, cmd)\n",
      " |      Call the given cmd in a subprocess, piping stdout/err\n",
      " |      \n",
      " |      Parameters\n",
      " |      ----------\n",
      " |      cmd : str\n",
      " |        Command to execute (can not end in '&', as background processes are\n",
      " |        not supported.  Should not be a command that expects input\n",
      " |        other than simple text.\n",
      " |  \n",
      " |  system_raw(self, cmd)\n",
      " |      Call the given cmd in a subprocess using os.system on Windows or\n",
      " |      subprocess.call using the system shell on other platforms.\n",
      " |      \n",
      " |      Parameters\n",
      " |      ----------\n",
      " |      cmd : str\n",
      " |        Command to execute.\n",
      " |  \n",
      " |  transform_ast(self, node)\n",
      " |      Apply the AST transformations from self.ast_transformers\n",
      " |      \n",
      " |      Parameters\n",
      " |      ----------\n",
      " |      node : ast.Node\n",
      " |        The root node to be transformed. Typically called with the ast.Module\n",
      " |        produced by parsing user input.\n",
      " |      \n",
      " |      Returns\n",
      " |      -------\n",
      " |      An ast.Node corresponding to the node it was called with. Note that it\n",
      " |      may also modify the passed object, so don't rely on references to the\n",
      " |      original AST.\n",
      " |  \n",
      " |  user_expressions(self, expressions)\n",
      " |      Evaluate a dict of expressions in the user's namespace.\n",
      " |      \n",
      " |      Parameters\n",
      " |      ----------\n",
      " |      expressions : dict\n",
      " |        A dict with string keys and string values.  The expression values\n",
      " |        should be valid Python expressions, each of which will be evaluated\n",
      " |        in the user namespace.\n",
      " |      \n",
      " |      Returns\n",
      " |      -------\n",
      " |      A dict, keyed like the input expressions dict, with the rich mime-typed\n",
      " |      display_data of each value.\n",
      " |  \n",
      " |  var_expand(self, cmd, depth=0, formatter=<IPython.utils.text.DollarFormatter object>)\n",
      " |      Expand python variables in a string.\n",
      " |      \n",
      " |      The depth argument indicates how many frames above the caller should\n",
      " |      be walked to look for the local namespace where to expand variables.\n",
      " |      \n",
      " |      The global namespace for expansion is always the user's interactive\n",
      " |      namespace.\n",
      " |  \n",
      " |  write(self, data)\n",
      " |      DEPRECATED: Write a string to the default output\n",
      " |  \n",
      " |  write_err(self, data)\n",
      " |      DEPRECATED: Write a string to the default error output\n",
      " |  \n",
      " |  ----------------------------------------------------------------------\n",
      " |  Data descriptors inherited from IPython.core.interactiveshell.InteractiveShell:\n",
      " |  \n",
      " |  alias_manager\n",
      " |      A trait whose value must be an instance of a specified class.\n",
      " |      \n",
      " |      The value can also be an instance of a subclass of the specified class.\n",
      " |      \n",
      " |      Subclasses can declare default classes by overriding the klass attribute\n",
      " |  \n",
      " |  all_ns_refs\n",
      " |      Get a list of references to all the namespace dictionaries in which\n",
      " |      IPython might store a user-created object.\n",
      " |      \n",
      " |      Note that this does not include the displayhook, which also caches\n",
      " |      objects from the output.\n",
      " |  \n",
      " |  ast_node_interactivity\n",
      " |      An enum whose value must be in a given sequence.\n",
      " |  \n",
      " |  ast_transformers\n",
      " |      An instance of a Python list.\n",
      " |  \n",
      " |  autocall\n",
      " |      An enum whose value must be in a given sequence.\n",
      " |  \n",
      " |  automagic\n",
      " |      A boolean (True, False) trait.\n",
      " |  \n",
      " |  banner\n",
      " |  \n",
      " |  banner1\n",
      " |      A trait for unicode strings.\n",
      " |  \n",
      " |  banner2\n",
      " |      A trait for unicode strings.\n",
      " |  \n",
      " |  builtin_trap\n",
      " |      A trait whose value must be an instance of a specified class.\n",
      " |      \n",
      " |      The value can also be an instance of a subclass of the specified class.\n",
      " |      \n",
      " |      Subclasses can declare default classes by overriding the klass attribute\n",
      " |  \n",
      " |  cache_size\n",
      " |      An integer trait.\n",
      " |      \n",
      " |      Longs that are unnecessary (<= sys.maxint) are cast to ints.\n",
      " |  \n",
      " |  call_pdb\n",
      " |      Control auto-activation of pdb at exceptions\n",
      " |  \n",
      " |  color_info\n",
      " |      A boolean (True, False) trait.\n",
      " |  \n",
      " |  colors\n",
      " |      An enum of strings where the case should be ignored.\n",
      " |  \n",
      " |  debug\n",
      " |      A boolean (True, False) trait.\n",
      " |  \n",
      " |  deep_reload\n",
      " |      A boolean (True, False) trait.\n",
      " |  \n",
      " |  disable_failing_post_execute\n",
      " |      A boolean (True, False) trait.\n",
      " |  \n",
      " |  display_formatter\n",
      " |      A trait whose value must be an instance of a specified class.\n",
      " |      \n",
      " |      The value can also be an instance of a subclass of the specified class.\n",
      " |      \n",
      " |      Subclasses can declare default classes by overriding the klass attribute\n",
      " |  \n",
      " |  display_page\n",
      " |      A boolean (True, False) trait.\n",
      " |  \n",
      " |  display_trap\n",
      " |      A trait whose value must be an instance of a specified class.\n",
      " |      \n",
      " |      The value can also be an instance of a subclass of the specified class.\n",
      " |      \n",
      " |      Subclasses can declare default classes by overriding the klass attribute\n",
      " |  \n",
      " |  enable_html_pager\n",
      " |      A boolean (True, False) trait.\n",
      " |  \n",
      " |  execution_count\n",
      " |      An integer trait.\n",
      " |      \n",
      " |      Longs that are unnecessary (<= sys.maxint) are cast to ints.\n",
      " |  \n",
      " |  exit_now\n",
      " |      A boolean (True, False) trait.\n",
      " |  \n",
      " |  extension_manager\n",
      " |      A trait whose value must be an instance of a specified class.\n",
      " |      \n",
      " |      The value can also be an instance of a subclass of the specified class.\n",
      " |      \n",
      " |      Subclasses can declare default classes by overriding the klass attribute\n",
      " |  \n",
      " |  filename\n",
      " |      A trait for unicode strings.\n",
      " |  \n",
      " |  history_length\n",
      " |      An integer trait.\n",
      " |      \n",
      " |      Longs that are unnecessary (<= sys.maxint) are cast to ints.\n",
      " |  \n",
      " |  history_load_length\n",
      " |      An integer trait.\n",
      " |      \n",
      " |      Longs that are unnecessary (<= sys.maxint) are cast to ints.\n",
      " |  \n",
      " |  history_manager\n",
      " |      A trait whose value must be an instance of a specified class.\n",
      " |      \n",
      " |      The value can also be an instance of a subclass of the specified class.\n",
      " |      \n",
      " |      Subclasses can declare default classes by overriding the klass attribute\n",
      " |  \n",
      " |  input_splitter\n",
      " |      A trait whose value must be an instance of a specified class.\n",
      " |      \n",
      " |      The value can also be an instance of a subclass of the specified class.\n",
      " |      \n",
      " |      Subclasses can declare default classes by overriding the klass attribute\n",
      " |  \n",
      " |  input_transformer_manager\n",
      " |      A trait whose value must be an instance of a specified class.\n",
      " |      \n",
      " |      The value can also be an instance of a subclass of the specified class.\n",
      " |      \n",
      " |      Subclasses can declare default classes by overriding the klass attribute\n",
      " |  \n",
      " |  ipython_dir\n",
      " |      A trait for unicode strings.\n",
      " |  \n",
      " |  last_execution_succeeded\n",
      " |      A boolean (True, False) trait.\n",
      " |  \n",
      " |  logappend\n",
      " |      A trait for unicode strings.\n",
      " |  \n",
      " |  logfile\n",
      " |      A trait for unicode strings.\n",
      " |  \n",
      " |  logstart\n",
      " |      A boolean (True, False) trait.\n",
      " |  \n",
      " |  magics_manager\n",
      " |      A trait whose value must be an instance of a specified class.\n",
      " |      \n",
      " |      The value can also be an instance of a subclass of the specified class.\n",
      " |      \n",
      " |      Subclasses can declare default classes by overriding the klass attribute\n",
      " |  \n",
      " |  object_info_string_level\n",
      " |      An enum whose value must be in a given sequence.\n",
      " |  \n",
      " |  payload_manager\n",
      " |      A trait whose value must be an instance of a specified class.\n",
      " |      \n",
      " |      The value can also be an instance of a subclass of the specified class.\n",
      " |      \n",
      " |      Subclasses can declare default classes by overriding the klass attribute\n",
      " |  \n",
      " |  pdb\n",
      " |      A boolean (True, False) trait.\n",
      " |  \n",
      " |  prefilter_manager\n",
      " |      A trait whose value must be an instance of a specified class.\n",
      " |      \n",
      " |      The value can also be an instance of a subclass of the specified class.\n",
      " |      \n",
      " |      Subclasses can declare default classes by overriding the klass attribute\n",
      " |  \n",
      " |  profile\n",
      " |  \n",
      " |  profile_dir\n",
      " |      A trait whose value must be an instance of a specified class.\n",
      " |      \n",
      " |      The value can also be an instance of a subclass of the specified class.\n",
      " |      \n",
      " |      Subclasses can declare default classes by overriding the klass attribute\n",
      " |  \n",
      " |  prompt_in1\n",
      " |      A trait for unicode strings.\n",
      " |  \n",
      " |  prompt_in2\n",
      " |      A trait for unicode strings.\n",
      " |  \n",
      " |  prompt_out\n",
      " |      A trait for unicode strings.\n",
      " |  \n",
      " |  prompts_pad_left\n",
      " |      A boolean (True, False) trait.\n",
      " |  \n",
      " |  quiet\n",
      " |      A boolean (True, False) trait.\n",
      " |  \n",
      " |  separate_in\n",
      " |      A Unicode subclass to validate separate_in, separate_out, etc.\n",
      " |      \n",
      " |      This is a Unicode based trait that converts '0'->'' and ``'\\\\n'->'\\n'``.\n",
      " |  \n",
      " |  separate_out\n",
      " |      A Unicode subclass to validate separate_in, separate_out, etc.\n",
      " |      \n",
      " |      This is a Unicode based trait that converts '0'->'' and ``'\\\\n'->'\\n'``.\n",
      " |  \n",
      " |  separate_out2\n",
      " |      A Unicode subclass to validate separate_in, separate_out, etc.\n",
      " |      \n",
      " |      This is a Unicode based trait that converts '0'->'' and ``'\\\\n'->'\\n'``.\n",
      " |  \n",
      " |  show_rewritten_input\n",
      " |      A boolean (True, False) trait.\n",
      " |  \n",
      " |  sphinxify_docstring\n",
      " |      A boolean (True, False) trait.\n",
      " |  \n",
      " |  user_global_ns\n",
      " |  \n",
      " |  wildcards_case_sensitive\n",
      " |      A boolean (True, False) trait.\n",
      " |  \n",
      " |  xmode\n",
      " |      An enum of strings where the case should be ignored.\n",
      " |  \n",
      " |  ----------------------------------------------------------------------\n",
      " |  Data and other attributes inherited from IPython.core.interactiveshell.InteractiveShell:\n",
      " |  \n",
      " |  active_eventloop = None\n",
      " |  \n",
      " |  debugger_cls = <class IPython.core.debugger.Pdb>\n",
      " |  \n",
      " |  default_user_namespaces = True\n",
      " |  \n",
      " |  pylab_gui_select = None\n",
      " |  \n",
      " |  ----------------------------------------------------------------------\n",
      " |  Class methods inherited from traitlets.config.configurable.SingletonConfigurable:\n",
      " |  \n",
      " |  clear_instance(cls) from traitlets.traitlets.MetaHasTraits\n",
      " |      unset _instance for this class and singleton parents.\n",
      " |  \n",
      " |  initialized(cls) from traitlets.traitlets.MetaHasTraits\n",
      " |      Has an instance been created?\n",
      " |  \n",
      " |  instance(cls, *args, **kwargs) from traitlets.traitlets.MetaHasTraits\n",
      " |      Returns a global instance of this class.\n",
      " |      \n",
      " |      This method create a new instance if none have previously been created\n",
      " |      and returns a previously created instance is one already exists.\n",
      " |      \n",
      " |      The arguments and keyword arguments passed to this method are passed\n",
      " |      on to the :meth:`__init__` method of the class upon instantiation.\n",
      " |      \n",
      " |      Examples\n",
      " |      --------\n",
      " |      \n",
      " |      Create a singleton class using instance, and retrieve it::\n",
      " |      \n",
      " |          >>> from traitlets.config.configurable import SingletonConfigurable\n",
      " |          >>> class Foo(SingletonConfigurable): pass\n",
      " |          >>> foo = Foo.instance()\n",
      " |          >>> foo == Foo.instance()\n",
      " |          True\n",
      " |      \n",
      " |      Create a subclass that is retrived using the base class instance::\n",
      " |      \n",
      " |          >>> class Bar(SingletonConfigurable): pass\n",
      " |          >>> class Bam(Bar): pass\n",
      " |          >>> bam = Bam.instance()\n",
      " |          >>> bam == Bar.instance()\n",
      " |          True\n",
      " |  \n",
      " |  ----------------------------------------------------------------------\n",
      " |  Data descriptors inherited from traitlets.config.configurable.LoggingConfigurable:\n",
      " |  \n",
      " |  log\n",
      " |      A trait whose value must be an instance of a specified class.\n",
      " |      \n",
      " |      The value can also be an instance of a subclass of the specified class.\n",
      " |      \n",
      " |      Subclasses can declare default classes by overriding the klass attribute\n",
      " |  \n",
      " |  ----------------------------------------------------------------------\n",
      " |  Methods inherited from traitlets.config.configurable.Configurable:\n",
      " |  \n",
      " |  update_config(self, config)\n",
      " |      Update config and load the new values\n",
      " |  \n",
      " |  ----------------------------------------------------------------------\n",
      " |  Class methods inherited from traitlets.config.configurable.Configurable:\n",
      " |  \n",
      " |  class_config_rst_doc(cls) from traitlets.traitlets.MetaHasTraits\n",
      " |      Generate rST documentation for this class' config options.\n",
      " |      \n",
      " |      Excludes traits defined on parent classes.\n",
      " |  \n",
      " |  class_config_section(cls) from traitlets.traitlets.MetaHasTraits\n",
      " |      Get the config class config section\n",
      " |  \n",
      " |  class_get_help(cls, inst=None) from traitlets.traitlets.MetaHasTraits\n",
      " |      Get the help string for this class in ReST format.\n",
      " |      \n",
      " |      If `inst` is given, it's current trait values will be used in place of\n",
      " |      class defaults.\n",
      " |  \n",
      " |  class_get_trait_help(cls, trait, inst=None) from traitlets.traitlets.MetaHasTraits\n",
      " |      Get the help string for a single trait.\n",
      " |      \n",
      " |      If `inst` is given, it's current trait values will be used in place of\n",
      " |      the class default.\n",
      " |  \n",
      " |  class_print_help(cls, inst=None) from traitlets.traitlets.MetaHasTraits\n",
      " |      Get the help string for a single trait and print it.\n",
      " |  \n",
      " |  section_names(cls) from traitlets.traitlets.MetaHasTraits\n",
      " |      return section names as a list\n",
      " |  \n",
      " |  ----------------------------------------------------------------------\n",
      " |  Data descriptors inherited from traitlets.config.configurable.Configurable:\n",
      " |  \n",
      " |  config\n",
      " |      A trait whose value must be an instance of a specified class.\n",
      " |      \n",
      " |      The value can also be an instance of a subclass of the specified class.\n",
      " |      \n",
      " |      Subclasses can declare default classes by overriding the klass attribute\n",
      " |  \n",
      " |  parent\n",
      " |      A trait whose value must be an instance of a specified class.\n",
      " |      \n",
      " |      The value can also be an instance of a subclass of the specified class.\n",
      " |      \n",
      " |      Subclasses can declare default classes by overriding the klass attribute\n",
      " |  \n",
      " |  ----------------------------------------------------------------------\n",
      " |  Methods inherited from traitlets.traitlets.HasTraits:\n",
      " |  \n",
      " |  __getstate__(self)\n",
      " |  \n",
      " |  __setstate__(self, state)\n",
      " |  \n",
      " |  add_traits(self, **traits)\n",
      " |      Dynamically add trait attributes to the HasTraits instance.\n",
      " |  \n",
      " |  has_trait(self, name)\n",
      " |      Returns True if the object has a trait with the specified name.\n",
      " |  \n",
      " |  hold_trait_notifications(*args, **kwds)\n",
      " |      Context manager for bundling trait change notifications and cross\n",
      " |      validation.\n",
      " |      \n",
      " |      Use this when doing multiple trait assignments (init, config), to avoid\n",
      " |      race conditions in trait notifiers requesting other trait values.\n",
      " |      All trait notifications will fire after all values have been assigned.\n",
      " |  \n",
      " |  notify_change(self, change)\n",
      " |  \n",
      " |  observe(self, handler, names=traitlets.All, type='change')\n",
      " |      Setup a handler to be called when a trait changes.\n",
      " |      \n",
      " |      This is used to setup dynamic notifications of trait changes.\n",
      " |      \n",
      " |      Parameters\n",
      " |      ----------\n",
      " |      handler : callable\n",
      " |          A callable that is called when a trait changes. Its\n",
      " |          signature should be ``handler(change)``, where ``change`` is a\n",
      " |          dictionary. The change dictionary at least holds a 'type' key.\n",
      " |          * ``type``: the type of notification.\n",
      " |          Other keys may be passed depending on the value of 'type'. In the\n",
      " |          case where type is 'change', we also have the following keys:\n",
      " |          * ``owner`` : the HasTraits instance\n",
      " |          * ``old`` : the old value of the modified trait attribute\n",
      " |          * ``new`` : the new value of the modified trait attribute\n",
      " |          * ``name`` : the name of the modified trait attribute.\n",
      " |      names : list, str, All\n",
      " |          If names is All, the handler will apply to all traits.  If a list\n",
      " |          of str, handler will apply to all names in the list.  If a\n",
      " |          str, the handler will apply just to that name.\n",
      " |      type : str, All (default: 'change')\n",
      " |          The type of notification to filter by. If equal to All, then all\n",
      " |          notifications are passed to the observe handler.\n",
      " |  \n",
      " |  on_trait_change(self, handler=None, name=None, remove=False)\n",
      " |      DEPRECATED: Setup a handler to be called when a trait changes.\n",
      " |      \n",
      " |      This is used to setup dynamic notifications of trait changes.\n",
      " |      \n",
      " |      Static handlers can be created by creating methods on a HasTraits\n",
      " |      subclass with the naming convention '_[traitname]_changed'.  Thus,\n",
      " |      to create static handler for the trait 'a', create the method\n",
      " |      _a_changed(self, name, old, new) (fewer arguments can be used, see\n",
      " |      below).\n",
      " |      \n",
      " |      If `remove` is True and `handler` is not specified, all change\n",
      " |      handlers for the specified name are uninstalled.\n",
      " |      \n",
      " |      Parameters\n",
      " |      ----------\n",
      " |      handler : callable, None\n",
      " |          A callable that is called when a trait changes.  Its\n",
      " |          signature can be handler(), handler(name), handler(name, new),\n",
      " |          handler(name, old, new), or handler(name, old, new, self).\n",
      " |      name : list, str, None\n",
      " |          If None, the handler will apply to all traits.  If a list\n",
      " |          of str, handler will apply to all names in the list.  If a\n",
      " |          str, the handler will apply just to that name.\n",
      " |      remove : bool\n",
      " |          If False (the default), then install the handler.  If True\n",
      " |          then unintall it.\n",
      " |  \n",
      " |  set_trait(self, name, value)\n",
      " |      Forcibly sets trait attribute, including read-only attributes.\n",
      " |  \n",
      " |  setup_instance(self, *args, **kwargs)\n",
      " |  \n",
      " |  trait_metadata(self, traitname, key, default=None)\n",
      " |      Get metadata values for trait by key.\n",
      " |  \n",
      " |  trait_names(self, **metadata)\n",
      " |      Get a list of all the names of this class' traits.\n",
      " |  \n",
      " |  traits(self, **metadata)\n",
      " |      Get a ``dict`` of all the traits of this class.  The dictionary\n",
      " |      is keyed on the name and the values are the TraitType objects.\n",
      " |      \n",
      " |      The TraitTypes returned don't know anything about the values\n",
      " |      that the various HasTrait's instances are holding.\n",
      " |      \n",
      " |      The metadata kwargs allow functions to be passed in which\n",
      " |      filter traits based on metadata values.  The functions should\n",
      " |      take a single value as an argument and return a boolean.  If\n",
      " |      any function returns False, then the trait is not included in\n",
      " |      the output.  If a metadata key doesn't exist, None will be passed\n",
      " |      to the function.\n",
      " |  \n",
      " |  unobserve(self, handler, names=traitlets.All, type='change')\n",
      " |      Remove a trait change handler.\n",
      " |      \n",
      " |      This is used to unregister handlers to trait change notifications.\n",
      " |      \n",
      " |      Parameters\n",
      " |      ----------\n",
      " |      handler : callable\n",
      " |          The callable called when a trait attribute changes.\n",
      " |      names : list, str, All (default: All)\n",
      " |          The names of the traits for which the specified handler should be\n",
      " |          uninstalled. If names is All, the specified handler is uninstalled\n",
      " |          from the list of notifiers corresponding to all changes.\n",
      " |      type : str or All (default: 'change')\n",
      " |          The type of notification to filter by. If All, the specified handler\n",
      " |          is uninstalled from the list of notifiers corresponding to all types.\n",
      " |  \n",
      " |  unobserve_all(self, name=traitlets.All)\n",
      " |      Remove trait change handlers of any type for the specified name.\n",
      " |      If name is not specified, removes all trait notifiers.\n",
      " |  \n",
      " |  ----------------------------------------------------------------------\n",
      " |  Class methods inherited from traitlets.traitlets.HasTraits:\n",
      " |  \n",
      " |  class_own_trait_events(cls, name) from traitlets.traitlets.MetaHasTraits\n",
      " |      Get a dict of all event handlers defined on this class, not a parent.\n",
      " |      \n",
      " |      Works like ``event_handlers``, except for excluding traits from parents.\n",
      " |  \n",
      " |  class_own_traits(cls, **metadata) from traitlets.traitlets.MetaHasTraits\n",
      " |      Get a dict of all the traitlets defined on this class, not a parent.\n",
      " |      \n",
      " |      Works like `class_traits`, except for excluding traits from parents.\n",
      " |  \n",
      " |  class_trait_names(cls, **metadata) from traitlets.traitlets.MetaHasTraits\n",
      " |      Get a list of all the names of this class' traits.\n",
      " |      \n",
      " |      This method is just like the :meth:`trait_names` method,\n",
      " |      but is unbound.\n",
      " |  \n",
      " |  class_traits(cls, **metadata) from traitlets.traitlets.MetaHasTraits\n",
      " |      Get a ``dict`` of all the traits of this class.  The dictionary\n",
      " |      is keyed on the name and the values are the TraitType objects.\n",
      " |      \n",
      " |      This method is just like the :meth:`traits` method, but is unbound.\n",
      " |      \n",
      " |      The TraitTypes returned don't know anything about the values\n",
      " |      that the various HasTrait's instances are holding.\n",
      " |      \n",
      " |      The metadata kwargs allow functions to be passed in which\n",
      " |      filter traits based on metadata values.  The functions should\n",
      " |      take a single value as an argument and return a boolean.  If\n",
      " |      any function returns False, then the trait is not included in\n",
      " |      the output.  If a metadata key doesn't exist, None will be passed\n",
      " |      to the function.\n",
      " |  \n",
      " |  trait_events(cls, name=None) from traitlets.traitlets.MetaHasTraits\n",
      " |      Get a ``dict`` of all the event handlers of this class.\n",
      " |      \n",
      " |      Parameters\n",
      " |      ----------\n",
      " |      name: str (default: None)\n",
      " |          The name of a trait of this class. If name is ``None`` then all\n",
      " |          the event handlers of this class will be returned instead.\n",
      " |      \n",
      " |      Returns\n",
      " |      -------\n",
      " |      The event handlers associated with a trait name, or all event handlers.\n",
      " |  \n",
      " |  ----------------------------------------------------------------------\n",
      " |  Data descriptors inherited from traitlets.traitlets.HasTraits:\n",
      " |  \n",
      " |  cross_validation_lock\n",
      " |      A contextmanager for running a block with our cross validation lock set\n",
      " |      to True.\n",
      " |      \n",
      " |      At the end of the block, the lock's value is restored to its value\n",
      " |      prior to entering the block.\n",
      " |  \n",
      " |  ----------------------------------------------------------------------\n",
      " |  Static methods inherited from traitlets.traitlets.HasDescriptors:\n",
      " |  \n",
      " |  __new__(cls, *args, **kwargs)\n",
      " |  \n",
      " |  ----------------------------------------------------------------------\n",
      " |  Data descriptors inherited from traitlets.traitlets.HasDescriptors:\n",
      " |  \n",
      " |  __dict__\n",
      " |      dictionary for instance variables (if defined)\n",
      " |  \n",
      " |  __weakref__\n",
      " |      list of weak references to the object (if defined)\n",
      "\n"
     ]
    }
   ],
   "source": [
    "help(get_ipython())"
   ]
  },
  {
   "cell_type": "code",
   "execution_count": 92,
   "metadata": {},
   "outputs": [
    {
     "name": "stdout",
     "output_type": "stream",
     "text": [
      "S"
     ]
    }
   ],
   "source": [
    "get_ipython().show_banner(\"S\")"
   ]
  },
  {
   "cell_type": "markdown",
   "metadata": {},
   "source": [
    "## Lectura de los quices"
   ]
  },
  {
   "cell_type": "code",
   "execution_count": 126,
   "metadata": {
    "collapsed": true
   },
   "outputs": [],
   "source": [
    "def read_banco():\n",
    "  \n",
    "  import json\n",
    "  json_notebook = json.load(open('./banco.ipynb'))\n",
    "  quices = []\n",
    "  quiz = []\n",
    "  switch = False\n",
    "  \n",
    "  for i in json_notebook['cells']:\n",
    "    \n",
    "    if len(i['source']):\n",
    "      if i['source'][0] == \"###INIT###\":\n",
    "        switch = True\n",
    "\n",
    "      if switch:\n",
    "        quiz.append(i)\n",
    "\n",
    "      if i['source'][0] == \"###END###\":\n",
    "        switch = False\n",
    "        quices.append(quiz)\n",
    "        quiz = []\n",
    "  return quices\n",
    "  \n",
    "    "
   ]
  },
  {
   "cell_type": "code",
   "execution_count": 127,
   "metadata": {
    "collapsed": true
   },
   "outputs": [],
   "source": [
    "def read_quiz(banco, list_points):\n",
    "  for i in list_points:\n",
    "    yield banco[i]"
   ]
  },
  {
   "cell_type": "code",
   "execution_count": 128,
   "metadata": {},
   "outputs": [
    {
     "data": {
      "text/plain": [
       "<generator object read_quiz at 0xb3b46dc4>"
      ]
     },
     "execution_count": 128,
     "metadata": {},
     "output_type": "execute_result"
    }
   ],
   "source": [
    "list_points = [0,3] # Comienzan desde 0\n",
    "banco = read_banco()\n",
    "quiz_for_student = read_quiz(banco,list_points)\n",
    "quiz_for_student"
   ]
  },
  {
   "cell_type": "code",
   "execution_count": 129,
   "metadata": {},
   "outputs": [
    {
     "name": "stdout",
     "output_type": "stream",
     "text": [
      "[{u'source': [u'###INIT###'], u'cell_type': u'markdown', u'metadata': {}}, {u'source': [u'# QUIZ #1'], u'cell_type': u'markdown', u'metadata': {}}, {u'source': [u'Esto es un ejercicio'], u'cell_type': u'markdown', u'metadata': {}}, {u'execution_count': 6, u'cell_type': u'code', u'source': [u'def prueba(a,b):\\n', u'    c=a+b\\n', u'    return c'], u'outputs': [], u'metadata': {u'collapsed': True}}, {u'execution_count': 7, u'cell_type': u'code', u'source': [u'prueba(1,2)'], u'outputs': [{u'execution_count': 7, u'output_type': u'execute_result', u'data': {u'text/plain': [u'3']}, u'metadata': {}}], u'metadata': {}}, {u'source': [u'###END###'], u'cell_type': u'markdown', u'metadata': {}}]\n",
      "[{u'source': [u'###INIT###'], u'cell_type': u'markdown', u'metadata': {}}, {u'source': [u'# QUIZ #4'], u'cell_type': u'markdown', u'metadata': {}}, {u'execution_count': 10, u'cell_type': u'code', u'source': [u'print \"4\"'], u'outputs': [{u'output_type': u'stream', u'name': u'stdout', u'text': [u'4\\n']}], u'metadata': {}}, {u'source': [u'###END###'], u'cell_type': u'markdown', u'metadata': {}}]\n"
     ]
    }
   ],
   "source": [
    "for i in quiz_for_student:\n",
    "  print i"
   ]
  },
  {
   "cell_type": "code",
   "execution_count": 132,
   "metadata": {
    "collapsed": true
   },
   "outputs": [],
   "source": [
    "def generate_seed(seed,len_banco):\n",
    "  \n",
    "  list_points = []\n",
    "  for i in range(4):\n",
    "      seed = int((997*(seed)+3)%len_banco)\n",
    "      list_points.append(seed)\n",
    "  return list_points"
   ]
  },
  {
   "cell_type": "code",
   "execution_count": 133,
   "metadata": {},
   "outputs": [
    {
     "data": {
      "text/plain": [
       "[1, 0, 3, 2]"
      ]
     },
     "execution_count": 133,
     "metadata": {},
     "output_type": "execute_result"
    }
   ],
   "source": [
    "generate_seed(2132814,4)"
   ]
  },
  {
   "cell_type": "code",
   "execution_count": 134,
   "metadata": {
    "collapsed": true
   },
   "outputs": [],
   "source": [
    "def render_quiz(email):\n",
    "  \n",
    "  banco = read_banco()\n",
    "  seed = email_to_seed(email)\n",
    "  list_points = generate_seed(seed,len(banco))  \n",
    "  quiz_for_student = read_quiz(banco,list_points) \n",
    "  \n",
    "  for i in quiz_for_student:\n",
    "    for j in i:\n",
    "      if j['cell_type']==\"markdown\":\n",
    "        new_cell(j['source'][0],\"markdown\")\n",
    "      if j['cell_type']==\"code\":    \n",
    "        if len(j['source']) != 0:\n",
    "\n",
    "          code_lines = j['source']\n",
    "          z = \"\"\n",
    "          for k in code_lines:\n",
    "            z = z + k            \n",
    "          new_cell(z,\"code\")  "
   ]
  },
  {
   "cell_type": "code",
   "execution_count": 135,
   "metadata": {
    "collapsed": true
   },
   "outputs": [],
   "source": [
    "def email_to_seed(email):\n",
    "  seed = \"\"\n",
    "  for i in email:\n",
    "    seed = seed + str(ord(i))\n",
    "  return int(seed)"
   ]
  },
  {
   "cell_type": "code",
   "execution_count": 136,
   "metadata": {},
   "outputs": [
    {
     "data": {
      "text/plain": [
       "100971101051011089997114118971069710811297116105110111L"
      ]
     },
     "execution_count": 136,
     "metadata": {},
     "output_type": "execute_result"
    }
   ],
   "source": [
    "seed_p = email_to_seed(\"danielcarvajalpatino\")\n",
    "seed_p"
   ]
  },
  {
   "cell_type": "code",
   "execution_count": 138,
   "metadata": {},
   "outputs": [
    {
     "data": {
      "text/plain": [
       "[2, 1, 0, 3]"
      ]
     },
     "execution_count": 138,
     "metadata": {},
     "output_type": "execute_result"
    }
   ],
   "source": [
    "list_points_p = generate_seed(seed_p,4) \n",
    "list_points_p"
   ]
  },
  {
   "cell_type": "code",
   "execution_count": 139,
   "metadata": {},
   "outputs": [
    {
     "data": {
      "application/javascript": [
       "\n",
       "      var mark = IPython.notebook.insert_cell_above('markdown')\n",
       "      mark.set_text(\"###INIT###\")\n",
       "    "
      ],
      "text/plain": [
       "<IPython.core.display.Javascript object>"
      ]
     },
     "metadata": {},
     "output_type": "display_data"
    },
    {
     "data": {
      "application/javascript": [
       "\n",
       "      var mark = IPython.notebook.insert_cell_above('markdown')\n",
       "      mark.set_text(\"# QUIZ #3\")\n",
       "    "
      ],
      "text/plain": [
       "<IPython.core.display.Javascript object>"
      ]
     },
     "metadata": {},
     "output_type": "display_data"
    },
    {
     "data": {
      "application/javascript": [
       "\n",
       "    var code = IPython.notebook.insert_cell_above('code')\n",
       "    code.set_text(atob(\"cHJpbnQgIjMi\"))\n",
       "    "
      ],
      "text/plain": [
       "<IPython.core.display.Javascript object>"
      ]
     },
     "metadata": {},
     "output_type": "display_data"
    },
    {
     "data": {
      "application/javascript": [
       "\n",
       "      var mark = IPython.notebook.insert_cell_above('markdown')\n",
       "      mark.set_text(\"###END###\")\n",
       "    "
      ],
      "text/plain": [
       "<IPython.core.display.Javascript object>"
      ]
     },
     "metadata": {},
     "output_type": "display_data"
    },
    {
     "data": {
      "application/javascript": [
       "\n",
       "      var mark = IPython.notebook.insert_cell_above('markdown')\n",
       "      mark.set_text(\"###INIT###\")\n",
       "    "
      ],
      "text/plain": [
       "<IPython.core.display.Javascript object>"
      ]
     },
     "metadata": {},
     "output_type": "display_data"
    },
    {
     "data": {
      "application/javascript": [
       "\n",
       "      var mark = IPython.notebook.insert_cell_above('markdown')\n",
       "      mark.set_text(\"# QUIZ #2\")\n",
       "    "
      ],
      "text/plain": [
       "<IPython.core.display.Javascript object>"
      ]
     },
     "metadata": {},
     "output_type": "display_data"
    },
    {
     "data": {
      "application/javascript": [
       "\n",
       "    var code = IPython.notebook.insert_cell_above('code')\n",
       "    code.set_text(atob(\"cHJpbnQgIjIi\"))\n",
       "    "
      ],
      "text/plain": [
       "<IPython.core.display.Javascript object>"
      ]
     },
     "metadata": {},
     "output_type": "display_data"
    },
    {
     "data": {
      "application/javascript": [
       "\n",
       "      var mark = IPython.notebook.insert_cell_above('markdown')\n",
       "      mark.set_text(\"###END###\")\n",
       "    "
      ],
      "text/plain": [
       "<IPython.core.display.Javascript object>"
      ]
     },
     "metadata": {},
     "output_type": "display_data"
    },
    {
     "data": {
      "application/javascript": [
       "\n",
       "      var mark = IPython.notebook.insert_cell_above('markdown')\n",
       "      mark.set_text(\"###INIT###\")\n",
       "    "
      ],
      "text/plain": [
       "<IPython.core.display.Javascript object>"
      ]
     },
     "metadata": {},
     "output_type": "display_data"
    },
    {
     "data": {
      "application/javascript": [
       "\n",
       "      var mark = IPython.notebook.insert_cell_above('markdown')\n",
       "      mark.set_text(\"# QUIZ #1\")\n",
       "    "
      ],
      "text/plain": [
       "<IPython.core.display.Javascript object>"
      ]
     },
     "metadata": {},
     "output_type": "display_data"
    },
    {
     "data": {
      "application/javascript": [
       "\n",
       "      var mark = IPython.notebook.insert_cell_above('markdown')\n",
       "      mark.set_text(\"Esto es un ejercicio\")\n",
       "    "
      ],
      "text/plain": [
       "<IPython.core.display.Javascript object>"
      ]
     },
     "metadata": {},
     "output_type": "display_data"
    },
    {
     "data": {
      "application/javascript": [
       "\n",
       "    var code = IPython.notebook.insert_cell_above('code')\n",
       "    code.set_text(atob(\"ZGVmIHBydWViYShhLGIpOgogICAgYz1hK2IKICAgIHJldHVybiBj\"))\n",
       "    "
      ],
      "text/plain": [
       "<IPython.core.display.Javascript object>"
      ]
     },
     "metadata": {},
     "output_type": "display_data"
    },
    {
     "data": {
      "application/javascript": [
       "\n",
       "    var code = IPython.notebook.insert_cell_above('code')\n",
       "    code.set_text(atob(\"cHJ1ZWJhKDEsMik=\"))\n",
       "    "
      ],
      "text/plain": [
       "<IPython.core.display.Javascript object>"
      ]
     },
     "metadata": {},
     "output_type": "display_data"
    },
    {
     "data": {
      "application/javascript": [
       "\n",
       "      var mark = IPython.notebook.insert_cell_above('markdown')\n",
       "      mark.set_text(\"###END###\")\n",
       "    "
      ],
      "text/plain": [
       "<IPython.core.display.Javascript object>"
      ]
     },
     "metadata": {},
     "output_type": "display_data"
    },
    {
     "data": {
      "application/javascript": [
       "\n",
       "      var mark = IPython.notebook.insert_cell_above('markdown')\n",
       "      mark.set_text(\"###INIT###\")\n",
       "    "
      ],
      "text/plain": [
       "<IPython.core.display.Javascript object>"
      ]
     },
     "metadata": {},
     "output_type": "display_data"
    },
    {
     "data": {
      "application/javascript": [
       "\n",
       "      var mark = IPython.notebook.insert_cell_above('markdown')\n",
       "      mark.set_text(\"# QUIZ #4\")\n",
       "    "
      ],
      "text/plain": [
       "<IPython.core.display.Javascript object>"
      ]
     },
     "metadata": {},
     "output_type": "display_data"
    },
    {
     "data": {
      "application/javascript": [
       "\n",
       "    var code = IPython.notebook.insert_cell_above('code')\n",
       "    code.set_text(atob(\"cHJpbnQgIjQi\"))\n",
       "    "
      ],
      "text/plain": [
       "<IPython.core.display.Javascript object>"
      ]
     },
     "metadata": {},
     "output_type": "display_data"
    },
    {
     "data": {
      "application/javascript": [
       "\n",
       "      var mark = IPython.notebook.insert_cell_above('markdown')\n",
       "      mark.set_text(\"###END###\")\n",
       "    "
      ],
      "text/plain": [
       "<IPython.core.display.Javascript object>"
      ]
     },
     "metadata": {},
     "output_type": "display_data"
    }
   ],
   "source": [
    "render_quiz(\"danielcarvajalpatino\")"
   ]
  },
  {
   "cell_type": "code",
   "execution_count": 2,
   "metadata": {},
   "outputs": [
    {
     "data": {
      "application/javascript": [
       "\n",
       "      var mark = IPython.notebook.insert_cell_above('markdown')\n",
       "      mark.set_text(\"texto\")\n",
       "    "
      ],
      "text/plain": [
       "<IPython.core.display.Javascript object>"
      ]
     },
     "metadata": {},
     "output_type": "display_data"
    }
   ],
   "source": [
    "import render_quizas rq\n",
    "qr.re"
   ]
  },
  {
   "cell_type": "markdown",
   "metadata": {},
   "source": [
    "texto"
   ]
  },
  {
   "cell_type": "code",
   "execution_count": null,
   "metadata": {
    "collapsed": true
   },
   "outputs": [],
   "source": []
  }
 ],
 "metadata": {
  "kernelspec": {
   "display_name": "Python 2",
   "language": "python",
   "name": "python2"
  },
  "language_info": {
   "codemirror_mode": {
    "name": "ipython",
    "version": 2
   },
   "file_extension": ".py",
   "mimetype": "text/x-python",
   "name": "python",
   "nbconvert_exporter": "python",
   "pygments_lexer": "ipython2",
   "version": "2.7.13"
  }
 },
 "nbformat": 4,
 "nbformat_minor": 2
}
