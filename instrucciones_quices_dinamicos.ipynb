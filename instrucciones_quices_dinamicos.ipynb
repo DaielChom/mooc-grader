{
 "cells": [
  {
   "cell_type": "markdown",
   "metadata": {},
   "source": [
    "<center>\n",
    "<h2 style=\"color:#3F51B5\"> INSTRUCCIONES QUICES DINAMICOS </h2>\n",
    "</center>\n",
    "\n",
    "Para la elaboración del banco se realizarán las siguientes configuraciones\n",
    "\n",
    "* El `SECTION NAME` debe ser ingresado para que el dinamismo de los quices funcione.\n",
    "* Los ejercicios deben estar encerrados en un par de etiquetas, para que el `framework` pueda extraerlos de manera correcta. \n",
    "* Antes de cada ejercicio debe haber una celda markdown con el texto `###INICIO###`. \n",
    "* Después de cada ejercicio debe haber una celda markdown con el texto `###FINAL###`. \n",
    "* No olvidar poner las lineas de `CHECK` y `SUBMIT`, \n",
    "* Crear los `graders` para cada ejercicio del banco dentro del directorio `Quiz_#/útil/graders`.\n",
    "* Si el Markdown requiere imagenes ponerlas en la carpeta `Quiz_#/img`"
   ]
  },
  {
   "cell_type": "markdown",
   "metadata": {},
   "source": [
    "<h2 style=\"color:#3F51B5\"> 1. SECTION NAME  </h2>\n",
    "\n",
    "Ingrese el `SECTION NAME` para la identificacion y funcionamiento de los mismo"
   ]
  },
  {
   "cell_type": "code",
   "execution_count": null,
   "metadata": {},
   "outputs": [],
   "source": [
    "SECTION_NAME = \"\" # Ej.\"QZ1\"\n",
    "SECTION_NAME"
   ]
  },
  {
   "cell_type": "markdown",
   "metadata": {},
   "source": [
    "<h2 style=\"color:#3F51B5\"> 2. ELABORACION DE EJERCICIOS PARA EL QUIZ </h2>"
   ]
  },
  {
   "cell_type": "markdown",
   "metadata": {},
   "source": [
    "Como se mencionó anteriormente se generará un archivo con todos los ejercicios que podrían ser asignados al estudiante, estos ejercicios deben ser realizados en el presente notebook y cada ejercicio entre dos etiquetas. La primera una celda markdown con el contenido `###INIT###` y la segunda, una celda markdown con el contenido `###END##`. No olvidar elaborar el grade de cada ejercicio, como se ve en los ejemplos.\n",
    "\n",
    "<h2 style=\"color:#3F51B5\"> 3. EJEMPLO DE EJERCICIOS </h2>\n",
    "\n",
    "A continuación, se muestran 6 ejemplos de ejercicios y graders de un quiz, lo que al final generara un archivo banco.py, únicamente con los ejercicios dentro de las etiquetas"
   ]
  },
  {
   "cell_type": "markdown",
   "metadata": {},
   "source": [
    "###INIT###"
   ]
  },
  {
   "cell_type": "markdown",
   "metadata": {},
   "source": [
    "### Ejercicio 1. Suma"
   ]
  },
  {
   "cell_type": "markdown",
   "metadata": {},
   "source": [
    "Completa la siguiente funcion para que retorne la suma de los dos parametros que le llegan."
   ]
  },
  {
   "cell_type": "code",
   "execution_count": null,
   "metadata": {},
   "outputs": [],
   "source": [
    "%%writefile utils/student_function/student_QZ1_1.py\n",
    "def suma(a,b):\n",
    "    suma = ...\n",
    "    return suma"
   ]
  },
  {
   "cell_type": "code",
   "execution_count": null,
   "metadata": {},
   "outputs": [],
   "source": [
    "!./run CHECK_SOLUTION QZ1_1"
   ]
  },
  {
   "cell_type": "code",
   "execution_count": null,
   "metadata": {
    "collapsed": true
   },
   "outputs": [],
   "source": [
    "!./run SUBMIT_SOLUTION QZ1_1"
   ]
  },
  {
   "cell_type": "markdown",
   "metadata": {},
   "source": [
    "###END###"
   ]
  },
  {
   "cell_type": "code",
   "execution_count": null,
   "metadata": {
    "collapsed": true,
    "scrolled": true
   },
   "outputs": [],
   "source": [
    "print \"Entre una celda FIN y una INICIO el profesor puede probar codigo y ese no será renderizado.\"\n",
    "print \"Se podrian incluso crear los granders aqui mismo en el banco, pues el archivo banco estará encriptado\""
   ]
  },
  {
   "cell_type": "markdown",
   "metadata": {},
   "source": [
    "#### Grader Ejercicio 1"
   ]
  },
  {
   "cell_type": "code",
   "execution_count": null,
   "metadata": {},
   "outputs": [],
   "source": [
    "%%writefile ./utils/graders/grader_QZ1_1.sh\n",
    "#!/usr/bin/python\n",
    "\n",
    "import sys\n",
    "sys.path.append(\"./utils/student_function/\")\n",
    "\n",
    "try:\n",
    "    import student_QZ1_1 as st\n",
    "\n",
    "    def suma_grade(a,b):\n",
    "        return a+b\n",
    "\n",
    "    ## Calificacion de la funcion del estudiante\n",
    "\n",
    "    if st.suma(12, 24) == suma_grade(12, 24):\n",
    "        print \"Felicitaciones##5\"\n",
    "    else:\n",
    "        print \"Vuelve a intentarlo##1.3\"\n",
    "except:\n",
    "    error = sys.exc_info()\n",
    "    for i in error:\n",
    "        print i"
   ]
  },
  {
   "cell_type": "markdown",
   "metadata": {
    "collapsed": true
   },
   "source": [
    "###INIT###"
   ]
  },
  {
   "cell_type": "markdown",
   "metadata": {},
   "source": [
    "### Ejercicio 2. Resta"
   ]
  },
  {
   "cell_type": "markdown",
   "metadata": {},
   "source": [
    "Completa la siguiente funcion para que retorne la resta de los dos parametros que le llegan."
   ]
  },
  {
   "cell_type": "code",
   "execution_count": null,
   "metadata": {},
   "outputs": [],
   "source": [
    "%%writefile utils/student_function/student_QZ1_2.py\n",
    "def resta(a,b):\n",
    "    resta = ...\n",
    "    return resta"
   ]
  },
  {
   "cell_type": "code",
   "execution_count": null,
   "metadata": {
    "collapsed": true
   },
   "outputs": [],
   "source": [
    "!./run CHECK_SOLUTION QZ1_2"
   ]
  },
  {
   "cell_type": "code",
   "execution_count": null,
   "metadata": {
    "collapsed": true
   },
   "outputs": [],
   "source": [
    "!./run SUBMIT_SOLUTION QZ1_2"
   ]
  },
  {
   "cell_type": "markdown",
   "metadata": {},
   "source": [
    "###END###"
   ]
  },
  {
   "cell_type": "markdown",
   "metadata": {},
   "source": [
    "#### Grader Ejercicio 2"
   ]
  },
  {
   "cell_type": "code",
   "execution_count": null,
   "metadata": {},
   "outputs": [],
   "source": [
    "%%writefile ./utils/graders/grader_QZ1_2.sh\n",
    "#!/usr/bin/python\n",
    "\n",
    "import sys\n",
    "sys.path.append(\"./utils/student_function/\")\n",
    "\n",
    "import student_QZ1_2 as st\n",
    "\n",
    "def resta_grade(a,b):\n",
    "    return a-b\n",
    "\n",
    "## Calificacion de la funcion del estudiante\n",
    "if st.resta(12,24) == resta_grade(12, 24):\n",
    "    print \"Felicitaciones##5\"\n",
    "else:\n",
    "    print \"Vuelve a intentarlo##1.3\""
   ]
  },
  {
   "cell_type": "markdown",
   "metadata": {},
   "source": [
    "###INIT###"
   ]
  },
  {
   "cell_type": "markdown",
   "metadata": {},
   "source": [
    "### Ejercicio 3. Multiplicación"
   ]
  },
  {
   "cell_type": "code",
   "execution_count": null,
   "metadata": {
    "collapsed": true
   },
   "outputs": [],
   "source": [
    "%%writefile utils/student_function/student_QZ1_3.py\n",
    "def multiplicacion(a,b):\n",
    "    mult = ...\n",
    "    return mult"
   ]
  },
  {
   "cell_type": "code",
   "execution_count": null,
   "metadata": {
    "collapsed": true
   },
   "outputs": [],
   "source": [
    "!./run CHECK_SOLUTION QZ1_3"
   ]
  },
  {
   "cell_type": "code",
   "execution_count": null,
   "metadata": {
    "collapsed": true
   },
   "outputs": [],
   "source": [
    "!./run SUBMIT_SOLUTION QZ1_3"
   ]
  },
  {
   "cell_type": "markdown",
   "metadata": {},
   "source": [
    "###END###"
   ]
  },
  {
   "cell_type": "markdown",
   "metadata": {},
   "source": [
    "#### Grader Ejercicio 3"
   ]
  },
  {
   "cell_type": "code",
   "execution_count": null,
   "metadata": {},
   "outputs": [],
   "source": [
    "%%writefile ./utils/graders/grader_QZ1_3.sh\n",
    "#!/usr/bin/python\n",
    "\n",
    "import sys\n",
    "sys.path.append(\"./utils/student_function/\")\n",
    "\n",
    "import student_QZ1_3 as st\n",
    "\n",
    "def multiplicacion_grade(a,b):\n",
    "    return a*b\n",
    "\n",
    "## Calificacion de la funcion del estudiante\n",
    "if st.multiplicacion(12, 24) == multiplicacion_grade(12, 24):\n",
    "    print \"Felicitaciones##5\"\n",
    "else:\n",
    "    print \"Vuelve a intentarlo##1.3\""
   ]
  },
  {
   "cell_type": "markdown",
   "metadata": {},
   "source": [
    "###INIT###"
   ]
  },
  {
   "cell_type": "markdown",
   "metadata": {},
   "source": [
    "### Ejercicio 4. Division"
   ]
  },
  {
   "cell_type": "code",
   "execution_count": null,
   "metadata": {
    "collapsed": true
   },
   "outputs": [],
   "source": [
    "%%writefile utils/student_function/student_QZ1_4.py\n",
    "def division(a,b):\n",
    "    divi = ...\n",
    "    return divi"
   ]
  },
  {
   "cell_type": "code",
   "execution_count": null,
   "metadata": {
    "collapsed": true
   },
   "outputs": [],
   "source": [
    "!./run CHECK_SOLUTION QZ1_4"
   ]
  },
  {
   "cell_type": "code",
   "execution_count": null,
   "metadata": {
    "collapsed": true
   },
   "outputs": [],
   "source": [
    "!./run SUBMIT_SOLUTION QZ1_4"
   ]
  },
  {
   "cell_type": "markdown",
   "metadata": {},
   "source": [
    "###END###"
   ]
  },
  {
   "cell_type": "markdown",
   "metadata": {},
   "source": [
    "#### Grader Ejercicio 4"
   ]
  },
  {
   "cell_type": "code",
   "execution_count": null,
   "metadata": {},
   "outputs": [],
   "source": [
    "%%writefile ./utils/graders/grader_QZ1_4.sh\n",
    "#!/usr/bin/python\n",
    "\n",
    "import sys\n",
    "sys.path.append(\"./utils/student_function/\")\n",
    "\n",
    "import student_QZ1_4 as st\n",
    "\n",
    "def division_grade(a,b):\n",
    "    return a/b\n",
    "\n",
    "## Calificacion de la funcion del estudiante\n",
    "if st.division(12, 24) == division_grade(12, 24):\n",
    "    print \"Felicitaciones##5\"\n",
    "else:\n",
    "    print \"Vuelve a intentarlo##1.3\""
   ]
  },
  {
   "cell_type": "markdown",
   "metadata": {},
   "source": [
    "###INIT###"
   ]
  },
  {
   "cell_type": "markdown",
   "metadata": {},
   "source": [
    "### Ejercicio 5. Animal por E."
   ]
  },
  {
   "cell_type": "markdown",
   "metadata": {},
   "source": [
    "El ejercicio consite en encontrar el nombre de un animal que empiece por E."
   ]
  },
  {
   "cell_type": "code",
   "execution_count": null,
   "metadata": {
    "collapsed": true
   },
   "outputs": [],
   "source": [
    "%%writefile utils/student_function/student_QZ1_5.py\n",
    "def animalE():\n",
    "    animal = ...\n",
    "    return animal"
   ]
  },
  {
   "cell_type": "code",
   "execution_count": null,
   "metadata": {
    "collapsed": true
   },
   "outputs": [],
   "source": [
    "!./run CHECK_SOLUTION QZ1_5"
   ]
  },
  {
   "cell_type": "code",
   "execution_count": null,
   "metadata": {
    "collapsed": true
   },
   "outputs": [],
   "source": [
    "!./run SUBMIT_SOLUTION QZ1_5"
   ]
  },
  {
   "cell_type": "markdown",
   "metadata": {},
   "source": [
    "###END###"
   ]
  },
  {
   "cell_type": "markdown",
   "metadata": {},
   "source": [
    "#### Grader Ejercicio 5"
   ]
  },
  {
   "cell_type": "code",
   "execution_count": null,
   "metadata": {},
   "outputs": [],
   "source": [
    "%%writefile ./utils/graders/grader_QZ1_5.sh\n",
    "#!/usr/bin/python\n",
    "\n",
    "import sys\n",
    "sys.path.append(\"./utils/student_function/\")\n",
    "\n",
    "import student_QZ1_5 as st\n",
    "\n",
    "def animale_grade():\n",
    "    return \"Elefante\"\n",
    "\n",
    "## Calificacion de la funcion del estudiante\n",
    "if st.animale() == animale_grade():\n",
    "    print \"Felicitaciones##5\"\n",
    "    \n",
    "else:\n",
    "    print \"Vuelve a intentarlo##1.3\""
   ]
  },
  {
   "cell_type": "markdown",
   "metadata": {},
   "source": [
    "###INIT###"
   ]
  },
  {
   "cell_type": "markdown",
   "metadata": {},
   "source": [
    "### Ejercicio 6. Tercera vocal"
   ]
  },
  {
   "cell_type": "markdown",
   "metadata": {},
   "source": [
    "Escribe la tercera voval del alfabeto"
   ]
  },
  {
   "cell_type": "code",
   "execution_count": null,
   "metadata": {
    "collapsed": true
   },
   "outputs": [],
   "source": [
    "%%writefile utils/student_function/student_QZ1_6.py\n",
    "def division():\n",
    "    tercera = ...\n",
    "    return tercera"
   ]
  },
  {
   "cell_type": "code",
   "execution_count": null,
   "metadata": {
    "collapsed": true
   },
   "outputs": [],
   "source": [
    "!./run CHECK_SOLUTION QZ1_6"
   ]
  },
  {
   "cell_type": "code",
   "execution_count": null,
   "metadata": {
    "collapsed": true
   },
   "outputs": [],
   "source": [
    "!./run SUBMIT_SOLUTION QZ1_6"
   ]
  },
  {
   "cell_type": "markdown",
   "metadata": {},
   "source": [
    "###END###"
   ]
  },
  {
   "cell_type": "markdown",
   "metadata": {},
   "source": [
    "#### Grader Ejercicio 6"
   ]
  },
  {
   "cell_type": "code",
   "execution_count": null,
   "metadata": {},
   "outputs": [],
   "source": [
    "%%writefile ./utils/graders/grader_QZ1_6.sh\n",
    "#!/usr/bin/python\n",
    "\n",
    "import sys\n",
    "sys.path.append(\"./utils/student_function/\")\n",
    "\n",
    "import student_QZ1_6 as st\n",
    "\n",
    "def vocal_grade():\n",
    "    return \"i\"\n",
    "\n",
    "## Calificacion de la funcion del estudiante\n",
    "if st.division() == vocal_grade():\n",
    "    print \"Felicitaciones##5\"\n",
    "else:\n",
    "    print \"Vuelve a intentarlo##1.3\""
   ]
  },
  {
   "cell_type": "markdown",
   "metadata": {},
   "source": [
    "<h2 style=\"color:#3F51B5\"> 4. ENCRIPTAR GRADERS </h2>"
   ]
  },
  {
   "cell_type": "markdown",
   "metadata": {},
   "source": [
    "La calificación de los ejercicios de cada `quiz` funciona de la misma manera que los de un `problemset`, así que también necesitan de graders, por ende, deben encriptarse."
   ]
  },
  {
   "cell_type": "code",
   "execution_count": null,
   "metadata": {},
   "outputs": [],
   "source": [
    "path = !ls ./utils/graders/ | grep .sh\n",
    "\n",
    "PATH = \"\"\n",
    "for PATH in path:\n",
    "    \n",
    "    archivo_encri = open(\"./utils/graders/\"+PATH[:-2]+\"grader\",\"w\")\n",
    "    data = !../../utils/crypt ./utils/graders/\"{PATH}\"\n",
    "    print \"Tamaño: \", len(data)\n",
    "    archivo_encri.write(data[0])\n",
    "    archivo_encri.close()\n",
    "\n",
    "    print \"Archivo Encriptado\"\n",
    "    \n",
    "!rm ./utils/graders/*.sh"
   ]
  },
  {
   "cell_type": "markdown",
   "metadata": {},
   "source": [
    "Comprueba que los archivos hayan quedado completamente encriptados.\n"
   ]
  },
  {
   "cell_type": "code",
   "execution_count": null,
   "metadata": {
    "collapsed": true
   },
   "outputs": [],
   "source": [
    "!../../utils/crypt ./utils/graders/grader_QZ1_5.grader"
   ]
  },
  {
   "cell_type": "markdown",
   "metadata": {},
   "source": [
    "<h2 style=\"color:#3F51B5\"> 5. QUIZ.IPYNB </h2>\n",
    "\n",
    "El notebook `quiz.ipynb` es el archivo donde el estudiante debera inciar sesion y donde se renderizarán los ejercicios"
   ]
  },
  {
   "cell_type": "markdown",
   "metadata": {},
   "source": [
    "<h2 style=\"color:#3F51B5\"> 6. GENERAR BANCO.PY </h2>"
   ]
  },
  {
   "cell_type": "markdown",
   "metadata": {
    "collapsed": true
   },
   "source": [
    "La siguiente línea ES para generar un archivo `banco.py` encriptado, donde estará el banco de ejercicios para el estudiante. Para esto guarde (`Save - Ctrl S`) el presente archivo antes de ejecutar las siguientes líneas.  "
   ]
  },
  {
   "cell_type": "code",
   "execution_count": 2,
   "metadata": {
    "collapsed": true
   },
   "outputs": [],
   "source": [
    "!./run GENERAR_BANCO_PY {SECTION_NAME}"
   ]
  },
  {
   "cell_type": "markdown",
   "metadata": {},
   "source": [
    "Una vez generado el archivo banco.py se recomienda remover el presente notebook (`instrucciones_quices_dinamicos.ipynb`) del paquete `Quiz_#` y luego renombrar dicho paquete *ej. Quiz_1*. Una vez removido el notebook del paquete y renombrado el paquete, este queda listo para su entrega a los estudiantes."
   ]
  }
 ],
 "metadata": {
  "kernelspec": {
   "display_name": "Python 2",
   "language": "python",
   "name": "python2"
  },
  "language_info": {
   "codemirror_mode": {
    "name": "ipython",
    "version": 2
   },
   "file_extension": ".py",
   "mimetype": "text/x-python",
   "name": "python",
   "nbconvert_exporter": "python",
   "pygments_lexer": "ipython2",
   "version": "2.7.14"
  }
 },
 "nbformat": 4,
 "nbformat_minor": 2
}
