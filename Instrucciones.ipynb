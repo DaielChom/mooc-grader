{
 "cells": [
  {
   "cell_type": "markdown",
   "metadata": {
    "collapsed": true
   },
   "source": [
    "# INSTRRUCCIONES\n",
    "\n",
    "La presente guia muestra la forma en que se debe realizar y configurar un proyecto en google, modificar archivos de configuracion y creacion de quices, para el buen funcionamiento del calificador de la presente maquina virtual y una buena gestion del curso al que se implementa la maquina. Cabe resaltar que los pasos deben realziarse como esta en la guia y cualquier omision generar al man funcionamineto de la misma, lo que conllevaria a reiniciar la guia. Si por alguna cuestion se falla en la cofiguracion vuelva a inicar la guia desde un archivo de instrucciones nuevo.\n",
    "\n",
    "## 1. Configuración inicial\n",
    "### 1.1 Parametros\n",
    "Para el funcionamiento de la maquina virtual deben de configurarse varios parametros. <br/>\n",
    "**Key: ** Parametro para encriptar los archivos, dado que el estudiante no debe tener acceso a los mismos. <br/>\n",
    "** nombre_curso: ** Nombre de la asignatura. <br/>\n",
    "** correo: ** Correo del profesor o del encargado de la administracion de la maquina virtual."
   ]
  },
  {
   "cell_type": "code",
   "execution_count": 4,
   "metadata": {
    "collapsed": true
   },
   "outputs": [],
   "source": [
    "key = \"{}\" # Ejemplo: \"{'A', 'M', 'B', 'N','O','F','E','A','S','T'}\" DEBEN SER 10 LETRAS\n",
    "nombre_curso = \"\" # Ejemplo: \"20161-AI\"\n",
    "correo = \"\" #Ejemplo: \"rlmooc@gmail.com\""
   ]
  },
  {
   "cell_type": "code",
   "execution_count": null,
   "metadata": {
    "collapsed": true
   },
   "outputs": [],
   "source": [
    "COUSERNAME = nombre_curso\n",
    "KEYC = key\n",
    "KEYPY = key.replace(\"{\", \"[\").replace(\"}\",\"]\")\n",
    "EMAIL = correo\n",
    "\n",
    "print \"Los parametros son:\"\n",
    "print COUSERNAME\n",
    "print KEYC\n",
    "print KEYPY\n",
    "print EMAIL"
   ]
  },
  {
   "cell_type": "markdown",
   "metadata": {},
   "source": [
    "### 1.2 Credenciales google\n",
    "Dado que el corrector usa varios de los servicios de google como lo es Drive, se debe crear un proyecto y obtener credenciales para el funcionamiento del mismo. Por favor seguir los siguientes pasos y llenar la informacion solicitada.\n",
    "1. Crear un nuevo proyecto en la [API](https://console.developers.google.com/projectcreate) de Google.\n",
    "2. Abrir la pestaña [`Credenciales`](https://console.developers.google.com/apis/credentials?) del proyecto creado\n",
    "3. Abrir la pestaña `Pantalla de concentimiento de OAuth`.\n",
    "4. Asignar un `Nombre de producto que se muestra a los usuarios` y guardar los cambios\n",
    "5. Crear una credencial de `ID de cliente de OAuth`, seleccionar `Otro` en el tipo de aplicacion y asignar un nombre al cliente de la API.\n",
    "6. Descargar el archivo JSON de la credencial de OAuth y copiar su contenido en la sigueinte celda. <br/>\n",
    "**NOTA: ** No borrar la primera linea de la celda."
   ]
  },
  {
   "cell_type": "code",
   "execution_count": 5,
   "metadata": {},
   "outputs": [
    {
     "name": "stdout",
     "output_type": "stream",
     "text": [
      "Writing utils/client_secrets1.json\n"
     ]
    }
   ],
   "source": [
    "%%writefile utils/client_secrets.json\n",
    "\n",
    "## CONTENT JSON ##"
   ]
  },
  {
   "cell_type": "markdown",
   "metadata": {},
   "source": [
    "7. Crear una nueva credencial, pero esta vez una `Claves de cuenta de servicio`, asignar un nombre y seleccionar la funcion Project/propietario.\n",
    "8. Se descargará un archivo `.json`, copiar el contenido en la siguiente celda. <br/>\n",
    "** Nota: ** js debe ser un diccionario."
   ]
  },
  {
   "cell_type": "code",
   "execution_count": null,
   "metadata": {
    "collapsed": true
   },
   "outputs": [],
   "source": [
    "js = ##CONTENT##"
   ]
  },
  {
   "cell_type": "code",
   "execution_count": null,
   "metadata": {
    "collapsed": true
   },
   "outputs": [],
   "source": [
    "JSONKEY = str(js)"
   ]
  },
  {
   "cell_type": "code",
   "execution_count": null,
   "metadata": {
    "collapsed": true
   },
   "outputs": [],
   "source": [
    "archivoUno = open(\"./utils/rlx.py\",\"r\")\n",
    "archivo = open(\"./utils/rlxmooc.py\",\"w\")\n",
    "data = \"\".join(archivoUno.readlines())\n",
    "archivo.write(data.replace(\"##JSONKEY##\",JSONKEY))\n",
    "archivo.close()\n",
    "archivoUno.close()"
   ]
  },
  {
   "cell_type": "code",
   "execution_count": null,
   "metadata": {
    "collapsed": true
   },
   "outputs": [],
   "source": [
    "!rm ./utils/rlx.py"
   ]
  },
  {
   "cell_type": "code",
   "execution_count": null,
   "metadata": {
    "collapsed": true
   },
   "outputs": [],
   "source": [
    "!sed -i \"s/##KEYC##/{KEYC}/g\" ./utils/crypt.c\n",
    "!sed -i \"s/##KEYC##/{KEYC}/g\" ./utils/runepy.c\n",
    "!sed -i \"s/##COUSERNAME##/{COUSERNAME}/g\" ./utils/rlxmooc.py\n",
    "!sed -i \"s/##EMAIL##/{EMAIL}/g\" ./utils/rlxmooc.py\n",
    "!sed -i \"s/##KEYPY##/{KEYPY}/g\" ./utils/rlxmooc.py"
   ]
  },
  {
   "cell_type": "markdown",
   "metadata": {},
   "source": [
    "### 1.3 Archivos Google Sheats\n",
    "El modelo de aula virtual que se esta usando requiere dos archivos shearts, uno para configuraciones como la fecha limite de los quices y otra para colocar las calificaciones de cada estudiante.\n",
    "\n",
    "* habilitar la API de Gooogle [Drive](https://console.developers.google.com/apis/library/drive.googleapis.com/)\n",
    "2. Crear una hoja de calulo, con nombre `Template`. que contenga dos paginas una con el nombre `submissions` y la otra `summary`. La pagina `submissions` debe tener las siguientes columnas.\n",
    "\n",
    "| SUBMISSION DATE | PROBLEM NUMBER |\tRESULT\t| REMARKS\t| CODE |\n",
    "|-----------------|----------------|------------|-----------|------|\n",
    "* Crear una hoja de calculo con nombre `RLXMOOC CONFIGS` y con el siguiente contenido:\n",
    "\n",
    "        > 20151-TESTCOURSE::PS1::harddeadline \t2016/01/24 22:20:15 [-0500]\n",
    "        > 20151-TESTCOURSE::PS1::softdeadline\t2016/01/23 21:10:15 [-0500]\n",
    "        >\n",
    "        >\n",
    "        > 20152-AI1::PS1::harddeadline   2016/01/23 16:59:15 [-0500]\n",
    "        > 20152-AI1::PS1::softdeadline   2016/01/23 16:59:15 [-0500]\n",
    "    \n",
    "4. Se debe compartir ambos archivos con la API. para esto obtenemos el correo de la API.<br/>\n",
    "    * Entrar a los [servicios](https://console.developers.google.com/iam-admin/serviceaccounts/)\n",
    "    * Seleccionar el projecto que se creo para la materia.\n",
    "    * copiamos el dato de la celda `ID de la cuenta de servicio` <br/>\n",
    "        **ej.** ax-24243@auxiliatura-184203.iam.gserviceaccount.com\n",
    "4. Es dato que se copio es el correo al que debemos compartirle los archivos que se crearon. Para `Template` se le dan permisos de `editar` y a `RLXMOOC CONFIGS` le damos permisos de `ver`\n",
    "2. De la hoja `template` obtener el \"Vinculo para compartir\" y le damos permisos de edicion a quien tenga el vinculo.\n",
    "4. de dicho vinculo, obtener la id del archivo.\n",
    "    ##### Ejemplo\n",
    "    drive.google.com/open?**id=1Pj75BnW3SoCuBhQuKgczp0bygj0qY0_kcRRMalnFaCo**<br/>\n",
    "    **ID** = 1Pj75BnW3SoCuBhQuKgczp0bygj0qY0_kcRRMalnFaCo"
   ]
  },
  {
   "cell_type": "code",
   "execution_count": null,
   "metadata": {
    "collapsed": true
   },
   "outputs": [],
   "source": [
    "ID = \"\" # Ejemplo: \"1Pj75BnW3SoCuBhQuKgczp0bygj0qY0_kcRRMalnFaCo\""
   ]
  },
  {
   "cell_type": "code",
   "execution_count": null,
   "metadata": {
    "collapsed": true
   },
   "outputs": [],
   "source": [
    "!sed -i \"s/##IDFILE##/{ID}/g\" ./utils/rlxmooc.py"
   ]
  },
  {
   "cell_type": "markdown",
   "metadata": {},
   "source": [
    "## 2.  Compilar y Emcriptar"
   ]
  },
  {
   "cell_type": "code",
   "execution_count": null,
   "metadata": {
    "collapsed": true
   },
   "outputs": [],
   "source": [
    "!./utils/compileall.sh"
   ]
  },
  {
   "cell_type": "code",
   "execution_count": null,
   "metadata": {
    "collapsed": true
   },
   "outputs": [],
   "source": [
    "!./utils/encrypt-all-python.sh"
   ]
  },
  {
   "cell_type": "markdown",
   "metadata": {},
   "source": [
    "# INSTRUCCIONES - ELABORACION DE QUICES"
   ]
  },
  {
   "cell_type": "markdown",
   "metadata": {},
   "source": [
    "Para la elaboracion de un quiz en formato notebook por favor tenga en cuenta las siguientes instrucciones. Si el quiz requiere de imagenes o datos, guardarlos en la carpeta imgs y data, respectivamente"
   ]
  },
  {
   "cell_type": "markdown",
   "metadata": {},
   "source": [
    "#### 1. Los notebooks deben llevar el sigueinte encabezado\n",
    "Este encabezado permite la autentificacion del estudiante, y pide los permisos necesarios para que el notebook pueda crear una hoja de calificaciones en el drive del estudainte.\n"
   ]
  },
  {
   "cell_type": "raw",
   "metadata": {
    "collapsed": true
   },
   "source": [
    "from mooclib import *\n",
    "import inspect, urllib\n",
    "html, auth_code, userinfo = google_authenticate(PORT_NUMBER=8111)\n",
    "html"
   ]
  },
  {
   "cell_type": "markdown",
   "metadata": {},
   "source": [
    "#### 2. Los notebook deben tener tareas."
   ]
  },
  {
   "cell_type": "markdown",
   "metadata": {},
   "source": [
    "Al ser notebook de quices, estos deben contar con una serie de preguntas, o ejercicos, para ser contestados por el estudiante. Se presenta un ejemplo donde el estudiante tiene que escribir el nombre del profesor."
   ]
  },
  {
   "cell_type": "raw",
   "metadata": {
    "collapsed": true
   },
   "source": [
    "# Funcion para el estudiante\n",
    "def adivina():\n",
    "    nombre_profesor = . . . \n",
    "    return nombre_profesor"
   ]
  },
  {
   "cell_type": "markdown",
   "metadata": {},
   "source": [
    "Las funciones del estudiante siempre deben llevar las sigueintes lineas, en la cual se debe mandar el nombre de la funcion como parametro del metodo getsource()"
   ]
  },
  {
   "cell_type": "raw",
   "metadata": {
    "collapsed": true
   },
   "source": [
    "import urllib, inspect\n",
    "src1 = urllib.quote_plus(inspect.getsource(adivina))"
   ]
  },
  {
   "cell_type": "markdown",
   "metadata": {},
   "source": [
    "De esta manera la funcion o tarea del estudiante queda de la siguiente manera"
   ]
  },
  {
   "cell_type": "code",
   "execution_count": null,
   "metadata": {
    "collapsed": true
   },
   "outputs": [],
   "source": [
    "def adivina():\n",
    "    nombre_profesor = . . . # Adivine el nombre del profesor\n",
    "    return nombre_profesor\n",
    "\n",
    "import urllib, inspect\n",
    "src1 = urllib.quote_plus(inspect.getsource(adivina))"
   ]
  },
  {
   "cell_type": "markdown",
   "metadata": {},
   "source": [
    "Dichos ejercicios deben contar con una funcion `grader` la cual es una funcion que contiene el ejercicio realizado correctamente y lo compara con el que realizo el estudiante"
   ]
  },
  {
   "cell_type": "code",
   "execution_count": null,
   "metadata": {
    "collapsed": true
   },
   "outputs": [],
   "source": [
    "# %%writefile utils/grader_QZ1_1.py\n",
    "\n",
    "# Grader funcion creada por el profesor, no se muestra al estudiante.\n",
    "def grade():\n",
    "    \n",
    "    # Funcion correcta\n",
    "    def adivina_respuesta():\n",
    "        return \"Daniel\"\n",
    "    \n",
    "    # Comprueba y se le notifica al estudiante el posible error\n",
    "    import numpy as np\n",
    "    \n",
    "    if adivina() != adivina_respuesta():\n",
    "        print(\"Intenta nuevamente\")\n",
    "        return False\n",
    "    \n",
    "    return True"
   ]
  },
  {
   "cell_type": "markdown",
   "metadata": {},
   "source": [
    "La funcion grader se guarda en un archivo **`.py`** con el nombre **`grader_QZ#_#`** donde los numeral representan el numeor de quiz y el ejerccio respectivamente. Poner la sigueinte linea como la primera linea de la celda permitira la creacion del archivo automaticamente.<br/> `%%writefile utils/grader_QZ#_#.py`\n",
    "<br/> **Nota: **Descomentar cuando el grade este listo y correr la celda, para generar el `.py`, cambiar los caracteres # por el respectivo numero de quiz y ejercicio."
   ]
  },
  {
   "cell_type": "markdown",
   "metadata": {},
   "source": [
    "#### 3.  Las funciones grade deben estar encryptadas para el estudiante."
   ]
  },
  {
   "cell_type": "markdown",
   "metadata": {},
   "source": [
    "Dado que se entrega una nota automaticamente al estudiante, el estudiante debe tener el grade. Para que no haya ningun tipo de fraude, las funciones grade deben estar encriptadas. Al estudiante tambien se el enviar un binario capaz de desencriptar los grade mientras se hacen las correcciones. <br/>\n",
    "**Nota: **El archivo encrypt encripta todos los archivos .py, y para que el check del quiz funcione debe haber un archivo encriptado."
   ]
  },
  {
   "cell_type": "code",
   "execution_count": null,
   "metadata": {
    "collapsed": true
   },
   "outputs": [],
   "source": [
    "!./utils/encrypt-all-python.sh"
   ]
  },
  {
   "cell_type": "markdown",
   "metadata": {
    "collapsed": true
   },
   "source": [
    "#### 4. El estudiante debe poder ejecutar el corrector.\n",
    "Para esto se agregan las dos casillas despues de cada ejercicio en el notebook del quiz.\n",
    "* Comprobar"
   ]
  },
  {
   "cell_type": "raw",
   "metadata": {
    "collapsed": true
   },
   "source": [
    "!./run CHECK_SOLUTION QZ#_# $src1"
   ]
  },
  {
   "cell_type": "markdown",
   "metadata": {},
   "source": [
    "* Enviar a calificar"
   ]
  },
  {
   "cell_type": "code",
   "execution_count": null,
   "metadata": {
    "collapsed": true
   },
   "outputs": [],
   "source": [
    "!./run SUBMIT_SOLUTION QZ#_# $src1"
   ]
  },
  {
   "cell_type": "markdown",
   "metadata": {},
   "source": [
    "#### 5. El notebook para el estudiante qedaria de la sigioente manera \n",
    "======================================="
   ]
  },
  {
   "cell_type": "markdown",
   "metadata": {},
   "source": [
    "# Quiz N1"
   ]
  },
  {
   "cell_type": "code",
   "execution_count": null,
   "metadata": {
    "collapsed": true
   },
   "outputs": [],
   "source": [
    "from mooclib import *\n",
    "import inspect, urllib\n",
    "html, auth_code, userinfo = google_authenticate(PORT_NUMBER=8111)\n",
    "html"
   ]
  },
  {
   "cell_type": "markdown",
   "metadata": {},
   "source": [
    "### Ejercicio N - 1:\n",
    "\n",
    "Consiste en adivinar el nombre del maestro."
   ]
  },
  {
   "cell_type": "code",
   "execution_count": null,
   "metadata": {
    "collapsed": true
   },
   "outputs": [],
   "source": [
    "def adivina():\n",
    "    nombre_profesor = \"Andres\" # Adivine el nombre del profesor\n",
    "    return nombre_profesor\n",
    "\n",
    "import urllib, inspect\n",
    "src1 = urllib.quote_plus(inspect.getsource(adivina))"
   ]
  },
  {
   "cell_type": "code",
   "execution_count": null,
   "metadata": {
    "collapsed": true
   },
   "outputs": [],
   "source": [
    "!./run CHECK_SOLUTION QZ1_1 $src1"
   ]
  },
  {
   "cell_type": "code",
   "execution_count": null,
   "metadata": {
    "collapsed": true
   },
   "outputs": [],
   "source": [
    "!./run SUBMIT_SOLUTION QZ1_1 $src1"
   ]
  },
  {
   "cell_type": "markdown",
   "metadata": {},
   "source": [
    "==============================================="
   ]
  },
  {
   "cell_type": "code",
   "execution_count": null,
   "metadata": {
    "collapsed": true
   },
   "outputs": [],
   "source": []
  }
 ],
 "metadata": {
  "kernelspec": {
   "display_name": "Python 2",
   "language": "python",
   "name": "python2"
  },
  "language_info": {
   "codemirror_mode": {
    "name": "ipython",
    "version": 2
   },
   "file_extension": ".py",
   "mimetype": "text/x-python",
   "name": "python",
   "nbconvert_exporter": "python",
   "pygments_lexer": "ipython2",
   "version": "2.7.13"
  }
 },
 "nbformat": 4,
 "nbformat_minor": 2
}
