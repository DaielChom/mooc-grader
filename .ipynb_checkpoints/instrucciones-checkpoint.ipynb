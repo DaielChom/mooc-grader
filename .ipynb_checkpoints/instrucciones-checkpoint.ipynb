{
 "cells": [
  {
   "cell_type": "markdown",
   "metadata": {},
   "source": [
    "<center>\n",
    "<h1 style=\"color:#00796B\"> MOOC GRADER - INSTRUCCIONES</h1>\n",
    "</center>\n",
    "\n",
    "Este Framework se encarga de gestionar las calificaciones obtenidas por los estudiantes en los ejercicios propuestos por el profesor. La presente guía muestra la forma en que se debe definir un curso para que el ´Framework´ (´mooc-grader´) funcione. También deben hacerse varias configuraciones con una cuenta de Google, ya que las notas se mostrarán en una hoja de cálculo de Drive. Cabe resaltar que los pasos de esta guía deben realizarse como se proponen y cualquier omisión o error en los mismos provocará que el Framework no funcione correctamente."
   ]
  },
  {
   "cell_type": "markdown",
   "metadata": {},
   "source": [
    "<h2 style=\"color:#00796B\"> 1. DEFINIR EL CURSO </h2>\n",
    "\n",
    "El curso debe estar compuesto por una serie de ejercicios, evaluaciones, trabajos, etc. Que los estudiantes deberán aprobar. Dichos trabajos deben estar bien definidos, deben tener un valor, una fecha límite, entre otros parámetros. El Framework define la estructura de un curso de la siguiente manera."
   ]
  },
  {
   "cell_type": "markdown",
   "metadata": {},
   "source": [
    "* **nombre-curso:** Nombre del curso. *Ej. Biologia2017*\n",
    "* **bloque:** Hace referencia al grupo de trabajos que tienen un valor directo sobre la nota final. *Ej. Parciales, Talleres.*\n",
    "* **Tamaño-bloque:** Porcentaje del bloque en la nota final. *Ej. 0.3 (30%), 0.7(70%).*\n",
    "* **Sección:** Cada una de las secciones de un bloque, es decir aquellas actividades que tienen un valor directo sobre cada bloque. *Ej. Taller 1, Parcial 1.*\n",
    "* **Ejercicios:** Cada uno de los ejercicios propuestos para cada Sección. *Ej. Ejercicio #3.*\n",
    "* **Fecha-limite:** Fecha límite para la entrega de cada sección *Ej. 2017/04/23 12:30:00 [-0500]* \n",
    "* **Penalización:** Penalización a la nota de la sección por sobre pasar la fecha límite. *Ej. 0,2.*\n",
    "* **Nota-máxima:** nota máxima que puede tomar cada sección. *Ej. 5.*"
   ]
  },
  {
   "cell_type": "markdown",
   "metadata": {
    "collapsed": true
   },
   "source": [
    "<h3 style=\"color:#00796B\">1.1 EJEMPLO DE UN CURSO  </h3>\n",
    "\n",
    "El Framework exige dichas definiciones como un diccionario, el cual ya tiene cierta estructura definida.  A continuación, un ejemplo."
   ]
  },
  {
   "cell_type": "markdown",
   "metadata": {
    "scrolled": true
   },
   "source": [
    "    course = {'name' : 2016AI,\n",
    "            'PROBLEM_SETS:{\n",
    "                      'weight:0.4,\n",
    "                      'defs:{\n",
    "                           'PS1':{'problems':['PS1_1', 'PS1_2', 'PS1_3', 'PS1_4'],\n",
    "                                  'deadlines':{'2017/09/18 00:00:00 [-0500]':{'penalty':0.5,'name':'finaldeadline'}},\n",
    "                                  'maxgrade': 5.0\n",
    "                                  },\n",
    "                           'PS2':{'problems':['PS2_1', 'PS2_2', 'PS2_3', 'PS2_4', 'PS2_5'],\n",
    "                                  'deadlines':{'2017/09/18 00:00:00 [-0500]':{'penalty':0.5,'name':'finaldeadline'}},\n",
    "                                  'maxgrade': 5.0\n",
    "                                  },\n",
    "                           'PS3':{'problems': ['PS3_1', 'PS3_2', 'PS3_3', 'PS3_4', 'PS3_5'],\n",
    "                                  'deadlines':{'2017/10/30 00:00:00 [-0500]':{'penalty':0.5,'name':'finaldeadline'}},\n",
    "                                  'maxgrade': 5.0\n",
    "                                  },\n",
    "                           'PS4':{'problems':['PS4_1', 'PS4_2', 'PS4_3'],\n",
    "                                  'deadlines':{'2017/10/30 00:00:00 [-0500]':{'penalty':0.5,'name':'finaldeadline'}},\n",
    "                                  'maxgrade': 5.0\n",
    "                                  },\n",
    "                           'PS5':{'problems':['PS5_1', 'PS5_2', 'PS5_3'],\n",
    "                                  'deadlines':{'2017/10/30 00:00:00 [-0500]':{'penalty':0.5,'name':'final deadline'}},\n",
    "                                  'maxgrade': 5.0\n",
    "                                  },\n",
    "                           'PS6':{'problems':  ['PS6_1', 'PS6_2', 'PS6_3'],\n",
    "                                  'deadlines':{'2017/12/04 00:00:00 [-0500]':{'penalty':0.5,'name':'finaldeadline'}},\n",
    "                                  'maxgrade': 5.0\n",
    "                                  },\n",
    "                           'PS7':{'problems':['PS7_1', 'PS7_2', 'PS7_3'],\n",
    "                                  'deadlines':{'2017/12/04 00:00:00 [-0500]':{'penalty': 0.5,'name':'finaldeadline'}},\n",
    "                                  'maxgrade': 5.0\n",
    "                                  },\n",
    "                           'PS8':{'problems':['PS8_1', 'PS8_2'],\n",
    "                                  'deadlines':{'2017/12/04 00:00:00 [-0500]':{'penalty':0.5,'name':'final deadline'}},\n",
    "                                  'maxgrade': 5.0\n",
    "                                  }\n",
    "                            }\n",
    "                          },\n",
    "            'QUIZES':{\n",
    "                      'weight': 0.3,\n",
    "                      'defs':{\n",
    "                           'QZ1':{'problems':  ['QZ1_1', 'QZ1_2', 'QZ1_3', 'QZ1_4'],\n",
    "                                  'deadlines':{'2017/09/20 16:00:00 [-0500]':{'penalty': 1.0,'name':'finaldeadline'}},\n",
    "                                  'maxgrade': 5.0\n",
    "                                  },\n",
    "                           'QZ2':{'problems':  ['QZ2_1', 'QZ2_2', 'QZ2_3', 'QZ2_4'],\n",
    "                                  'deadlines':{'2017/11/01 16:00:00 [-0500]':{'penalty':1.0,'name':'finaldeadline'}},\n",
    "                                  'maxgrade': 5.0\n",
    "                                  },            \n",
    "                           'QZ3':{'problems':  ['QZ3_1', 'QZ3_2', 'QZ3_3', 'QZ3_4'],\n",
    "                                  'deadlines':{'2017/12/06 16:00:00 [-0500]':{'penalty':1.0, 'name':'finaldeadline'}},\n",
    "                                  'maxgrade': 5.0\n",
    "                                  }\n",
    "                             }\n",
    "                          },\n",
    "            'MOOC':{\n",
    "                      'weight': 0.3,\n",
    "                      'defs': {\n",
    "                           'MOOC' :  {'problems':  ['MOOC_DIFFICULTY', 'MOOC_COMPLETION', 'MOOC_CLARITY'],\n",
    "                           'deadlines':{'2017/09/21 18:00:00 [-0500]': {'penalty':1.0, 'name':'finaldeadline'}},\n",
    "                           'maxgrade': 5.0\n",
    "                               }\n",
    "                    }\n",
    "             }\n",
    "       };"
   ]
  },
  {
   "cell_type": "markdown",
   "metadata": {},
   "source": [
    "El curso del ejemplo está definido de la siguiente manera:\n",
    "\n",
    "* Tiene por nombre: 2016AI\n",
    "* Cuenta con 3 bloques:  PROBLEMSETS, QUIZES, MOOC\n",
    "* El bloque PROBLEMSETS tiene un porcentaje sobre la nota final del 40%\n",
    "* Los bloques QUIZES y MOOC tienen un porcentaje sobre la nota final del 30%\n",
    "* El bloque PROBLEM_SETS cuenta con un total de 8 secciones. Cabe aclarar la relación del identificador del bloque (PROBLEM_SETS) con el identificador de cada sección (PS4). Para evitar inconvenientes se recomienda seguir esta relación en los cursos que se definan.\n",
    "* El bloque QUIZES cuenta con un total de 3 secciones.\n",
    "* El bloque MOOC cuenta con un total de 1 sección\n",
    "* Cada sección tiene definido sus ejercicios, fechas límite, penalización y nota máxima. Cabe resaltar la relación del identificador de la sección (PS2) con el identificador de cada ejercicio (PS2_1), el formato de la fecha límite y que solo debe haber dos fechas límite. Los nombres de las fechas límite deben ser softdeadline y harddeadline. Para evitar inconvenientes se recomienda seguir estas relaciones en los cursos que se definan.\n",
    "\n",
    "Como se mencionó la estructura del diccionario ya está definida, así que solamente se deben modificar los valores, a excepción de los nombres de las fechas límite. Si se modifican los ‘keys’, a excepción de la ID Seccion, se producirán errores en el funcionamiento del Framework."
   ]
  },
  {
   "cell_type": "markdown",
   "metadata": {
    "collapsed": true
   },
   "source": [
    "<h3 style=\"color:#00796B\"> 1.2. DEFINIR EL CURSO </h3>"
   ]
  },
  {
   "cell_type": "markdown",
   "metadata": {},
   "source": [
    "En la siguiente celda se debe definir el curso."
   ]
  },
  {
   "cell_type": "code",
   "execution_count": null,
   "metadata": {
    "collapsed": true
   },
   "outputs": [],
   "source": [
    "name_mooc = \"\" # Ejemplo: \"20161-AI\"\n",
    "COUSERNAME = name_mooc\n",
    "print \"Nombre del mooc: \" + COUSERNAME"
   ]
  },
  {
   "cell_type": "code",
   "execution_count": 3,
   "metadata": {
    "collapsed": true
   },
   "outputs": [],
   "source": [
    "course = {'name': COUSERNAME,\n",
    "          'course-block': {\n",
    "                    'weight': 1,\n",
    "                    'defs': {\n",
    "                            'ID seccion' :  {'problems':  [],\n",
    "                                          'deadlines': {'date': {'penalty': 1, 'name': 'harddeadline'}},\n",
    "                                          'maxgrade': 5.0}\n",
    "                                     }\n",
    "                          }\n",
    "         };"
   ]
  },
  {
   "cell_type": "code",
   "execution_count": null,
   "metadata": {
    "collapsed": true
   },
   "outputs": [],
   "source": [
    "course"
   ]
  },
  {
   "cell_type": "markdown",
   "metadata": {
    "collapsed": true
   },
   "source": [
    "<h2 style=\"color:#00796B\"> 2. CONFIGURAR FRAMEWORK  </h2>\n",
    "\n",
    "La calificación de cada ejercicio se genera en una hoja de cálculo compartida entre el estudiante y el profesor, también se crea una hoja de cálculo con la nota final de cada estudiante. Para esto y otras de las funciones del Framework se debe configurar algunos parámetros, así como también se debe crear un proyecto en la consola de desarrolladores de Google y habilitar la API de Google drive, entre otras configuraciones.\n",
    "\n",
    "<h3 style=\"color:#00796B\"> 2.1. PARAMETROS </h3>\n",
    "\n",
    "* **Key:** Llave para encriptar algunos archivos. Importante dado que el estudiante no debe tener acceso a archivos como los “graders”. En estos se encuentran las soluciones o verificaciones a los ejercicios propuestos.\n",
    "* **Correo:** Correo para crear y utilizar en la API de Google "
   ]
  },
  {
   "cell_type": "code",
   "execution_count": 5,
   "metadata": {
    "collapsed": true
   },
   "outputs": [],
   "source": [
    "key = \"\" # Ejemplo: \"{'A', 'M', 'B', 'N','O','F','E','A','S','T'}\" DEBEN SER 10 LETRAS\n",
    "correo = \"\" #Ejemplo: \"rlmooc@gmail.com\""
   ]
  },
  {
   "cell_type": "code",
   "execution_count": null,
   "metadata": {
    "collapsed": true
   },
   "outputs": [],
   "source": [
    "KEYC = key\n",
    "KEYPY = key.replace(\"{\", \"[\").replace(\"}\",\"]\")\n",
    "EMAIL = correo\n",
    "\n",
    "print \"Los parametros son:\"\n",
    "print COUSERNAME\n",
    "print KEYC\n",
    "print KEYPY\n",
    "print EMAIL"
   ]
  },
  {
   "cell_type": "markdown",
   "metadata": {},
   "source": [
    "<h3 style=\"color:#00796B\"> 2.2. PROYECTO DE GOOGLE - CREDENCIALES </h3>\n",
    "\n",
    "\n",
    "Se debe crear un proyecto en la consola de desarrollo de Google y obtener credenciales para el funcionamiento del Framework.\n",
    "\n",
    "* Crear un nuevo proyecto en la [API](https://console.developers.google.com/projectcreate) de Google.\n",
    "* Abrir la pestaña [`Credenciales`](https://console.developers.google.com/apis/credentials?) del proyecto creado\n",
    "* Abrir la pestaña `Pantalla de consentimiento de OAuth`.\n",
    "* Asignar un `Nombre de producto que se muestra a los usuarios` y guardar los cambios\n",
    "* Crear una credencial de `ID de cliente de OAuth`, seleccionar `Otro` en el tipo de aplicación y asignar un nombre al cliente de la API.\n",
    "* Descargar el archivo JSON de la credencial de OAuth y copiar su contenido en la siguiente celda. \n",
    "\n",
    "\n",
    "**NOTA**: No borrar la primera línea de la celda.\n",
    "\n"
   ]
  },
  {
   "cell_type": "code",
   "execution_count": null,
   "metadata": {
    "collapsed": true
   },
   "outputs": [],
   "source": [
    "%%writefile utils/client_secrets.json\n",
    "\n",
    "## CONTENT JSON ##"
   ]
  },
  {
   "cell_type": "markdown",
   "metadata": {},
   "source": [
    "* Crear una nueva credencial, pero esta vez una ´Claves de cuenta de servicio´, asignar un nombre y seleccionar la función Project/propietario.\n",
    "* Se descargará un archivo ´. json´, copiar el contenido en la siguiente celda. \n",
    "\n",
    "\n",
    "**Nota: ** la variable js de la celda debe ser un diccionario."
   ]
  },
  {
   "cell_type": "code",
   "execution_count": null,
   "metadata": {
    "collapsed": true
   },
   "outputs": [],
   "source": [
    "js = ##CONTENT##"
   ]
  },
  {
   "cell_type": "code",
   "execution_count": 8,
   "metadata": {
    "collapsed": true
   },
   "outputs": [],
   "source": [
    "JSONKEY = str(js)"
   ]
  },
  {
   "cell_type": "markdown",
   "metadata": {
    "collapsed": true
   },
   "source": [
    "<h3 style=\"color:#00796B\"> 2.3. CONFIGURAR FRAMEWORK CON LOS PARÁMETROS </h3>\n",
    "\n",
    "Ejecuta las siguientes celdas para que se configure el Framework con los parámetros dados anteriormente."
   ]
  },
  {
   "cell_type": "code",
   "execution_count": 12,
   "metadata": {
    "collapsed": true
   },
   "outputs": [],
   "source": [
    "archivoUno = open(\"./utils/init_mooc_grader.py\",\"r\")\n",
    "archivo = open(\"./utils/rlxmooc.py\",\"w\")\n",
    "data = \"\".join(archivoUno.readlines())\n",
    "data = data.replace(\"##JSONKEY##\",JSONKEY)\n",
    "data = data.replace(\"##COURSE##\",str(course))\n",
    "archivo.write( data )\n",
    "archivo.close()\n",
    "archivoUno.close()"
   ]
  },
  {
   "cell_type": "code",
   "execution_count": 13,
   "metadata": {
    "collapsed": true
   },
   "outputs": [],
   "source": [
    "!cp ./utils/init_crypt.c ./utils/crypt.c && sed -i \"s/##KEYC##/{KEYC}/g\" ./utils/crypt.c\n",
    "!cp ./utils/init_runepy.c  ./utils/runepy.c && sed -i \"s/##KEYC##/{KEYC}/g\"  ./utils/runepy.c\n",
    "!cp ./utils/init_copy-to-student.sh  ./utils/copy-to-student.sh && sed -i \"s/##COUSERNAME##/{COUSERNAME}/g\"  ./utils/copy-to-student.sh\n",
    "!sed -i \"s/##EMAIL##/{EMAIL}/g\" ./utils/rlxmooc.py\n",
    "!sed -i \"s/##KEYPY##/{KEYPY}/g\" ./utils/rlxmooc.py"
   ]
  },
  {
   "cell_type": "markdown",
   "metadata": {
    "collapsed": true
   },
   "source": [
    "**Nota:** Si sucede un error al añadir los parámetros, se debe revisar que estos se estén agregando de la manera correcta, si hubo un error de sintaxis con volver a definir los parámetros y ejecutar nuevamente la celda anterior basta."
   ]
  },
  {
   "cell_type": "markdown",
   "metadata": {},
   "source": [
    "<h3 style=\"color:#00796B\"> 2.4. ARCHIVOS DE GOOGLE </h3>\n",
    "\n",
    "* Habilitar la API de Google [Drive](https://console.developers.google.com/apis/library/drive.googleapis.com/)\n",
    "* Ejecutar la siguiente celda para crear una hoja de cálculo que contendrá las fechas límite y otras configuraciones."
   ]
  },
  {
   "cell_type": "code",
   "execution_count": null,
   "metadata": {
    "collapsed": true
   },
   "outputs": [],
   "source": [
    "!./run CREATE_MOOCGRADER"
   ]
  },
  {
   "cell_type": "markdown",
   "metadata": {},
   "source": [
    "<h3 style=\"color:#00796B\"> 2.5. COMPILAR Y ENCRIPTAR </h3>\n",
    "\n",
    "Varios de los archivos que se configuraron anteriormente deben ser compilados y encriptados."
   ]
  },
  {
   "cell_type": "code",
   "execution_count": 15,
   "metadata": {
    "collapsed": true
   },
   "outputs": [],
   "source": [
    "!./utils/compileall.sh"
   ]
  },
  {
   "cell_type": "code",
   "execution_count": null,
   "metadata": {
    "collapsed": true
   },
   "outputs": [],
   "source": [
    "!./utils/encrypt-all-python.sh"
   ]
  },
  {
   "cell_type": "markdown",
   "metadata": {},
   "source": [
    "<h2 style=\"color:#00796B\"> 3. ELABORACION DE UNA SECCION.  </h2>\n",
    "\n",
    "Se recomienda que se realice un notebook por cada sección, en el cual deben estar todos los ejercicios propuestos. Si la sección requiere de imágenes o datos, guardarlos en la carpeta imgs y data, respectivamente. Cada sección está compuesta por un encabezado y los distintos ejercicios.\n",
    "\n",
    "<h3 style=\"color:#00796B\">3.1. ENCABEZADO  </h3>\n",
    "\n",
    "Este encabezado permite la autentificación del estudiante con el Framework, pide los permisos necesarios para que se pueda crear la hoja de cálculo y llevar el registro de las notas."
   ]
  },
  {
   "cell_type": "markdown",
   "metadata": {
    "collapsed": true
   },
   "source": [
    "    from mooclib import *\n",
    "    import inspect, urllib\n",
    "    html, auth_code, userinfo = google_authenticate(PORT_NUMBER=8111)\n",
    "    html"
   ]
  },
  {
   "cell_type": "markdown",
   "metadata": {},
   "source": [
    "<h3 style=\"color:#00796B\"> 3.2. EJERCICIOS  </h3>\n",
    "\n",
    "La solución del estudiante debe ser una función, la cual pueda ser llamada por una función denominada ‘grader’ la cual se encargará de calificar la solución del estudiante."
   ]
  },
  {
   "cell_type": "markdown",
   "metadata": {
    "collapsed": true
   },
   "source": [
    "    # Funcion para el estudiante\n",
    "    def adivina():\n",
    "        nombre_profesor = . . . \n",
    "        return nombre_profesor"
   ]
  },
  {
   "cell_type": "markdown",
   "metadata": {},
   "source": [
    "Al final de la celda donde el estudiante soluciona el problema, siempre deben estar las siguientes líneas."
   ]
  },
  {
   "cell_type": "markdown",
   "metadata": {
    "collapsed": true
   },
   "source": [
    "    import urllib, inspect\n",
    "    src1 = urllib.quote_plus(inspect.getsource(adivina))"
   ]
  },
  {
   "cell_type": "markdown",
   "metadata": {},
   "source": [
    "De esta manera la función o tarea del estudiante queda así."
   ]
  },
  {
   "cell_type": "code",
   "execution_count": null,
   "metadata": {
    "collapsed": true
   },
   "outputs": [],
   "source": [
    "def adivina():\n",
    "    nombre_profesor = . . . # Adivine el nombre del profesor\n",
    "    return nombre_profesor\n",
    "\n",
    "import urllib, inspect\n",
    "src1 = urllib.quote_plus(inspect.getsource(adivina))"
   ]
  },
  {
   "cell_type": "markdown",
   "metadata": {},
   "source": [
    "<h4 style=\"color:#00796B\"> 3.2.1 FUNCION GRADER  </h4>\n",
    "\n",
    "Cabe resaltar que la función grader debe ser un archivo para que el Framework pueda usarla. Una vez este realizada se debe guardar con un nombre con el siguiente formato. ‘grader_PROBLEMSETID_#PROBLEM.py’ Ej. grader_QZ1_1.py. La primera línea de la siguiente celda se encarga de guardar la función grader en un archivo, cuando se termine el grader tan solo hay que descomentar está línea y poner el nombre del fichero según el formato dado."
   ]
  },
  {
   "cell_type": "code",
   "execution_count": null,
   "metadata": {
    "collapsed": true
   },
   "outputs": [],
   "source": [
    "#%%writefile utils/grader_QZ1_1.py\n",
    "\n",
    "# Grader funcion creada por el profesor, no se muestra al estudiante.\n",
    "def grade():\n",
    "    \n",
    "    grade = 5 # maxgrade definido en el curso para este ejercicio\n",
    "    \n",
    "    # Funcion correcta\n",
    "    def adivina_respuesta():\n",
    "        return \"Daniel\"\n",
    "    \n",
    "    # Comprueba y se le notifica al estudiante el posible error\n",
    "    import numpy as np\n",
    "    \n",
    "    if adivina() != adivina_respuesta():\n",
    "        print(\"Intenta nuevamente\")\n",
    "        grade = 0\n",
    "        return grade\n",
    "    \n",
    "    return grade"
   ]
  },
  {
   "cell_type": "markdown",
   "metadata": {},
   "source": [
    "** CUIDADO:** La función grader debe retornar un numero entre 0 y un valor máximo definido para el curso. de lo contrario existirán incongruencias en los cálculos de las notas de los estudiantes. "
   ]
  },
  {
   "cell_type": "markdown",
   "metadata": {},
   "source": [
    "<h3 style=\"color:#00796B\">3.3. ENCRIPTAR  </h3>\n",
    "\n",
    "Las funciones grader deben estar encriptadas dado que es necesario que el estudiante las tenga, pero no pueda ver su contenido."
   ]
  },
  {
   "cell_type": "code",
   "execution_count": null,
   "metadata": {
    "collapsed": true
   },
   "outputs": [],
   "source": [
    "!./utils/encrypt-all-python.sh"
   ]
  },
  {
   "cell_type": "markdown",
   "metadata": {
    "collapsed": true
   },
   "source": [
    "<h3 style=\"color:#00796B\">3.4. CALIFICADOR</h3>\n",
    "\n",
    "El estudiante puede probar su código. Para esto se agregan las dos siguientes casillas después de cada ejercicio.\n",
    "\n",
    "<h4 style=\"color:#00796B\">3.4.1 CHECK  </h4>\n",
    "\n",
    "Permite al estudiante comprobar su función antes de enviar la calificación a la hoja de cálculo."
   ]
  },
  {
   "cell_type": "markdown",
   "metadata": {
    "collapsed": true
   },
   "source": [
    "    !./run CHECK_SOLUTION {PROBLEMSETID}_# $src1"
   ]
  },
  {
   "cell_type": "markdown",
   "metadata": {},
   "source": [
    "<h4 style=\"color:#00796B\"> 3.4.2 SUBMIT  </h4>\n",
    "\n",
    "Envía la calificación del estudiante a la hoja de cálculo."
   ]
  },
  {
   "cell_type": "markdown",
   "metadata": {
    "collapsed": true
   },
   "source": [
    "    !./run SUBMIT_SOLUTION {PROBLEMSETID}_# $src1"
   ]
  },
  {
   "cell_type": "markdown",
   "metadata": {},
   "source": [
    "<h3 style=\"color:#00796B\"> 3.5. EJEMPLO</h3>"
   ]
  },
  {
   "cell_type": "markdown",
   "metadata": {
    "collapsed": true
   },
   "source": [
    "Se puede encontrar un ejemplo de una sección en el siguiente [archivo](./Template_Section.ipynb)"
   ]
  },
  {
   "cell_type": "markdown",
   "metadata": {
    "collapsed": true
   },
   "source": [
    "<h2 style=\"color:#00796B\"> 4. EXPORTAR CURSO PARA EL ESTUDIANTE  </h2>\n",
    "\n",
    "El estudiante debe tener las notas de clase, Las secciones y algunos de los archivos encriptados, pero hay otros archivos que no necesita, como la presente guía. Con la siguiente celda se genera automáticamente el set para el estudiante."
   ]
  },
  {
   "cell_type": "code",
   "execution_count": null,
   "metadata": {
    "collapsed": true
   },
   "outputs": [],
   "source": [
    "!./utils/copy-to-student.sh"
   ]
  },
  {
   "cell_type": "markdown",
   "metadata": {
    "collapsed": true
   },
   "source": [
    "<h2 style=\"color:#00796B\"> 5. FIX SHARING  </h2>\n",
    "\n",
    "Por alguna razón que aún no se comprende muy bien, a veces al estudiante no se le comparte la hoja de cálculo, así que si se presenta esa situación se deben ejecutar las siguientes líneas."
   ]
  },
  {
   "cell_type": "code",
   "execution_count": null,
   "metadata": {
    "collapsed": true
   },
   "outputs": [],
   "source": [
    "%run -i ./utils/rlxmooc.py\n",
    "get_course_sheets()"
   ]
  },
  {
   "cell_type": "code",
   "execution_count": null,
   "metadata": {
    "collapsed": true
   },
   "outputs": [],
   "source": [
    "fix_sharing()"
   ]
  },
  {
   "cell_type": "markdown",
   "metadata": {},
   "source": [
    "<h2 style=\"color:#00796B\"> 6. GENERAR NOTAS FINALES  </h2>\n",
    "\n",
    "Una vez terminado el periodo académico se requiere tener las notas finales de cada estudiante, para ello se deben ejecutar las siguientes celdas y esto creará una hoja de cálculo con esta información."
   ]
  },
  {
   "cell_type": "code",
   "execution_count": 164,
   "metadata": {
    "collapsed": true
   },
   "outputs": [],
   "source": [
    "%run -i ./utils/rlxmooc.py"
   ]
  },
  {
   "cell_type": "markdown",
   "metadata": {
    "collapsed": true
   },
   "source": [
    "<h3 style=\"color:#00796B\"> 6.1. ESTUDIANTES</h3>\n",
    "\n",
    "Se puede conocer las hojas de cálculo de cada estudiante"
   ]
  },
  {
   "cell_type": "code",
   "execution_count": null,
   "metadata": {
    "collapsed": true
   },
   "outputs": [],
   "source": [
    "sheets = get_course_sheets()\n",
    "print sheets"
   ]
  },
  {
   "cell_type": "code",
   "execution_count": null,
   "metadata": {
    "collapsed": true
   },
   "outputs": [],
   "source": [
    "\"Cantidad de Estudiantes: \"+str(len(sheets))"
   ]
  },
  {
   "cell_type": "markdown",
   "metadata": {},
   "source": [
    "<h3 style=\"color:#00796B\"> 6.2 CALIFICAR ESTUDIANTE </h3>\n",
    "\n",
    "En la hoja de cálculo de cada estudiante están registradas las calificaciones de cada ejercicio, accediendo a estos archivos se puede calcular la nota final del estudiante, también se tienen en cuenta las fechas limites establecidas."
   ]
  },
  {
   "cell_type": "code",
   "execution_count": 167,
   "metadata": {
    "collapsed": true
   },
   "outputs": [],
   "source": [
    "ESTUDENT = \"\" # Ejemplo COURSERNAME-gemsda@gmail.com"
   ]
  },
  {
   "cell_type": "code",
   "execution_count": null,
   "metadata": {
    "collapsed": true
   },
   "outputs": [],
   "source": [
    "%run -i ./utils/rlxmooc.py\n",
    "g = compute_grades(ESTUDENT )"
   ]
  },
  {
   "cell_type": "code",
   "execution_count": null,
   "metadata": {
    "collapsed": true
   },
   "outputs": [],
   "source": [
    "g"
   ]
  },
  {
   "cell_type": "markdown",
   "metadata": {},
   "source": [
    "<h3 style=\"color:#00796B\"> 6.3. CALIFICAR A TODOS LOS ESTUDIANTE </h3>\n",
    "\n",
    "Al final del proceso se crea una hoja de cálculo llamada COURSERNAME-grades en la cual están las notas finales de cada estudiante."
   ]
  },
  {
   "cell_type": "code",
   "execution_count": null,
   "metadata": {
    "collapsed": true
   },
   "outputs": [],
   "source": [
    "%run -i ./utils/rlxmooc.py\n",
    "class_grades = compute_all_grades()\n",
    "save_class_grades(class_grades)"
   ]
  },
  {
   "cell_type": "code",
   "execution_count": null,
   "metadata": {
    "collapsed": true
   },
   "outputs": [],
   "source": [
    "class_grades"
   ]
  }
 ],
 "metadata": {
  "kernelspec": {
   "display_name": "Python 2",
   "language": "python",
   "name": "python2"
  },
  "language_info": {
   "codemirror_mode": {
    "name": "ipython",
    "version": 2
   },
   "file_extension": ".py",
   "mimetype": "text/x-python",
   "name": "python",
   "nbconvert_exporter": "python",
   "pygments_lexer": "ipython2",
   "version": "2.7.13"
  }
 },
 "nbformat": 4,
 "nbformat_minor": 2
}
