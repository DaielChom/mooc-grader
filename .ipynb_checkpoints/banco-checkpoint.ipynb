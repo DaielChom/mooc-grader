{
 "cells": [
  {
   "cell_type": "markdown",
   "metadata": {},
   "source": [
    "<h2 style=\"color:#00796B\"> PARAMETROS </h2>\n",
    "# los registra en el rlxmooc manger drogo y donde mas sea necesario para que no se dañe nada\n",
    "'problems':  4\n",
    "'deadlines':{'2017/09/20 16:00:00 [-0500]'\n",
    "penalty': 1.0,\n",
    "name':'finaldeadline'}},\n",
    "'maxgrade': 5.0\n",
    "         \n",
    "         \n",
    "         'QZ1':{'problems':  ['QZ1_1', 'QZ1_2', 'QZ1_3', 'QZ1_4'],\n",
    "                                  'deadlines':{'2017/09/20 16:00:00 [-0500]':{'penalty': 1.0,'name':'finaldeadline'}},\n",
    "                                  'maxgrade': 5.0\n",
    "                                  },"
   ]
  },
  {
   "cell_type": "markdown",
   "metadata": {},
   "source": [
    "###INIT###"
   ]
  },
  {
   "cell_type": "markdown",
   "metadata": {},
   "source": [
    "### Ejercicio 1. Suma"
   ]
  },
  {
   "cell_type": "markdown",
   "metadata": {},
   "source": [
    "Completa la siguiente funcion para que retorne la suma de los dos parametros que le llegan."
   ]
  },
  {
   "cell_type": "code",
   "execution_count": 6,
   "metadata": {
    "collapsed": true
   },
   "outputs": [],
   "source": [
    "%%writefile utils/student_function/student_QZ1_1.py\n",
    "def suma(a,b):\n",
    "    suma = ...\n",
    "    return suma"
   ]
  },
  {
   "cell_type": "code",
   "execution_count": null,
   "metadata": {
    "collapsed": true
   },
   "outputs": [],
   "source": [
    "!./run CHECK_SOLUTION QZ1_1"
   ]
  },
  {
   "cell_type": "code",
   "execution_count": null,
   "metadata": {
    "collapsed": true
   },
   "outputs": [],
   "source": [
    "!./run SUBMIT_SOLUTION QZ1_1"
   ]
  },
  {
   "cell_type": "markdown",
   "metadata": {},
   "source": [
    "###END###"
   ]
  },
  {
   "cell_type": "code",
   "execution_count": 6,
   "metadata": {},
   "outputs": [
    {
     "name": "stdout",
     "output_type": "stream",
     "text": [
      "Entre una celda FIN y una INICIO el profesor puede probar codigo y ese no será renderizado.\n",
      "Se podrian incluso crear los granders aqui mismo en el banco, pues el archivo banco estará encriptado\n"
     ]
    }
   ],
   "source": [
    "print \"Entre una celda FIN y una INICIO el profesor puede probar codigo y ese no será renderizado.\"\n",
    "print \"Se podrian incluso crear los granders aqui mismo en el banco, pues el archivo banco estará encriptado\""
   ]
  },
  {
   "cell_type": "markdown",
   "metadata": {},
   "source": [
    "#### Grader Ejercicio 1"
   ]
  },
  {
   "cell_type": "code",
   "execution_count": 4,
   "metadata": {},
   "outputs": [
    {
     "name": "stdout",
     "output_type": "stream",
     "text": [
      "Overwriting ./utils/graders/grader_QZ1_1.sh\n"
     ]
    }
   ],
   "source": [
    "%%writefile ./utils/graders/grader_QZ1_1.sh\n",
    "#!/usr/bin/python\n",
    "\n",
    "import sys\n",
    "sys.path.append(\"./utils/student_function/\")\n",
    "\n",
    "import student_QZ1_1 as st\n",
    "\n",
    "def suma_grade(a,b):\n",
    "  return a+b\n",
    "## Calificacion de la funcion del estudiante\n",
    "if st.suma(12+24) == suma_grade(12+24):\n",
    "    print \"Felicitaciones##5\"\n",
    "else:\n",
    "    print \"Vuelve a intentarlo##1.3\""
   ]
  },
  {
   "cell_type": "markdown",
   "metadata": {},
   "source": [
    "# encriptar grader y eliminar"
   ]
  },
  {
   "cell_type": "markdown",
   "metadata": {
    "collapsed": true
   },
   "source": [
    "###INIT###"
   ]
  },
  {
   "cell_type": "markdown",
   "metadata": {},
   "source": [
    "### Ejercicio 2. Resta"
   ]
  },
  {
   "cell_type": "markdown",
   "metadata": {},
   "source": [
    "Completa la siguiente funcion para que retorne la resta de los dos parametros que le llegan."
   ]
  },
  {
   "cell_type": "code",
   "execution_count": null,
   "metadata": {
    "collapsed": true
   },
   "outputs": [],
   "source": [
    "%%writefile utils/student_function/student_QZ1_2.py\n",
    "def resta(a,b):\n",
    "    resta = ...\n",
    "    return resta"
   ]
  },
  {
   "cell_type": "code",
   "execution_count": null,
   "metadata": {
    "collapsed": true
   },
   "outputs": [],
   "source": [
    "!./run CHECK_SOLUTION QZ1_2"
   ]
  },
  {
   "cell_type": "code",
   "execution_count": null,
   "metadata": {
    "collapsed": true
   },
   "outputs": [],
   "source": [
    "!./run SUBMIT_SOLUTION QZ1_2"
   ]
  },
  {
   "cell_type": "markdown",
   "metadata": {},
   "source": [
    "###END###"
   ]
  },
  {
   "cell_type": "markdown",
   "metadata": {},
   "source": [
    "#### Grader Ejercicio 2"
   ]
  },
  {
   "cell_type": "code",
   "execution_count": null,
   "metadata": {
    "collapsed": true
   },
   "outputs": [],
   "source": [
    "%%writefile ./utils/graders/grader_QZ1_2.sh\n",
    "#!/usr/bin/python\n",
    "\n",
    "import sys\n",
    "sys.path.append(\"./utils/student_function/\")\n",
    "\n",
    "import student_QZ1_2 as st\n",
    "\n",
    "def resta_grade(a,b):\n",
    "  return a-b\n",
    "## Calificacion de la funcion del estudiante\n",
    "if st.resta(12+24) == resta_grade(12+24):\n",
    "    print \"Felicitaciones##5\"\n",
    "else:\n",
    "    print \"Vuelve a intentarlo##1.3\""
   ]
  },
  {
   "cell_type": "markdown",
   "metadata": {
    "collapsed": true
   },
   "source": [
    "# encriptar grader  y eliminar"
   ]
  },
  {
   "cell_type": "markdown",
   "metadata": {},
   "source": [
    "###INIT###"
   ]
  },
  {
   "cell_type": "markdown",
   "metadata": {},
   "source": [
    "### Ejercicio 3. Multiplicación"
   ]
  },
  {
   "cell_type": "code",
   "execution_count": null,
   "metadata": {
    "collapsed": true
   },
   "outputs": [],
   "source": []
  },
  {
   "cell_type": "markdown",
   "metadata": {},
   "source": [
    "###END###"
   ]
  },
  {
   "cell_type": "markdown",
   "metadata": {},
   "source": [
    "#### Grader Ejercicio 3"
   ]
  },
  {
   "cell_type": "markdown",
   "metadata": {},
   "source": [
    "###INIT###"
   ]
  },
  {
   "cell_type": "markdown",
   "metadata": {},
   "source": [
    "### Ejercicio 4. Division"
   ]
  },
  {
   "cell_type": "code",
   "execution_count": null,
   "metadata": {
    "collapsed": true
   },
   "outputs": [],
   "source": []
  },
  {
   "cell_type": "markdown",
   "metadata": {},
   "source": [
    "###END###"
   ]
  },
  {
   "cell_type": "markdown",
   "metadata": {},
   "source": [
    "#### Grader Ejercicio 4"
   ]
  },
  {
   "cell_type": "markdown",
   "metadata": {},
   "source": [
    "<h2 style=\"color:#00796B\"> INSTRUCCIONES </h2>"
   ]
  },
  {
   "cell_type": "markdown",
   "metadata": {
    "collapsed": true
   },
   "source": [
    "Las siguientes lineas son para generar un archivo `banco.py` encriptado, donde estara el banco de ejercicios para el estudiante. Para esto guarde `(Save - Ctrl S)` el presente archivo antes de ejecutar las siguientes lineas. "
   ]
  },
  {
   "cell_type": "code",
   "execution_count": 7,
   "metadata": {
    "collapsed": true
   },
   "outputs": [],
   "source": [
    "!./run GENERAR_BANCO_PY"
   ]
  },
  {
   "cell_type": "markdown",
   "metadata": {},
   "source": [
    "Una vez generado el archivo `banco.py` se recomienda remover el presente notebook `(banco.ipynb)` del paquete `Quiz_#` y luego renombrar dicho paquete ej. `Quiz_1`. Una vez remobido el notebook del banco y  renombrado el paquete, este queda listo para su entrega a los estudiantes."
   ]
  }
 ],
 "metadata": {
  "kernelspec": {
   "display_name": "Python 2",
   "language": "python",
   "name": "python2"
  },
  "language_info": {
   "codemirror_mode": {
    "name": "ipython",
    "version": 2
   },
   "file_extension": ".py",
   "mimetype": "text/x-python",
   "name": "python",
   "nbconvert_exporter": "python",
   "pygments_lexer": "ipython2",
   "version": "2.7.13"
  }
 },
 "nbformat": 4,
 "nbformat_minor": 2
}
