{
 "cells": [
  {
   "cell_type": "code",
   "execution_count": 19,
   "metadata": {},
   "outputs": [
    {
     "name": "stdout",
     "output_type": "stream",
     "text": [
      "CLICK ON THIS LINK TO AUTHENTICATE WITH YOUR GMAIL ACCOUNT\n",
      "https://accounts.google.com/o/oauth2/auth?scope=profile+email&redirect_uri=http%3A%2F%2Flocalhost%3A8111&response_type=code&client_id=290656168901-nqtt75qvf2qpski4n6eb99oaj4sg2j2f.apps.googleusercontent.com&access_type=offline\n",
      "waiting for authentication ...\n",
      "authentication succeeded\n"
     ]
    },
    {
     "data": {
      "text/html": [
       "<table><tr><td><img src='https://lh5.googleusercontent.com/-3BVLFJNc7XA/AAAAAAAAAAI/AAAAAAAANSs/DHzP4vmq0f8/photo.jpg' width=60 height=60/></td><td>danielcarvajalpatino@gmail.com<br/>Daniel Carvajal Patiño<br/>google id: 111322277185255579462<br/>authorization code: 4/AADB7ieZ6r30Fd8hN_Im0lvLiHgwdMi8aYUxfQ5KZUlIRjYYhmnIXtCJA3rH884AFkvyFPeiYnYhewno03lvW9U</td></tr></table>"
      ],
      "text/plain": [
       "<IPython.core.display.HTML object>"
      ]
     },
     "execution_count": 19,
     "metadata": {},
     "output_type": "execute_result"
    }
   ],
   "source": [
    "from mooclib import *\n",
    "import render_cell\n",
    "import inspect, urllib\n",
    "html, auth_code, userinfo = google_authenticate(PORT_NUMBER=8111)\n",
    "html"
   ]
  },
  {
   "cell_type": "code",
   "execution_count": 20,
   "metadata": {},
   "outputs": [
    {
     "name": "stdout",
     "output_type": "stream",
     "text": [
      "Traceback (most recent call last):\n",
      "  File \"<stdin>\", line 534, in <module>\n",
      "  File \"<stdin>\", line 475, in render_quiz\n",
      "  File \"<stdin>\", line 444, in read_banco\n",
      "  File \"banco.py\", line 1\n",
      "    quices = [[{u'source': [u'### Ejercicio 1. Suma'], u'cell_type': u'markdown', u'metadata': {}}, {u'source': [u'Completa la siguiente funcion para que retorne la suma de los dos parametros que le llegan.'], u'cell_type': u'markdown', u'metadata': {}}, {u'execution_count': 6, u'cell_type': u'code', u'source': [u'%%writefile utils/student_function/student_QZ1_1.py\\n', u'def suma(a,b):\\n', u'    suma = ...\\n', u'    return suma'], u'outputs': [], u'metadata': {u'collapsed': True}}, {u'execution_count': None, u'cell_type': u'code', u'source': [u'!./run CHECK_SOLUTION QZ1_1'], u'outputs': [], u'metadata': {u'collapsed': True}}, {u'execution_count': None, u'cell_type': u'code', u'source': [u'!./run SUBMIT_SOLUTION QZ1_1'], u'outputs': [], u'metadata': {u'collapsed': True}}], [{u'source': [u'### Ejercicio 2. Resta'], u'cell_type': u'markdown', u'metadata': {}}, {u'source': [u'Completa la siguiente funcion para que retorne la resta de los dos parametros que le llegan.'], u'cell_type': u'markdown', u'metadata': {}}, {u'execution_count': None, u'cell_type': u'code', u'source': [u'%%writefile utils/student_function/student_QZ1_2.py\\n', u'def resta(a,b):\\n', u'    resta = ...\\n', u'    return resta'], u'outputs': [], u'metadata': {u'collapsed': True}}, {u'execution_count': None, u'cell_type': u'code', u'source': [u'!./run CHECK_SOLUTION QZ1_2'], u'outputs': [], u'metadata': {u'collapsed': True}}, {u'execution_count': None, u'cell_type': u'code', u'source': [u'!./run SUBMIT_SOLUTION QZ1_2'], u'outputs': [], u'metadata': {u'collapsed': True}}], [{u'source': [u'### Ejercicio 3. Multiplicaci\\xf3n'], u'cell_type': u'markdown', u'metadata': {}}, {u'execution_count': None, u'cell_type': u'code', u'source': [u'%%writefile utils/student_function/student_QZ1_3.py\\n', u'def multiplicacion(a,b):\\n', u'    mult = ...\\n', u'    return mult'], u'outputs': [], u'metadata': {u'collapsed': True}}, {u'execution_count': None, u'cell_type': u'code', u'source': [u'!./run CHECK_SOLUTION QZ1_3'], u'outputs': [], u'metadata': {u'collapsed': True}}, {u'execution_count': None, u'cell_type': u'code', u'source': [u'!./run SUBMIT_SOLUTION QZ1_3'], u'outputs': [], u'metadata': {u'collapsed': True}}], [{u'source': [u'### Ejercicio 4. Division'], u'cell_type': u'markdown', u'metadata': {}}, {u'execution_count': None, u'cell_type': u'code', u'source': [u'%%writefile utils/student_function/student_QZ1_4.py\\n', u'def division(a,b):\\n', u'    divi = ...\\n', u'    return divi'], u'outputs': [], u'metadata': {u'collapsed': True}}, {u'execution_count': None, u'cell_type': u'code', u'source': [u'!./run CHECK_SOLUTION QZ1_4'], u'outputs': [], u'metadata': {u'collapsed': True}}, {u'execution_count': None, u'cell_type': u'code', u'source': [u'!./run SUBMIT_SOLUTION QZ1_4'], u'outputs': [], u'metadata': {u'collapsed': True}}], [{u'source': [u'### Ejercicio 5. Animal por E.'], u'cell_type': u'markdown', u'metadata': {}}, {u'source': [u'El ejercicio consite en encontrar el nombre de un animal que empiece por E.'], u'cell_type': u'markdown', u'metadata': {}}, {u'execution_count': None, u'cell_type': u'code', u'source': [u'%%writefile utils/student_function/student_QZ1_5.py\\n', u'def animalE():\\n', u'    animal = ...\\n', u'    return animal'], u'outputs': [], u'metadata': {u'collapsed': True}}, {u'execution_count': None, u'cell_type': u'code', u'source': [u'!./run CHECK_SOLUTION QZ1_5'], u'outputs': [], u'metadata': {u'collapsed': True}}, {u'execution_count': None, u'cell_type': u'code', u'source': [u'!./run SUBMIT_SOLUTION QZ1_5'], u'outputs': [], u'metadata': {u'collapsed': True}}], [{u'source': [u'### Ejercicio 6. Tercera vocal'], u'cell_type': u'markdown', u'metadata': {}}, {u'source': [u'Escribe la tercera voval del alfabeto'], u'cell_type': u'markdown', u'metadata': {}}, {u'execution_count': None, u'cell_type': u'code', u'source': [u'%%writefile utils/student_function/student_QZ1_6.py\\n', u'def division():\\n', u'    tercera = ...\\n', u'    return tercera'], u'outputs': [], u'metadata': {u'collapsed': True}}, {u'execution_count': None, u'cell_type': u'code', u'source': [u'!./run CHECK_SOLUTION QZ1_6'], u'outputs': [], u'metadata': {u'collapsed': True}}, {u'execution_count': None, u'cell_type': u'code', u'source': [u'!./run SUBMIT_SOLUTION QZ1_6'], u'outputs': [], u'metadata': {u'collapsed': True}}]]pid = QZ1\n",
      "                                                                                                                                                                                                                                                                                                                                                                                                                                                                                                                                                                                                                                                                                                                                                                                                                                                                                                                                                                                                                                                                                                                                                                                                                                                                                                                                                                                                                                                                                                                                                                                                                                                                                                                                                                                                                                                                                                                                                                                                                                                                                                                                                                                                                                                                                                                                                                                                                                                                                                                                                                                                                                                                                                                                                                                                                                                                                                                                                                                                                                                                                                                                                                                                                                                                                                                                                                                                                                                                                                                                                                                                                                                                                                                                                                                                                                                                                                                                                                                                                                                                                                                                                                                                                                                                                                                                                                                                                                                                                                         ^\n",
      "SyntaxError: invalid syntax\n"
     ]
    },
    {
     "name": "stdout",
     "output_type": "stream",
     "text": [
      "call error\r\n"
     ]
    },
    {
     "data": {
      "application/javascript": [
       "\n",
       "      var mark = IPython.notebook.insert_cell_above('markdown')\n",
       "      mark.set_text(\"### Ejercicio 1. Suma\")\n",
       "    "
      ],
      "text/plain": [
       "<IPython.core.display.Javascript object>"
      ]
     },
     "metadata": {},
     "output_type": "display_data"
    },
    {
     "data": {
      "application/javascript": [
       "\n",
       "      var mark = IPython.notebook.insert_cell_above('markdown')\n",
       "      mark.set_text(\"Completa la siguiente funcion para que retorne la suma de los dos parametros que le llegan.\")\n",
       "    "
      ],
      "text/plain": [
       "<IPython.core.display.Javascript object>"
      ]
     },
     "metadata": {},
     "output_type": "display_data"
    },
    {
     "data": {
      "application/javascript": [
       "\n",
       "    var code = IPython.notebook.insert_cell_above('code')\n",
       "    code.set_text(atob(\"JSV3cml0ZWZpbGUgdXRpbHMvc3R1ZGVudF9mdW5jdGlvbi9zdHVkZW50X1FaMV8xLnB5CmRlZiBzdW1hKGEsYik6CiAgICBzdW1hID0gLi4uCiAgICByZXR1cm4gc3VtYQ==\"))\n",
       "    "
      ],
      "text/plain": [
       "<IPython.core.display.Javascript object>"
      ]
     },
     "metadata": {},
     "output_type": "display_data"
    },
    {
     "data": {
      "application/javascript": [
       "\n",
       "    var code = IPython.notebook.insert_cell_above('code')\n",
       "    code.set_text(atob(\"IS4vcnVuIENIRUNLX1NPTFVUSU9OIFFaMV8x\"))\n",
       "    "
      ],
      "text/plain": [
       "<IPython.core.display.Javascript object>"
      ]
     },
     "metadata": {},
     "output_type": "display_data"
    },
    {
     "data": {
      "application/javascript": [
       "\n",
       "    var code = IPython.notebook.insert_cell_above('code')\n",
       "    code.set_text(atob(\"IS4vcnVuIFNVQk1JVF9TT0xVVElPTiBRWjFfMQ==\"))\n",
       "    "
      ],
      "text/plain": [
       "<IPython.core.display.Javascript object>"
      ]
     },
     "metadata": {},
     "output_type": "display_data"
    },
    {
     "data": {
      "application/javascript": [
       "\n",
       "      var mark = IPython.notebook.insert_cell_above('markdown')\n",
       "      mark.set_text(\"### Ejercicio 4. Division\")\n",
       "    "
      ],
      "text/plain": [
       "<IPython.core.display.Javascript object>"
      ]
     },
     "metadata": {},
     "output_type": "display_data"
    },
    {
     "data": {
      "application/javascript": [
       "\n",
       "    var code = IPython.notebook.insert_cell_above('code')\n",
       "    code.set_text(atob(\"JSV3cml0ZWZpbGUgdXRpbHMvc3R1ZGVudF9mdW5jdGlvbi9zdHVkZW50X1FaMV80LnB5CmRlZiBkaXZpc2lvbihhLGIpOgogICAgZGl2aSA9IC4uLgogICAgcmV0dXJuIGRpdmk=\"))\n",
       "    "
      ],
      "text/plain": [
       "<IPython.core.display.Javascript object>"
      ]
     },
     "metadata": {},
     "output_type": "display_data"
    },
    {
     "data": {
      "application/javascript": [
       "\n",
       "    var code = IPython.notebook.insert_cell_above('code')\n",
       "    code.set_text(atob(\"IS4vcnVuIENIRUNLX1NPTFVUSU9OIFFaMV80\"))\n",
       "    "
      ],
      "text/plain": [
       "<IPython.core.display.Javascript object>"
      ]
     },
     "metadata": {},
     "output_type": "display_data"
    },
    {
     "data": {
      "application/javascript": [
       "\n",
       "    var code = IPython.notebook.insert_cell_above('code')\n",
       "    code.set_text(atob(\"IS4vcnVuIFNVQk1JVF9TT0xVVElPTiBRWjFfNA==\"))\n",
       "    "
      ],
      "text/plain": [
       "<IPython.core.display.Javascript object>"
      ]
     },
     "metadata": {},
     "output_type": "display_data"
    },
    {
     "data": {
      "application/javascript": [
       "\n",
       "      var mark = IPython.notebook.insert_cell_above('markdown')\n",
       "      mark.set_text(\"### Ejercicio 3. Multiplicación\")\n",
       "    "
      ],
      "text/plain": [
       "<IPython.core.display.Javascript object>"
      ]
     },
     "metadata": {},
     "output_type": "display_data"
    },
    {
     "data": {
      "application/javascript": [
       "\n",
       "    var code = IPython.notebook.insert_cell_above('code')\n",
       "    code.set_text(atob(\"JSV3cml0ZWZpbGUgdXRpbHMvc3R1ZGVudF9mdW5jdGlvbi9zdHVkZW50X1FaMV8zLnB5CmRlZiBtdWx0aXBsaWNhY2lvbihhLGIpOgogICAgbXVsdCA9IC4uLgogICAgcmV0dXJuIG11bHQ=\"))\n",
       "    "
      ],
      "text/plain": [
       "<IPython.core.display.Javascript object>"
      ]
     },
     "metadata": {},
     "output_type": "display_data"
    },
    {
     "data": {
      "application/javascript": [
       "\n",
       "    var code = IPython.notebook.insert_cell_above('code')\n",
       "    code.set_text(atob(\"IS4vcnVuIENIRUNLX1NPTFVUSU9OIFFaMV8z\"))\n",
       "    "
      ],
      "text/plain": [
       "<IPython.core.display.Javascript object>"
      ]
     },
     "metadata": {},
     "output_type": "display_data"
    },
    {
     "data": {
      "application/javascript": [
       "\n",
       "    var code = IPython.notebook.insert_cell_above('code')\n",
       "    code.set_text(atob(\"IS4vcnVuIFNVQk1JVF9TT0xVVElPTiBRWjFfMw==\"))\n",
       "    "
      ],
      "text/plain": [
       "<IPython.core.display.Javascript object>"
      ]
     },
     "metadata": {},
     "output_type": "display_data"
    },
    {
     "data": {
      "application/javascript": [
       "\n",
       "      var mark = IPython.notebook.insert_cell_above('markdown')\n",
       "      mark.set_text(\"### Ejercicio 2. Resta\")\n",
       "    "
      ],
      "text/plain": [
       "<IPython.core.display.Javascript object>"
      ]
     },
     "metadata": {},
     "output_type": "display_data"
    },
    {
     "data": {
      "application/javascript": [
       "\n",
       "      var mark = IPython.notebook.insert_cell_above('markdown')\n",
       "      mark.set_text(\"Completa la siguiente funcion para que retorne la resta de los dos parametros que le llegan.\")\n",
       "    "
      ],
      "text/plain": [
       "<IPython.core.display.Javascript object>"
      ]
     },
     "metadata": {},
     "output_type": "display_data"
    },
    {
     "data": {
      "application/javascript": [
       "\n",
       "    var code = IPython.notebook.insert_cell_above('code')\n",
       "    code.set_text(atob(\"JSV3cml0ZWZpbGUgdXRpbHMvc3R1ZGVudF9mdW5jdGlvbi9zdHVkZW50X1FaMV8yLnB5CmRlZiByZXN0YShhLGIpOgogICAgcmVzdGEgPSAuLi4KICAgIHJldHVybiByZXN0YQ==\"))\n",
       "    "
      ],
      "text/plain": [
       "<IPython.core.display.Javascript object>"
      ]
     },
     "metadata": {},
     "output_type": "display_data"
    },
    {
     "data": {
      "application/javascript": [
       "\n",
       "    var code = IPython.notebook.insert_cell_above('code')\n",
       "    code.set_text(atob(\"IS4vcnVuIENIRUNLX1NPTFVUSU9OIFFaMV8y\"))\n",
       "    "
      ],
      "text/plain": [
       "<IPython.core.display.Javascript object>"
      ]
     },
     "metadata": {},
     "output_type": "display_data"
    },
    {
     "data": {
      "application/javascript": [
       "\n",
       "    var code = IPython.notebook.insert_cell_above('code')\n",
       "    code.set_text(atob(\"IS4vcnVuIFNVQk1JVF9TT0xVVElPTiBRWjFfMg==\"))\n",
       "    "
      ],
      "text/plain": [
       "<IPython.core.display.Javascript object>"
      ]
     },
     "metadata": {},
     "output_type": "display_data"
    }
   ],
   "source": [
    "!./run RENDER_QUIZ\n",
    "render_cell.import_cells()"
   ]
  },
  {
   "cell_type": "markdown",
   "metadata": {},
   "source": [
    "### Ejercicio 1. Suma"
   ]
  },
  {
   "cell_type": "markdown",
   "metadata": {},
   "source": [
    "Completa la siguiente funcion para que retorne la suma de los dos parametros que le llegan."
   ]
  },
  {
   "cell_type": "code",
   "execution_count": null,
   "metadata": {
    "collapsed": true
   },
   "outputs": [],
   "source": [
    "%%writefile utils/student_function/student_QZ1_1.py\n",
    "def suma(a,b):\n",
    "    suma = ...\n",
    "    return suma"
   ]
  },
  {
   "cell_type": "code",
   "execution_count": null,
   "metadata": {
    "collapsed": true
   },
   "outputs": [],
   "source": [
    "!./run CHECK_SOLUTION QZ1_1"
   ]
  },
  {
   "cell_type": "code",
   "execution_count": null,
   "metadata": {
    "collapsed": true
   },
   "outputs": [],
   "source": [
    "!./run SUBMIT_SOLUTION QZ1_1"
   ]
  },
  {
   "cell_type": "markdown",
   "metadata": {},
   "source": [
    "### Ejercicio 4. Division"
   ]
  },
  {
   "cell_type": "code",
   "execution_count": null,
   "metadata": {
    "collapsed": true
   },
   "outputs": [],
   "source": [
    "%%writefile utils/student_function/student_QZ1_4.py\n",
    "def division(a,b):\n",
    "    divi = ...\n",
    "    return divi"
   ]
  },
  {
   "cell_type": "code",
   "execution_count": null,
   "metadata": {
    "collapsed": true
   },
   "outputs": [],
   "source": [
    "!./run CHECK_SOLUTION QZ1_4"
   ]
  },
  {
   "cell_type": "code",
   "execution_count": null,
   "metadata": {
    "collapsed": true
   },
   "outputs": [],
   "source": [
    "!./run SUBMIT_SOLUTION QZ1_4"
   ]
  },
  {
   "cell_type": "markdown",
   "metadata": {},
   "source": [
    "### Ejercicio 3. Multiplicación"
   ]
  },
  {
   "cell_type": "code",
   "execution_count": null,
   "metadata": {
    "collapsed": true
   },
   "outputs": [],
   "source": [
    "%%writefile utils/student_function/student_QZ1_3.py\n",
    "def multiplicacion(a,b):\n",
    "    mult = ...\n",
    "    return mult"
   ]
  },
  {
   "cell_type": "code",
   "execution_count": null,
   "metadata": {
    "collapsed": true
   },
   "outputs": [],
   "source": [
    "!./run CHECK_SOLUTION QZ1_3"
   ]
  },
  {
   "cell_type": "code",
   "execution_count": null,
   "metadata": {
    "collapsed": true
   },
   "outputs": [],
   "source": [
    "!./run SUBMIT_SOLUTION QZ1_3"
   ]
  },
  {
   "cell_type": "markdown",
   "metadata": {},
   "source": [
    "### Ejercicio 2. Resta"
   ]
  },
  {
   "cell_type": "markdown",
   "metadata": {},
   "source": [
    "Completa la siguiente funcion para que retorne la resta de los dos parametros que le llegan."
   ]
  },
  {
   "cell_type": "code",
   "execution_count": null,
   "metadata": {
    "collapsed": true
   },
   "outputs": [],
   "source": [
    "%%writefile utils/student_function/student_QZ1_2.py\n",
    "def resta(a,b):\n",
    "    resta = ...\n",
    "    return resta"
   ]
  },
  {
   "cell_type": "code",
   "execution_count": null,
   "metadata": {
    "collapsed": true
   },
   "outputs": [],
   "source": [
    "!./run CHECK_SOLUTION QZ1_2"
   ]
  },
  {
   "cell_type": "code",
   "execution_count": null,
   "metadata": {
    "collapsed": true
   },
   "outputs": [],
   "source": [
    "!./run SUBMIT_SOLUTION QZ1_2"
   ]
  },
  {
   "cell_type": "markdown",
   "metadata": {},
   "source": [
    "### Ejercicio 1. Suma"
   ]
  },
  {
   "cell_type": "markdown",
   "metadata": {},
   "source": [
    "Completa la siguiente funcion para que retorne la suma de los dos parametros que le llegan."
   ]
  },
  {
   "cell_type": "code",
   "execution_count": null,
   "metadata": {
    "collapsed": true
   },
   "outputs": [],
   "source": [
    "%%writefile utils/student_function/student_QZ1_1.py\n",
    "def suma(a,b):\n",
    "    suma = ...\n",
    "    return suma"
   ]
  },
  {
   "cell_type": "code",
   "execution_count": null,
   "metadata": {
    "collapsed": true
   },
   "outputs": [],
   "source": [
    "!./run CHECK_SOLUTION QZ1_1"
   ]
  },
  {
   "cell_type": "code",
   "execution_count": null,
   "metadata": {
    "collapsed": true
   },
   "outputs": [],
   "source": [
    "!./run SUBMIT_SOLUTION QZ1_1"
   ]
  },
  {
   "cell_type": "markdown",
   "metadata": {},
   "source": [
    "### Ejercicio 4. Division"
   ]
  },
  {
   "cell_type": "code",
   "execution_count": null,
   "metadata": {
    "collapsed": true
   },
   "outputs": [],
   "source": [
    "%%writefile utils/student_function/student_QZ1_4.py\n",
    "def division(a,b):\n",
    "    divi = ...\n",
    "    return divi"
   ]
  },
  {
   "cell_type": "code",
   "execution_count": null,
   "metadata": {
    "collapsed": true
   },
   "outputs": [],
   "source": [
    "!./run CHECK_SOLUTION QZ1_4"
   ]
  },
  {
   "cell_type": "code",
   "execution_count": null,
   "metadata": {
    "collapsed": true
   },
   "outputs": [],
   "source": [
    "!./run SUBMIT_SOLUTION QZ1_4"
   ]
  },
  {
   "cell_type": "markdown",
   "metadata": {},
   "source": [
    "### Ejercicio 3. Multiplicación"
   ]
  },
  {
   "cell_type": "code",
   "execution_count": null,
   "metadata": {
    "collapsed": true
   },
   "outputs": [],
   "source": [
    "%%writefile utils/student_function/student_QZ1_3.py\n",
    "def multiplicacion(a,b):\n",
    "    mult = ...\n",
    "    return mult"
   ]
  },
  {
   "cell_type": "code",
   "execution_count": null,
   "metadata": {
    "collapsed": true
   },
   "outputs": [],
   "source": [
    "!./run CHECK_SOLUTION QZ1_3"
   ]
  },
  {
   "cell_type": "code",
   "execution_count": null,
   "metadata": {
    "collapsed": true
   },
   "outputs": [],
   "source": [
    "!./run SUBMIT_SOLUTION QZ1_3"
   ]
  },
  {
   "cell_type": "markdown",
   "metadata": {},
   "source": [
    "### Ejercicio 2. Resta"
   ]
  },
  {
   "cell_type": "markdown",
   "metadata": {},
   "source": [
    "Completa la siguiente funcion para que retorne la resta de los dos parametros que le llegan."
   ]
  },
  {
   "cell_type": "code",
   "execution_count": null,
   "metadata": {
    "collapsed": true
   },
   "outputs": [],
   "source": [
    "%%writefile utils/student_function/student_QZ1_2.py\n",
    "def resta(a,b):\n",
    "    resta = ...\n",
    "    return resta"
   ]
  },
  {
   "cell_type": "code",
   "execution_count": null,
   "metadata": {
    "collapsed": true
   },
   "outputs": [],
   "source": [
    "!./run CHECK_SOLUTION QZ1_2"
   ]
  },
  {
   "cell_type": "code",
   "execution_count": null,
   "metadata": {
    "collapsed": true
   },
   "outputs": [],
   "source": [
    "!./run SUBMIT_SOLUTION QZ1_2"
   ]
  },
  {
   "cell_type": "code",
   "execution_count": null,
   "metadata": {
    "collapsed": true
   },
   "outputs": [],
   "source": []
  }
 ],
 "metadata": {
  "kernelspec": {
   "display_name": "Python 2",
   "language": "python",
   "name": "python2"
  },
  "language_info": {
   "codemirror_mode": {
    "name": "ipython",
    "version": 2
   },
   "file_extension": ".py",
   "mimetype": "text/x-python",
   "name": "python",
   "nbconvert_exporter": "python",
   "pygments_lexer": "ipython2",
   "version": "2.7.14"
  }
 },
 "nbformat": 4,
 "nbformat_minor": 2
}
