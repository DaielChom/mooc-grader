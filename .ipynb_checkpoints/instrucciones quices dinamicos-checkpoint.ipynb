{
 "cells": [
  {
   "cell_type": "markdown",
   "metadata": {},
   "source": [
    "<h2 style=\"color:#00796B\"> PARAMETROS </h2>\n",
    "\n",
    "Tanto los quices como los problemset tienen los mismos parametros, a excepsion que en la parte de 'problems' se debera asignar la cantidad de ejercicios que se le asignaran al estudiante. Complete el sigueinte diccionario con los parametros de la presente seccion."
   ]
  },
  {
   "cell_type": "code",
   "execution_count": 5,
   "metadata": {
    "collapsed": true
   },
   "outputs": [],
   "source": [
    "PARQUIZ = {'problems':  3,\n",
    "       'deadlines':{'2017/09/20 16:00:00 [-0500]':{'penalty': 1.0,'name':'finaldeadline'}},\n",
    "       'maxgrade': 5.0\n",
    "      }"
   ]
  },
  {
   "cell_type": "code",
   "execution_count": 6,
   "metadata": {},
   "outputs": [
    {
     "data": {
      "text/plain": [
       "3"
      ]
     },
     "execution_count": 6,
     "metadata": {},
     "output_type": "execute_result"
    }
   ],
   "source": [
    "PARQUIZ['problems']"
   ]
  },
  {
   "cell_type": "markdown",
   "metadata": {
    "collapsed": true
   },
   "source": [
    "Estos parametros igual que con los parametros de los problemset serán guardados en "
   ]
  },
  {
   "cell_type": "code",
   "execution_count": null,
   "metadata": {
    "collapsed": true
   },
   "outputs": [],
   "source": [
    "%run -i ./utils/rlxmooc.py\n",
    "add_deadline()"
   ]
  },
  {
   "cell_type": "markdown",
   "metadata": {},
   "source": [
    "###INIT###"
   ]
  },
  {
   "cell_type": "markdown",
   "metadata": {},
   "source": [
    "### Ejercicio 1. Suma"
   ]
  },
  {
   "cell_type": "markdown",
   "metadata": {},
   "source": [
    "Completa la siguiente funcion para que retorne la suma de los dos parametros que le llegan."
   ]
  },
  {
   "cell_type": "code",
   "execution_count": 6,
   "metadata": {
    "collapsed": true
   },
   "outputs": [],
   "source": [
    "%%writefile utils/student_function/student_QZ1_1.py\n",
    "def suma(a,b):\n",
    "    suma = ...\n",
    "    return suma"
   ]
  },
  {
   "cell_type": "code",
   "execution_count": null,
   "metadata": {
    "collapsed": true
   },
   "outputs": [],
   "source": [
    "!./run CHECK_SOLUTION QZ1_1"
   ]
  },
  {
   "cell_type": "code",
   "execution_count": null,
   "metadata": {
    "collapsed": true
   },
   "outputs": [],
   "source": [
    "!./run SUBMIT_SOLUTION QZ1_1"
   ]
  },
  {
   "cell_type": "markdown",
   "metadata": {},
   "source": [
    "###END###"
   ]
  },
  {
   "cell_type": "code",
   "execution_count": 6,
   "metadata": {},
   "outputs": [
    {
     "name": "stdout",
     "output_type": "stream",
     "text": [
      "Entre una celda FIN y una INICIO el profesor puede probar codigo y ese no será renderizado.\n",
      "Se podrian incluso crear los granders aqui mismo en el banco, pues el archivo banco estará encriptado\n"
     ]
    }
   ],
   "source": [
    "print \"Entre una celda FIN y una INICIO el profesor puede probar codigo y ese no será renderizado.\"\n",
    "print \"Se podrian incluso crear los granders aqui mismo en el banco, pues el archivo banco estará encriptado\""
   ]
  },
  {
   "cell_type": "markdown",
   "metadata": {},
   "source": [
    "#### Grader Ejercicio 1"
   ]
  },
  {
   "cell_type": "code",
   "execution_count": 2,
   "metadata": {},
   "outputs": [
    {
     "name": "stdout",
     "output_type": "stream",
     "text": [
      "Overwriting ./utils/graders/grader_QZ1_1.sh\n"
     ]
    }
   ],
   "source": [
    "%%writefile ./utils/graders/grader_QZ1_1.sh\n",
    "#!/usr/bin/python\n",
    "\n",
    "import sys\n",
    "sys.path.append(\"./utils/student_function/\")\n",
    "\n",
    "try:\n",
    "    import student_QZ1_1 as st\n",
    "\n",
    "    def suma_grade(a,b):\n",
    "        return a+b\n",
    "\n",
    "    ## Calificacion de la funcion del estudiante\n",
    "\n",
    "    if st.suma(12, 24) == suma_grade(12, 24):\n",
    "        print \"Felicitaciones##5\"\n",
    "    else:\n",
    "        print \"Vuelve a intentarlo##1.3\"\n",
    "except:\n",
    "    print \"Error\""
   ]
  },
  {
   "cell_type": "markdown",
   "metadata": {
    "collapsed": true
   },
   "source": [
    "###INIT###"
   ]
  },
  {
   "cell_type": "markdown",
   "metadata": {},
   "source": [
    "### Ejercicio 2. Resta"
   ]
  },
  {
   "cell_type": "markdown",
   "metadata": {},
   "source": [
    "Completa la siguiente funcion para que retorne la resta de los dos parametros que le llegan."
   ]
  },
  {
   "cell_type": "code",
   "execution_count": null,
   "metadata": {
    "collapsed": true
   },
   "outputs": [],
   "source": [
    "%%writefile utils/student_function/student_QZ1_2.py\n",
    "def resta(a,b):\n",
    "    resta = ...\n",
    "    return resta"
   ]
  },
  {
   "cell_type": "code",
   "execution_count": null,
   "metadata": {
    "collapsed": true
   },
   "outputs": [],
   "source": [
    "!./run CHECK_SOLUTION QZ1_2"
   ]
  },
  {
   "cell_type": "code",
   "execution_count": null,
   "metadata": {
    "collapsed": true
   },
   "outputs": [],
   "source": [
    "!./run SUBMIT_SOLUTION QZ1_2"
   ]
  },
  {
   "cell_type": "markdown",
   "metadata": {},
   "source": [
    "###END###"
   ]
  },
  {
   "cell_type": "markdown",
   "metadata": {},
   "source": [
    "#### Grader Ejercicio 2"
   ]
  },
  {
   "cell_type": "code",
   "execution_count": 20,
   "metadata": {},
   "outputs": [
    {
     "name": "stdout",
     "output_type": "stream",
     "text": [
      "Writing ./utils/graders/grader_QZ1_2.sh\n"
     ]
    }
   ],
   "source": [
    "%%writefile ./utils/graders/grader_QZ1_2.sh\n",
    "#!/usr/bin/python\n",
    "\n",
    "import sys\n",
    "sys.path.append(\"./utils/student_function/\")\n",
    "\n",
    "import student_QZ1_2 as st\n",
    "\n",
    "def resta_grade(a,b):\n",
    "    return a-b\n",
    "\n",
    "## Calificacion de la funcion del estudiante\n",
    "if st.resta(12,24) == resta_grade(12, 24):\n",
    "    print \"Felicitaciones##5\"\n",
    "else:\n",
    "    print \"Vuelve a intentarlo##1.3\""
   ]
  },
  {
   "cell_type": "markdown",
   "metadata": {},
   "source": [
    "###INIT###"
   ]
  },
  {
   "cell_type": "markdown",
   "metadata": {},
   "source": [
    "### Ejercicio 3. Multiplicación"
   ]
  },
  {
   "cell_type": "code",
   "execution_count": null,
   "metadata": {
    "collapsed": true
   },
   "outputs": [],
   "source": [
    "%%writefile utils/student_function/student_QZ1_3.py\n",
    "def multiplicacion(a,b):\n",
    "    mult = ...\n",
    "    return mult"
   ]
  },
  {
   "cell_type": "code",
   "execution_count": null,
   "metadata": {
    "collapsed": true
   },
   "outputs": [],
   "source": [
    "!./run CHECK_SOLUTION QZ1_3"
   ]
  },
  {
   "cell_type": "code",
   "execution_count": null,
   "metadata": {
    "collapsed": true
   },
   "outputs": [],
   "source": [
    "!./run SUBMIT_SOLUTION QZ1_3"
   ]
  },
  {
   "cell_type": "markdown",
   "metadata": {},
   "source": [
    "###END###"
   ]
  },
  {
   "cell_type": "markdown",
   "metadata": {},
   "source": [
    "#### Grader Ejercicio 3"
   ]
  },
  {
   "cell_type": "code",
   "execution_count": 22,
   "metadata": {},
   "outputs": [
    {
     "name": "stdout",
     "output_type": "stream",
     "text": [
      "Writing ./utils/graders/grader_QZ1_3.sh\n"
     ]
    }
   ],
   "source": [
    "%%writefile ./utils/graders/grader_QZ1_3.sh\n",
    "#!/usr/bin/python\n",
    "\n",
    "import sys\n",
    "sys.path.append(\"./utils/student_function/\")\n",
    "\n",
    "import student_QZ1_3 as st\n",
    "\n",
    "def multiplicacion_grade(a,b):\n",
    "    return a*b\n",
    "\n",
    "## Calificacion de la funcion del estudiante\n",
    "if st.multiplicacion(12, 24) == multiplicacion_grade(12, 24):\n",
    "    print \"Felicitaciones##5\"\n",
    "else:\n",
    "    print \"Vuelve a intentarlo##1.3\""
   ]
  },
  {
   "cell_type": "markdown",
   "metadata": {},
   "source": [
    "###INIT###"
   ]
  },
  {
   "cell_type": "markdown",
   "metadata": {},
   "source": [
    "### Ejercicio 4. Division"
   ]
  },
  {
   "cell_type": "code",
   "execution_count": null,
   "metadata": {
    "collapsed": true
   },
   "outputs": [],
   "source": [
    "%%writefile utils/student_function/student_QZ1_4.py\n",
    "def division(a,b):\n",
    "    divi = ...\n",
    "    return divi"
   ]
  },
  {
   "cell_type": "code",
   "execution_count": null,
   "metadata": {
    "collapsed": true
   },
   "outputs": [],
   "source": [
    "!./run CHECK_SOLUTION QZ1_4"
   ]
  },
  {
   "cell_type": "code",
   "execution_count": null,
   "metadata": {
    "collapsed": true
   },
   "outputs": [],
   "source": [
    "!./run SUBMIT_SOLUTION QZ1_4"
   ]
  },
  {
   "cell_type": "markdown",
   "metadata": {},
   "source": [
    "###END###"
   ]
  },
  {
   "cell_type": "markdown",
   "metadata": {},
   "source": [
    "#### Grader Ejercicio 4"
   ]
  },
  {
   "cell_type": "code",
   "execution_count": 23,
   "metadata": {},
   "outputs": [
    {
     "name": "stdout",
     "output_type": "stream",
     "text": [
      "Writing ./utils/graders/grader_QZ1_4.sh\n"
     ]
    }
   ],
   "source": [
    "%%writefile ./utils/graders/grader_QZ1_4.sh\n",
    "#!/usr/bin/python\n",
    "\n",
    "import sys\n",
    "sys.path.append(\"./utils/student_function/\")\n",
    "\n",
    "import student_QZ1_4 as st\n",
    "\n",
    "def division_grade(a,b):\n",
    "    return a/b\n",
    "\n",
    "## Calificacion de la funcion del estudiante\n",
    "if st.division(12, 24) == division_grade(12, 24):\n",
    "    print \"Felicitaciones##5\"\n",
    "else:\n",
    "    print \"Vuelve a intentarlo##1.3\""
   ]
  },
  {
   "cell_type": "markdown",
   "metadata": {},
   "source": [
    "###INIT###"
   ]
  },
  {
   "cell_type": "markdown",
   "metadata": {},
   "source": [
    "### Ejercicio 5. Animal por E."
   ]
  },
  {
   "cell_type": "markdown",
   "metadata": {},
   "source": [
    "El ejercicio consite en encontrar el nombre de un animal que empiece por E."
   ]
  },
  {
   "cell_type": "code",
   "execution_count": null,
   "metadata": {
    "collapsed": true
   },
   "outputs": [],
   "source": [
    "%%writefile utils/student_function/student_QZ1_5.py\n",
    "def animalE():\n",
    "    animal = ...\n",
    "    return animal"
   ]
  },
  {
   "cell_type": "code",
   "execution_count": null,
   "metadata": {
    "collapsed": true
   },
   "outputs": [],
   "source": [
    "!./run CHECK_SOLUTION QZ1_5"
   ]
  },
  {
   "cell_type": "code",
   "execution_count": null,
   "metadata": {
    "collapsed": true
   },
   "outputs": [],
   "source": [
    "!./run SUBMIT_SOLUTION QZ1_5"
   ]
  },
  {
   "cell_type": "markdown",
   "metadata": {},
   "source": [
    "###END###"
   ]
  },
  {
   "cell_type": "markdown",
   "metadata": {},
   "source": [
    "#### Grader Ejercicio 5"
   ]
  },
  {
   "cell_type": "code",
   "execution_count": 13,
   "metadata": {},
   "outputs": [
    {
     "name": "stdout",
     "output_type": "stream",
     "text": [
      "Overwriting ./utils/graders/grader_QZ1_5.sh\n"
     ]
    }
   ],
   "source": [
    "%%writefile ./utils/graders/grader_QZ1_5.sh\n",
    "#!/usr/bin/python\n",
    "\n",
    "import sys\n",
    "sys.path.append(\"./utils/student_function/\")\n",
    "\n",
    "import student_QZ1_5 as st\n",
    "\n",
    "def animale_grade():\n",
    "    return \"Elefante\"\n",
    "\n",
    "## Calificacion de la funcion del estudiante\n",
    "if st.division() == animale_grade():\n",
    "    print \"Felicitaciones##5\"\n",
    "    \n",
    "else:\n",
    "    print \"Vuelve a intentarlo##1.3\""
   ]
  },
  {
   "cell_type": "markdown",
   "metadata": {},
   "source": [
    "###INIT###"
   ]
  },
  {
   "cell_type": "markdown",
   "metadata": {},
   "source": [
    "### Ejercicio 6. Tercera vocal"
   ]
  },
  {
   "cell_type": "markdown",
   "metadata": {},
   "source": [
    "Escribe la tercera voval del alfabeto"
   ]
  },
  {
   "cell_type": "code",
   "execution_count": null,
   "metadata": {
    "collapsed": true
   },
   "outputs": [],
   "source": [
    "%%writefile utils/student_function/student_QZ1_6.py\n",
    "def division():\n",
    "    tercera = ...\n",
    "    return tercera"
   ]
  },
  {
   "cell_type": "code",
   "execution_count": null,
   "metadata": {
    "collapsed": true
   },
   "outputs": [],
   "source": [
    "!./run CHECK_SOLUTION QZ1_6"
   ]
  },
  {
   "cell_type": "code",
   "execution_count": null,
   "metadata": {
    "collapsed": true
   },
   "outputs": [],
   "source": [
    "!./run SUBMIT_SOLUTION QZ1_6"
   ]
  },
  {
   "cell_type": "markdown",
   "metadata": {},
   "source": [
    "###END###"
   ]
  },
  {
   "cell_type": "markdown",
   "metadata": {},
   "source": [
    "#### Grader Ejercicio 6"
   ]
  },
  {
   "cell_type": "code",
   "execution_count": 6,
   "metadata": {},
   "outputs": [
    {
     "name": "stdout",
     "output_type": "stream",
     "text": [
      "Writing ./utils/graders/grader_QZ1_6.sh\n"
     ]
    }
   ],
   "source": [
    "%%writefile ./utils/graders/grader_QZ1_6.sh\n",
    "#!/usr/bin/python\n",
    "\n",
    "import sys\n",
    "sys.path.append(\"./utils/student_function/\")\n",
    "\n",
    "import student_QZ1_6 as st\n",
    "\n",
    "def vocal_grade():\n",
    "    return \"i\"\n",
    "\n",
    "## Calificacion de la funcion del estudiante\n",
    "if st.division() == vocal_grade():\n",
    "    print \"Felicitaciones##5\"\n",
    "else:\n",
    "    print \"Vuelve a intentarlo##1.3\""
   ]
  },
  {
   "cell_type": "markdown",
   "metadata": {},
   "source": [
    "<center>\n",
    "<h2 style=\"color:#689F38\"> INSTRUCCIONES </h2>\n",
    "<center/>"
   ]
  },
  {
   "cell_type": "markdown",
   "metadata": {},
   "source": [
    "<h3 style=\"color:#689F38\"> Generar BancoPy </h3>"
   ]
  },
  {
   "cell_type": "markdown",
   "metadata": {
    "collapsed": true
   },
   "source": [
    "Las siguientes lineas son para generar un archivo `banco.py` encriptado, donde estara el banco de ejercicios para el estudiante. Para esto guarde `(Save - Ctrl S)` el presente archivo antes de ejecutar las siguientes lineas. "
   ]
  },
  {
   "cell_type": "code",
   "execution_count": 11,
   "metadata": {},
   "outputs": [
    {
     "name": "stdout",
     "output_type": "stream",
     "text": [
      "5.0,\r\n"
     ]
    }
   ],
   "source": [
    "!./run GENERAR_BANCO_PY QZ1"
   ]
  },
  {
   "cell_type": "markdown",
   "metadata": {},
   "source": [
    "Una vez generado el archivo `banco.py` se recomienda remover el presente notebook `(banco.ipynb)` del paquete `Quiz_#` y luego renombrar dicho paquete ej. `Quiz_1`. Una vez remobido el notebook del banco y  renombrado el paquete, este queda listo para su entrega a los estudiantes."
   ]
  },
  {
   "cell_type": "markdown",
   "metadata": {},
   "source": [
    "<h3 style=\"color:#689F38\"> Encriptar Graders </h3>"
   ]
  },
  {
   "cell_type": "markdown",
   "metadata": {},
   "source": [
    "El funcionamiento de los ejercicios de cada `quiz` son calificados de la misma manera que los de un `problemset`, asi que tambien necesitan de graders, por ende deben encriptarse."
   ]
  },
  {
   "cell_type": "code",
   "execution_count": null,
   "metadata": {
    "collapsed": true
   },
   "outputs": [],
   "source": [
    "path = !ls ./utils/graders/ | grep .sh\n",
    "\n",
    "PATH = \"\"\n",
    "for PATH in path:\n",
    "    \n",
    "    archivo_encri = open(\"./utils/graders/\"+PATH[:-2]+\"grader\",\"w\")\n",
    "    data = !utils/crypt ./utils/graders/\"{PATH}\"\n",
    "    print \"Tamaño: \", len(data)\n",
    "    archivo_encri.write(data[0])\n",
    "    archivo_encri.close()\n",
    "\n",
    "    print \"Archivo Encriptado\"\n",
    "    \n",
    "!rm ./utils/graders/*.sh"
   ]
  },
  {
   "cell_type": "markdown",
   "metadata": {},
   "source": [
    "Comprueba que los archivos hayan quedado completamente encriptados."
   ]
  },
  {
   "cell_type": "code",
   "execution_count": 18,
   "metadata": {},
   "outputs": [
    {
     "name": "stdout",
     "output_type": "stream",
     "text": [
      "#!/usr/bin/python\r\n",
      "\r\n",
      "import sys\r\n",
      "sys.path.append(\"./utils/student_function/\")\r\n",
      "\r\n",
      "import student_QZ1_5 as st\r\n",
      "\r\n",
      "def animale_grade():\r\n",
      "    return \"Elefante\"\r\n",
      "\r\n",
      "## Calificacion de la funcion del estudiante\r\n",
      "if st.division() == animale_grade():\r\n",
      "    print \"Felicitaciones##5\"\r\n",
      "    \r\n",
      "else:\r\n",
      "    print \"Vuelve a intentarlo##1.3\""
     ]
    }
   ],
   "source": [
    "!utils/crypt ./utils/graders/grader_QZ1_5.grader"
   ]
  },
  {
   "cell_type": "code",
   "execution_count": null,
   "metadata": {
    "collapsed": true
   },
   "outputs": [],
   "source": []
  }
 ],
 "metadata": {
  "kernelspec": {
   "display_name": "Python 2",
   "language": "python",
   "name": "python2"
  },
  "language_info": {
   "codemirror_mode": {
    "name": "ipython",
    "version": 2
   },
   "file_extension": ".py",
   "mimetype": "text/x-python",
   "name": "python",
   "nbconvert_exporter": "python",
   "pygments_lexer": "ipython2",
   "version": "2.7.14"
  }
 },
 "nbformat": 4,
 "nbformat_minor": 2
}
