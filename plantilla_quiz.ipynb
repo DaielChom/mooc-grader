{
 "cells": [
  {
   "cell_type": "code",
   "execution_count": 3,
   "metadata": {},
   "outputs": [
    {
     "name": "stdout",
     "output_type": "stream",
     "text": [
      "CLICK ON THIS LINK TO AUTHENTICATE WITH YOUR GMAIL ACCOUNT\n",
      "https://accounts.google.com/o/oauth2/auth?scope=profile+email&redirect_uri=http%3A%2F%2Flocalhost%3A8111&response_type=code&client_id=290656168901-nqtt75qvf2qpski4n6eb99oaj4sg2j2f.apps.googleusercontent.com&access_type=offline\n",
      "waiting for authentication ...\n",
      "authentication succeeded\n"
     ]
    },
    {
     "data": {
      "text/html": [
       "<table><tr><td><img src='https://lh5.googleusercontent.com/-3BVLFJNc7XA/AAAAAAAAAAI/AAAAAAAANSs/DHzP4vmq0f8/photo.jpg' width=60 height=60/></td><td>danielcarvajalpatino@gmail.com<br/>Daniel Carvajal Patiño<br/>google id: 111322277185255579462<br/>authorization code: 4/AACo6PyD7a1HGBRJ95NPLYxnR32EJn1pwmCm7Ccqlo-xt_EvhnLyalLg8sCmnh0DGkFdcaNlou80vyGKWFDLkmU</td></tr></table>"
      ],
      "text/plain": [
       "<IPython.core.display.HTML object>"
      ]
     },
     "execution_count": 3,
     "metadata": {},
     "output_type": "execute_result"
    }
   ],
   "source": [
    "from mooclib import *\n",
    "import inspect, urllib\n",
    "import render_cell\n",
    "html, auth_code, userinfo = google_authenticate(PORT_NUMBER=8111)\n",
    "html"
   ]
  },
  {
   "cell_type": "code",
   "execution_count": 20,
   "metadata": {},
   "outputs": [
    {
     "data": {
      "application/javascript": [
       "\n",
       "      var mark = IPython.notebook.insert_cell_above('markdown')\n",
       "      mark.set_text(\"###INIT###\")\n",
       "    "
      ],
      "text/plain": [
       "<IPython.core.display.Javascript object>"
      ]
     },
     "metadata": {},
     "output_type": "display_data"
    },
    {
     "data": {
      "application/javascript": [
       "\n",
       "      var mark = IPython.notebook.insert_cell_above('markdown')\n",
       "      mark.set_text(\"###INIT###\")\n",
       "    "
      ],
      "text/plain": [
       "<IPython.core.display.Javascript object>"
      ]
     },
     "metadata": {},
     "output_type": "display_data"
    },
    {
     "data": {
      "application/javascript": [
       "\n",
       "      var mark = IPython.notebook.insert_cell_above('markdown')\n",
       "      mark.set_text(\"###INIT###\")\n",
       "    "
      ],
      "text/plain": [
       "<IPython.core.display.Javascript object>"
      ]
     },
     "metadata": {},
     "output_type": "display_data"
    },
    {
     "data": {
      "application/javascript": [
       "\n",
       "      var mark = IPython.notebook.insert_cell_above('markdown')\n",
       "      mark.set_text(\"###INIT###\")\n",
       "    "
      ],
      "text/plain": [
       "<IPython.core.display.Javascript object>"
      ]
     },
     "metadata": {},
     "output_type": "display_data"
    }
   ],
   "source": [
    "!./run RENDER_QUIZ\n",
    "render_cell.import_cells()"
   ]
  }
 ],
 "metadata": {
  "kernelspec": {
   "display_name": "Python 2",
   "language": "python",
   "name": "python2"
  },
  "language_info": {
   "codemirror_mode": {
    "name": "ipython",
    "version": 2
   },
   "file_extension": ".py",
   "mimetype": "text/x-python",
   "name": "python",
   "nbconvert_exporter": "python",
   "pygments_lexer": "ipython2",
   "version": "2.7.13"
  }
 },
 "nbformat": 4,
 "nbformat_minor": 2
}
